{
  "nbformat": 4,
  "nbformat_minor": 0,
  "metadata": {
    "colab": {
      "provenance": [],
      "gpuType": "T4"
    },
    "kernelspec": {
      "name": "python3",
      "display_name": "Python 3"
    },
    "language_info": {
      "name": "python"
    },
    "accelerator": "GPU",
    "widgets": {
      "application/vnd.jupyter.widget-state+json": {
        "b47ce66be34646ae810fdab8bec9d8f8": {
          "model_module": "@jupyter-widgets/controls",
          "model_name": "VBoxModel",
          "model_module_version": "1.5.0",
          "state": {
            "_dom_classes": [],
            "_model_module": "@jupyter-widgets/controls",
            "_model_module_version": "1.5.0",
            "_model_name": "VBoxModel",
            "_view_count": null,
            "_view_module": "@jupyter-widgets/controls",
            "_view_module_version": "1.5.0",
            "_view_name": "VBoxView",
            "box_style": "",
            "children": [
              "IPY_MODEL_bbd72ae2a2d7476c988459ffe6430502",
              "IPY_MODEL_7706d6a29d9c4a708d555f37c7a59062"
            ],
            "layout": "IPY_MODEL_2cd5c2e65bc2419b824547d5aeaf1f30"
          }
        },
        "bbd72ae2a2d7476c988459ffe6430502": {
          "model_module": "@jupyter-widgets/controls",
          "model_name": "LabelModel",
          "model_module_version": "1.5.0",
          "state": {
            "_dom_classes": [],
            "_model_module": "@jupyter-widgets/controls",
            "_model_module_version": "1.5.0",
            "_model_name": "LabelModel",
            "_view_count": null,
            "_view_module": "@jupyter-widgets/controls",
            "_view_module_version": "1.5.0",
            "_view_name": "LabelView",
            "description": "",
            "description_tooltip": null,
            "layout": "IPY_MODEL_fc182aacd17e46a79a2244bd116a4cd4",
            "placeholder": "​",
            "style": "IPY_MODEL_c821aae357a64aaeafc36c8d4c6db2b0",
            "value": "0.014 MB of 0.014 MB uploaded\r"
          }
        },
        "7706d6a29d9c4a708d555f37c7a59062": {
          "model_module": "@jupyter-widgets/controls",
          "model_name": "FloatProgressModel",
          "model_module_version": "1.5.0",
          "state": {
            "_dom_classes": [],
            "_model_module": "@jupyter-widgets/controls",
            "_model_module_version": "1.5.0",
            "_model_name": "FloatProgressModel",
            "_view_count": null,
            "_view_module": "@jupyter-widgets/controls",
            "_view_module_version": "1.5.0",
            "_view_name": "ProgressView",
            "bar_style": "",
            "description": "",
            "description_tooltip": null,
            "layout": "IPY_MODEL_026572dcfdb847a8bfbb20a4593a8dfa",
            "max": 1,
            "min": 0,
            "orientation": "horizontal",
            "style": "IPY_MODEL_6237f180fc544b769bb95fb7dd188a6f",
            "value": 1
          }
        },
        "2cd5c2e65bc2419b824547d5aeaf1f30": {
          "model_module": "@jupyter-widgets/base",
          "model_name": "LayoutModel",
          "model_module_version": "1.2.0",
          "state": {
            "_model_module": "@jupyter-widgets/base",
            "_model_module_version": "1.2.0",
            "_model_name": "LayoutModel",
            "_view_count": null,
            "_view_module": "@jupyter-widgets/base",
            "_view_module_version": "1.2.0",
            "_view_name": "LayoutView",
            "align_content": null,
            "align_items": null,
            "align_self": null,
            "border": null,
            "bottom": null,
            "display": null,
            "flex": null,
            "flex_flow": null,
            "grid_area": null,
            "grid_auto_columns": null,
            "grid_auto_flow": null,
            "grid_auto_rows": null,
            "grid_column": null,
            "grid_gap": null,
            "grid_row": null,
            "grid_template_areas": null,
            "grid_template_columns": null,
            "grid_template_rows": null,
            "height": null,
            "justify_content": null,
            "justify_items": null,
            "left": null,
            "margin": null,
            "max_height": null,
            "max_width": null,
            "min_height": null,
            "min_width": null,
            "object_fit": null,
            "object_position": null,
            "order": null,
            "overflow": null,
            "overflow_x": null,
            "overflow_y": null,
            "padding": null,
            "right": null,
            "top": null,
            "visibility": null,
            "width": null
          }
        },
        "fc182aacd17e46a79a2244bd116a4cd4": {
          "model_module": "@jupyter-widgets/base",
          "model_name": "LayoutModel",
          "model_module_version": "1.2.0",
          "state": {
            "_model_module": "@jupyter-widgets/base",
            "_model_module_version": "1.2.0",
            "_model_name": "LayoutModel",
            "_view_count": null,
            "_view_module": "@jupyter-widgets/base",
            "_view_module_version": "1.2.0",
            "_view_name": "LayoutView",
            "align_content": null,
            "align_items": null,
            "align_self": null,
            "border": null,
            "bottom": null,
            "display": null,
            "flex": null,
            "flex_flow": null,
            "grid_area": null,
            "grid_auto_columns": null,
            "grid_auto_flow": null,
            "grid_auto_rows": null,
            "grid_column": null,
            "grid_gap": null,
            "grid_row": null,
            "grid_template_areas": null,
            "grid_template_columns": null,
            "grid_template_rows": null,
            "height": null,
            "justify_content": null,
            "justify_items": null,
            "left": null,
            "margin": null,
            "max_height": null,
            "max_width": null,
            "min_height": null,
            "min_width": null,
            "object_fit": null,
            "object_position": null,
            "order": null,
            "overflow": null,
            "overflow_x": null,
            "overflow_y": null,
            "padding": null,
            "right": null,
            "top": null,
            "visibility": null,
            "width": null
          }
        },
        "c821aae357a64aaeafc36c8d4c6db2b0": {
          "model_module": "@jupyter-widgets/controls",
          "model_name": "DescriptionStyleModel",
          "model_module_version": "1.5.0",
          "state": {
            "_model_module": "@jupyter-widgets/controls",
            "_model_module_version": "1.5.0",
            "_model_name": "DescriptionStyleModel",
            "_view_count": null,
            "_view_module": "@jupyter-widgets/base",
            "_view_module_version": "1.2.0",
            "_view_name": "StyleView",
            "description_width": ""
          }
        },
        "026572dcfdb847a8bfbb20a4593a8dfa": {
          "model_module": "@jupyter-widgets/base",
          "model_name": "LayoutModel",
          "model_module_version": "1.2.0",
          "state": {
            "_model_module": "@jupyter-widgets/base",
            "_model_module_version": "1.2.0",
            "_model_name": "LayoutModel",
            "_view_count": null,
            "_view_module": "@jupyter-widgets/base",
            "_view_module_version": "1.2.0",
            "_view_name": "LayoutView",
            "align_content": null,
            "align_items": null,
            "align_self": null,
            "border": null,
            "bottom": null,
            "display": null,
            "flex": null,
            "flex_flow": null,
            "grid_area": null,
            "grid_auto_columns": null,
            "grid_auto_flow": null,
            "grid_auto_rows": null,
            "grid_column": null,
            "grid_gap": null,
            "grid_row": null,
            "grid_template_areas": null,
            "grid_template_columns": null,
            "grid_template_rows": null,
            "height": null,
            "justify_content": null,
            "justify_items": null,
            "left": null,
            "margin": null,
            "max_height": null,
            "max_width": null,
            "min_height": null,
            "min_width": null,
            "object_fit": null,
            "object_position": null,
            "order": null,
            "overflow": null,
            "overflow_x": null,
            "overflow_y": null,
            "padding": null,
            "right": null,
            "top": null,
            "visibility": null,
            "width": null
          }
        },
        "6237f180fc544b769bb95fb7dd188a6f": {
          "model_module": "@jupyter-widgets/controls",
          "model_name": "ProgressStyleModel",
          "model_module_version": "1.5.0",
          "state": {
            "_model_module": "@jupyter-widgets/controls",
            "_model_module_version": "1.5.0",
            "_model_name": "ProgressStyleModel",
            "_view_count": null,
            "_view_module": "@jupyter-widgets/base",
            "_view_module_version": "1.2.0",
            "_view_name": "StyleView",
            "bar_color": null,
            "description_width": ""
          }
        },
        "de762299326f41dc9c36e341dffaf058": {
          "model_module": "@jupyter-widgets/controls",
          "model_name": "VBoxModel",
          "model_module_version": "1.5.0",
          "state": {
            "_dom_classes": [],
            "_model_module": "@jupyter-widgets/controls",
            "_model_module_version": "1.5.0",
            "_model_name": "VBoxModel",
            "_view_count": null,
            "_view_module": "@jupyter-widgets/controls",
            "_view_module_version": "1.5.0",
            "_view_name": "VBoxView",
            "box_style": "",
            "children": [
              "IPY_MODEL_6564d0cd207c450ebf2eaa493516926a",
              "IPY_MODEL_b5217df0b1a04c1286b4fecd9a1d6a37"
            ],
            "layout": "IPY_MODEL_78f215dde74541ec8e0c70cc870b1db8"
          }
        },
        "6564d0cd207c450ebf2eaa493516926a": {
          "model_module": "@jupyter-widgets/controls",
          "model_name": "LabelModel",
          "model_module_version": "1.5.0",
          "state": {
            "_dom_classes": [],
            "_model_module": "@jupyter-widgets/controls",
            "_model_module_version": "1.5.0",
            "_model_name": "LabelModel",
            "_view_count": null,
            "_view_module": "@jupyter-widgets/controls",
            "_view_module_version": "1.5.0",
            "_view_name": "LabelView",
            "description": "",
            "description_tooltip": null,
            "layout": "IPY_MODEL_085fe288cf0a423da10c2ca4178fa02f",
            "placeholder": "​",
            "style": "IPY_MODEL_8fe30db8f2fe4ece88aa7fbee7881b43",
            "value": "0.252 MB of 0.252 MB uploaded\r"
          }
        },
        "b5217df0b1a04c1286b4fecd9a1d6a37": {
          "model_module": "@jupyter-widgets/controls",
          "model_name": "FloatProgressModel",
          "model_module_version": "1.5.0",
          "state": {
            "_dom_classes": [],
            "_model_module": "@jupyter-widgets/controls",
            "_model_module_version": "1.5.0",
            "_model_name": "FloatProgressModel",
            "_view_count": null,
            "_view_module": "@jupyter-widgets/controls",
            "_view_module_version": "1.5.0",
            "_view_name": "ProgressView",
            "bar_style": "",
            "description": "",
            "description_tooltip": null,
            "layout": "IPY_MODEL_34eb8dd07fcb4045b1661d075d4abb5c",
            "max": 1,
            "min": 0,
            "orientation": "horizontal",
            "style": "IPY_MODEL_7a3f4cf8b6d34cf483ef4969c1e35a60",
            "value": 1
          }
        },
        "78f215dde74541ec8e0c70cc870b1db8": {
          "model_module": "@jupyter-widgets/base",
          "model_name": "LayoutModel",
          "model_module_version": "1.2.0",
          "state": {
            "_model_module": "@jupyter-widgets/base",
            "_model_module_version": "1.2.0",
            "_model_name": "LayoutModel",
            "_view_count": null,
            "_view_module": "@jupyter-widgets/base",
            "_view_module_version": "1.2.0",
            "_view_name": "LayoutView",
            "align_content": null,
            "align_items": null,
            "align_self": null,
            "border": null,
            "bottom": null,
            "display": null,
            "flex": null,
            "flex_flow": null,
            "grid_area": null,
            "grid_auto_columns": null,
            "grid_auto_flow": null,
            "grid_auto_rows": null,
            "grid_column": null,
            "grid_gap": null,
            "grid_row": null,
            "grid_template_areas": null,
            "grid_template_columns": null,
            "grid_template_rows": null,
            "height": null,
            "justify_content": null,
            "justify_items": null,
            "left": null,
            "margin": null,
            "max_height": null,
            "max_width": null,
            "min_height": null,
            "min_width": null,
            "object_fit": null,
            "object_position": null,
            "order": null,
            "overflow": null,
            "overflow_x": null,
            "overflow_y": null,
            "padding": null,
            "right": null,
            "top": null,
            "visibility": null,
            "width": null
          }
        },
        "085fe288cf0a423da10c2ca4178fa02f": {
          "model_module": "@jupyter-widgets/base",
          "model_name": "LayoutModel",
          "model_module_version": "1.2.0",
          "state": {
            "_model_module": "@jupyter-widgets/base",
            "_model_module_version": "1.2.0",
            "_model_name": "LayoutModel",
            "_view_count": null,
            "_view_module": "@jupyter-widgets/base",
            "_view_module_version": "1.2.0",
            "_view_name": "LayoutView",
            "align_content": null,
            "align_items": null,
            "align_self": null,
            "border": null,
            "bottom": null,
            "display": null,
            "flex": null,
            "flex_flow": null,
            "grid_area": null,
            "grid_auto_columns": null,
            "grid_auto_flow": null,
            "grid_auto_rows": null,
            "grid_column": null,
            "grid_gap": null,
            "grid_row": null,
            "grid_template_areas": null,
            "grid_template_columns": null,
            "grid_template_rows": null,
            "height": null,
            "justify_content": null,
            "justify_items": null,
            "left": null,
            "margin": null,
            "max_height": null,
            "max_width": null,
            "min_height": null,
            "min_width": null,
            "object_fit": null,
            "object_position": null,
            "order": null,
            "overflow": null,
            "overflow_x": null,
            "overflow_y": null,
            "padding": null,
            "right": null,
            "top": null,
            "visibility": null,
            "width": null
          }
        },
        "8fe30db8f2fe4ece88aa7fbee7881b43": {
          "model_module": "@jupyter-widgets/controls",
          "model_name": "DescriptionStyleModel",
          "model_module_version": "1.5.0",
          "state": {
            "_model_module": "@jupyter-widgets/controls",
            "_model_module_version": "1.5.0",
            "_model_name": "DescriptionStyleModel",
            "_view_count": null,
            "_view_module": "@jupyter-widgets/base",
            "_view_module_version": "1.2.0",
            "_view_name": "StyleView",
            "description_width": ""
          }
        },
        "34eb8dd07fcb4045b1661d075d4abb5c": {
          "model_module": "@jupyter-widgets/base",
          "model_name": "LayoutModel",
          "model_module_version": "1.2.0",
          "state": {
            "_model_module": "@jupyter-widgets/base",
            "_model_module_version": "1.2.0",
            "_model_name": "LayoutModel",
            "_view_count": null,
            "_view_module": "@jupyter-widgets/base",
            "_view_module_version": "1.2.0",
            "_view_name": "LayoutView",
            "align_content": null,
            "align_items": null,
            "align_self": null,
            "border": null,
            "bottom": null,
            "display": null,
            "flex": null,
            "flex_flow": null,
            "grid_area": null,
            "grid_auto_columns": null,
            "grid_auto_flow": null,
            "grid_auto_rows": null,
            "grid_column": null,
            "grid_gap": null,
            "grid_row": null,
            "grid_template_areas": null,
            "grid_template_columns": null,
            "grid_template_rows": null,
            "height": null,
            "justify_content": null,
            "justify_items": null,
            "left": null,
            "margin": null,
            "max_height": null,
            "max_width": null,
            "min_height": null,
            "min_width": null,
            "object_fit": null,
            "object_position": null,
            "order": null,
            "overflow": null,
            "overflow_x": null,
            "overflow_y": null,
            "padding": null,
            "right": null,
            "top": null,
            "visibility": null,
            "width": null
          }
        },
        "7a3f4cf8b6d34cf483ef4969c1e35a60": {
          "model_module": "@jupyter-widgets/controls",
          "model_name": "ProgressStyleModel",
          "model_module_version": "1.5.0",
          "state": {
            "_model_module": "@jupyter-widgets/controls",
            "_model_module_version": "1.5.0",
            "_model_name": "ProgressStyleModel",
            "_view_count": null,
            "_view_module": "@jupyter-widgets/base",
            "_view_module_version": "1.2.0",
            "_view_name": "StyleView",
            "bar_color": null,
            "description_width": ""
          }
        }
      }
    }
  },
  "cells": [
    {
      "cell_type": "markdown",
      "source": [
        "\n",
        "MixMatch. FixMatch.\n"
      ],
      "metadata": {
        "id": "5V0NPpprX6V-"
      }
    },
    {
      "cell_type": "markdown",
      "source": [
        "#Мета\n",
        "Ознайомлення з state-of-the-art алгоритмами напівкерованого навчання MixMatch та FixMatch.\n",
        "\n",
        "\n"
      ],
      "metadata": {
        "id": "xTVraqgDwZde"
      }
    },
    {
      "cell_type": "markdown",
      "source": [
        "#Хід роботи"
      ],
      "metadata": {
        "id": "xRmOij-XxlwW"
      }
    },
    {
      "cell_type": "markdown",
      "source": [
        "## 1. Виконання налаштування робочого середовища"
      ],
      "metadata": {
        "id": "7CDwPJ2a31Hb"
      }
    },
    {
      "cell_type": "code",
      "source": [
        "!pip install wandb"
      ],
      "metadata": {
        "colab": {
          "base_uri": "https://localhost:8080/"
        },
        "id": "y99xFuywvaEt",
        "outputId": "8e7d367c-3206-4bff-b53c-4644dcf24a9b"
      },
      "execution_count": 1,
      "outputs": [
        {
          "output_type": "stream",
          "name": "stdout",
          "text": [
            "Collecting wandb\n",
            "  Downloading wandb-0.16.1-py3-none-any.whl (2.1 MB)\n",
            "\u001b[2K     \u001b[90m━━━━━━━━━━━━━━━━━━━━━━━━━━━━━━━━━━━━━━━━\u001b[0m \u001b[32m2.1/2.1 MB\u001b[0m \u001b[31m8.5 MB/s\u001b[0m eta \u001b[36m0:00:00\u001b[0m\n",
            "\u001b[?25hRequirement already satisfied: Click!=8.0.0,>=7.1 in /usr/local/lib/python3.10/dist-packages (from wandb) (8.1.7)\n",
            "Collecting GitPython!=3.1.29,>=1.0.0 (from wandb)\n",
            "  Downloading GitPython-3.1.40-py3-none-any.whl (190 kB)\n",
            "\u001b[2K     \u001b[90m━━━━━━━━━━━━━━━━━━━━━━━━━━━━━━━━━━━━━━━━\u001b[0m \u001b[32m190.6/190.6 kB\u001b[0m \u001b[31m29.6 MB/s\u001b[0m eta \u001b[36m0:00:00\u001b[0m\n",
            "\u001b[?25hRequirement already satisfied: requests<3,>=2.0.0 in /usr/local/lib/python3.10/dist-packages (from wandb) (2.31.0)\n",
            "Requirement already satisfied: psutil>=5.0.0 in /usr/local/lib/python3.10/dist-packages (from wandb) (5.9.5)\n",
            "Collecting sentry-sdk>=1.0.0 (from wandb)\n",
            "  Downloading sentry_sdk-1.38.0-py2.py3-none-any.whl (252 kB)\n",
            "\u001b[2K     \u001b[90m━━━━━━━━━━━━━━━━━━━━━━━━━━━━━━━━━━━━━━━━\u001b[0m \u001b[32m252.8/252.8 kB\u001b[0m \u001b[31m33.7 MB/s\u001b[0m eta \u001b[36m0:00:00\u001b[0m\n",
            "\u001b[?25hCollecting docker-pycreds>=0.4.0 (from wandb)\n",
            "  Downloading docker_pycreds-0.4.0-py2.py3-none-any.whl (9.0 kB)\n",
            "Requirement already satisfied: PyYAML in /usr/local/lib/python3.10/dist-packages (from wandb) (6.0.1)\n",
            "Collecting setproctitle (from wandb)\n",
            "  Downloading setproctitle-1.3.3-cp310-cp310-manylinux_2_5_x86_64.manylinux1_x86_64.manylinux_2_17_x86_64.manylinux2014_x86_64.whl (30 kB)\n",
            "Requirement already satisfied: setuptools in /usr/local/lib/python3.10/dist-packages (from wandb) (67.7.2)\n",
            "Requirement already satisfied: appdirs>=1.4.3 in /usr/local/lib/python3.10/dist-packages (from wandb) (1.4.4)\n",
            "Requirement already satisfied: protobuf!=4.21.0,<5,>=3.19.0 in /usr/local/lib/python3.10/dist-packages (from wandb) (3.20.3)\n",
            "Requirement already satisfied: six>=1.4.0 in /usr/local/lib/python3.10/dist-packages (from docker-pycreds>=0.4.0->wandb) (1.16.0)\n",
            "Collecting gitdb<5,>=4.0.1 (from GitPython!=3.1.29,>=1.0.0->wandb)\n",
            "  Downloading gitdb-4.0.11-py3-none-any.whl (62 kB)\n",
            "\u001b[2K     \u001b[90m━━━━━━━━━━━━━━━━━━━━━━━━━━━━━━━━━━━━━━━━\u001b[0m \u001b[32m62.7/62.7 kB\u001b[0m \u001b[31m8.9 MB/s\u001b[0m eta \u001b[36m0:00:00\u001b[0m\n",
            "\u001b[?25hRequirement already satisfied: charset-normalizer<4,>=2 in /usr/local/lib/python3.10/dist-packages (from requests<3,>=2.0.0->wandb) (3.3.2)\n",
            "Requirement already satisfied: idna<4,>=2.5 in /usr/local/lib/python3.10/dist-packages (from requests<3,>=2.0.0->wandb) (3.6)\n",
            "Requirement already satisfied: urllib3<3,>=1.21.1 in /usr/local/lib/python3.10/dist-packages (from requests<3,>=2.0.0->wandb) (2.0.7)\n",
            "Requirement already satisfied: certifi>=2017.4.17 in /usr/local/lib/python3.10/dist-packages (from requests<3,>=2.0.0->wandb) (2023.11.17)\n",
            "Collecting smmap<6,>=3.0.1 (from gitdb<5,>=4.0.1->GitPython!=3.1.29,>=1.0.0->wandb)\n",
            "  Downloading smmap-5.0.1-py3-none-any.whl (24 kB)\n",
            "Installing collected packages: smmap, setproctitle, sentry-sdk, docker-pycreds, gitdb, GitPython, wandb\n",
            "Successfully installed GitPython-3.1.40 docker-pycreds-0.4.0 gitdb-4.0.11 sentry-sdk-1.38.0 setproctitle-1.3.3 smmap-5.0.1 wandb-0.16.1\n"
          ]
        }
      ]
    },
    {
      "cell_type": "code",
      "execution_count": 2,
      "metadata": {
        "id": "4vhLi7QItt4B"
      },
      "outputs": [],
      "source": [
        "import matplotlib.pyplot as plt\n",
        "import numpy as np\n",
        "from tqdm import tqdm\n",
        "import time\n",
        "import wandb\n",
        "from itertools import cycle\n",
        "\n",
        "import torch\n",
        "import torch.nn as nn\n",
        "import torchvision\n",
        "import torchvision.transforms as transforms\n",
        "from torch.utils.data import Subset, Dataset\n",
        "from torch.utils.data import DataLoader\n",
        "import torch.nn.functional as F"
      ]
    },
    {
      "cell_type": "code",
      "source": [
        "device = torch.device(\"cuda:0\" if torch.cuda.is_available() else \"cpu\")\n",
        "device"
      ],
      "metadata": {
        "colab": {
          "base_uri": "https://localhost:8080/"
        },
        "id": "A8svhRTIM87v",
        "outputId": "597aa477-b910-4969-a46b-c5c8201495f1"
      },
      "execution_count": 3,
      "outputs": [
        {
          "output_type": "execute_result",
          "data": {
            "text/plain": [
              "device(type='cuda', index=0)"
            ]
          },
          "metadata": {},
          "execution_count": 3
        }
      ]
    },
    {
      "cell_type": "code",
      "source": [
        "seed = 42\n",
        "torch.manual_seed(seed)\n",
        "torch.cuda.manual_seed_all(seed)\n",
        "np.random.seed(seed)"
      ],
      "metadata": {
        "id": "sX5GIxufuo0a"
      },
      "execution_count": 4,
      "outputs": []
    },
    {
      "cell_type": "code",
      "source": [
        "# set hyperparameters\n",
        "batch_size = 32\n",
        "K = 2\n",
        "lr = 5e-5\n",
        "epochs = 40\n",
        "log_freq = 10\n",
        "ema_decay = 0.999\n",
        "lambda_u = 25\n",
        "T = 0.5"
      ],
      "metadata": {
        "id": "9oeVg0x3tqGc"
      },
      "execution_count": 37,
      "outputs": []
    },
    {
      "cell_type": "markdown",
      "source": [
        "## 2. Завантаження набору даних MNIST"
      ],
      "metadata": {
        "id": "6pVUXCHu37IT"
      }
    },
    {
      "cell_type": "code",
      "source": [
        "class UnlabelDataset(Dataset):\n",
        "    def __init__(self, dataset, indices, transform, K=2):\n",
        "        self.dataset = Subset(dataset, indices)\n",
        "        self.transform = transform\n",
        "        self.K = K\n",
        "\n",
        "    def __len__(self):\n",
        "        return len(self.dataset)\n",
        "\n",
        "\n",
        "    def __getitem__(self, index):\n",
        "        img, label = self.dataset[index]\n",
        "        imgs = []\n",
        "\n",
        "        for i in range(self.K):\n",
        "            imgs.append(self.transform(img))\n",
        "\n",
        "        return imgs\n",
        "\n",
        "\n",
        "def get_mnist(root, transform, transform_unlabeled, K, labeled_percent=0.3, val_percent=0.2, random_seed=42):\n",
        "\n",
        "    mnist_dataset = torchvision.datasets.MNIST(root, train=True, download=True, transform=transform)\n",
        "    num_classes = len(set(mnist_dataset.targets.numpy()))\n",
        "\n",
        "    labeled_size = int(len(mnist_dataset) * labeled_percent)\n",
        "    val_size = int(len(mnist_dataset) * val_percent)\n",
        "    unlabeled_size = len(mnist_dataset) - labeled_size - val_size\n",
        "\n",
        "    labeled_idxs, unlabeled_idxs, val_idxs = train_val_split(mnist_dataset.targets, labeled_percent, val_percent, random_seed)\n",
        "    train_labeled_dataset = Subset(mnist_dataset, labeled_idxs)\n",
        "    train_unlabeled_dataset = UnlabelDataset(mnist_dataset, unlabeled_idxs, transform=transform_unlabeled, K=K)\n",
        "    val_dataset = Subset(mnist_dataset, val_idxs)\n",
        "\n",
        "    test_dataset = torchvision.datasets.MNIST(root, train=False, download=True, transform=transform)\n",
        "\n",
        "    print(f\"#Labeled: {len(train_labeled_dataset)} #Unlabeled: {len(train_unlabeled_dataset)} #Val: {len(val_dataset)}\")\n",
        "\n",
        "    return train_labeled_dataset, train_unlabeled_dataset, val_dataset, test_dataset\n",
        "\n",
        "def train_val_split(labels, labeled_percent=0.1, val_percent=0.1, random_seed=42):\n",
        "    np.random.seed(random_seed)\n",
        "    indices = np.arange(len(labels))\n",
        "\n",
        "    train_val_size = int((1 - val_percent) * len(labels))\n",
        "    labeled_size = int(labeled_percent * train_val_size)\n",
        "\n",
        "    np.random.shuffle(indices)\n",
        "\n",
        "    train_labeled_idxs = indices[:labeled_size]\n",
        "    train_unlabeled_val_idxs = indices[labeled_size:train_val_size]\n",
        "    val_idxs = indices[train_val_size:]\n",
        "\n",
        "    return train_labeled_idxs, train_unlabeled_val_idxs, val_idxs"
      ],
      "metadata": {
        "id": "v7FZe0U4CEJq"
      },
      "execution_count": 48,
      "outputs": []
    },
    {
      "cell_type": "code",
      "source": [
        "# Data\n",
        "\n",
        "transform = transforms.Compose([\n",
        "    transforms.ToTensor(),\n",
        "    transforms.Normalize((0.5,), (0.5,)),\n",
        "])\n",
        "\n",
        "\n",
        "transform_unlabeled = transforms.Compose([\n",
        "    transforms.ToPILImage(),\n",
        "    transforms.RandomAffine(degrees=(-30, 30), scale=(0.5, 1.2)),\n",
        "    transforms.RandomRotation(degrees=(0, 30)),\n",
        "    transforms.RandomPerspective(),\n",
        "    transforms.ToTensor(),\n",
        "    transforms.Normalize((0.5,), (0.5,)),\n",
        "])\n",
        "\n",
        "train_labeled_set, train_unlabeled_set, val_set, test_set = get_mnist('./data', transform=transform, transform_unlabeled=transform_unlabeled, K=K)\n",
        "labeled_trainloader = DataLoader(train_labeled_set, batch_size=batch_size, shuffle=True, num_workers=0, drop_last=True)\n",
        "unlabeled_trainloader = DataLoader(train_unlabeled_set, batch_size=batch_size, shuffle=True, num_workers=0, drop_last=True)\n",
        "val_loader = DataLoader(val_set, batch_size=batch_size, shuffle=False, num_workers=0)\n",
        "test_loader = DataLoader(test_set, batch_size=batch_size, shuffle=False, num_workers=0)"
      ],
      "metadata": {
        "colab": {
          "base_uri": "https://localhost:8080/"
        },
        "id": "72zhvzs6FsVg",
        "outputId": "de2edc1c-676f-4b54-c096-2e61f3182a37"
      },
      "execution_count": 49,
      "outputs": [
        {
          "output_type": "stream",
          "name": "stdout",
          "text": [
            "#Labeled: 14400 #Unlabeled: 33600 #Val: 12000\n"
          ]
        }
      ]
    },
    {
      "cell_type": "markdown",
      "source": [
        "## 5. Завантажимо та налаштуємо нейронну мережу"
      ],
      "metadata": {
        "id": "vMJXKDe04yRM"
      }
    },
    {
      "cell_type": "code",
      "source": [
        "class ClassifierCNN(nn.Module):\n",
        "    def __init__(self, num_classes=10):\n",
        "        super(ClassifierCNN, self).__init__()\n",
        "        self.block_1 = nn.Sequential(\n",
        "            nn.Conv2d(1, 32, kernel_size=3),\n",
        "            nn.ReLU(),\n",
        "            nn.Conv2d(32, 32, kernel_size=3),\n",
        "            nn.ReLU(),\n",
        "            nn.MaxPool2d(kernel_size=2, stride=2)\n",
        "        )\n",
        "\n",
        "        self.classifier = nn.Sequential(\n",
        "            nn.Flatten(),\n",
        "            nn.Linear(in_features=32*12*12,\n",
        "                      out_features=num_classes)\n",
        "        )\n",
        "\n",
        "    def forward(self, x: torch.Tensor):\n",
        "        x = self.block_1(x)\n",
        "        # print(x.shape)\n",
        "        x = self.classifier(x)\n",
        "        return torch.softmax(x, dim=1)\n",
        "\n",
        "def create_model(ema=False):\n",
        "    model =  ClassifierCNN(num_classes=10).to(device)\n",
        "    if ema:\n",
        "        for param in model.parameters():\n",
        "            param.detach_()\n",
        "\n",
        "    return model"
      ],
      "metadata": {
        "id": "otXCBFyYguBo"
      },
      "execution_count": 50,
      "outputs": []
    },
    {
      "cell_type": "code",
      "source": [
        "def linear_rampup(current, rampup_length=epochs):\n",
        "    if rampup_length == 0:\n",
        "        return 1.0\n",
        "    else:\n",
        "        current = np.clip(current / rampup_length, 0.0, 1.0)\n",
        "        return float(current)\n",
        "\n",
        "\n",
        "class SemiLoss(object):\n",
        "    def __call__(self, outputs_x, targets_x, outputs_u, targets_u):\n",
        "        probs_u = torch.softmax(outputs_u, dim=1)\n",
        "\n",
        "        Lx = -torch.mean(torch.sum(F.log_softmax(outputs_x, dim=1) * targets_x, dim=1))\n",
        "        Lu = torch.mean((probs_u - targets_u)**2)\n",
        "\n",
        "        return Lx, Lu\n",
        "\n",
        "\n",
        "class WeightEMA(object):\n",
        "    def __init__(self, model, ema_model, alpha=0.999):\n",
        "        self.model = model\n",
        "        self.ema_model = ema_model\n",
        "        self.alpha = alpha\n",
        "        self.params = list(model.state_dict().values())\n",
        "        self.ema_params = list(ema_model.state_dict().values())\n",
        "        self.wd = 0.02 * lr\n",
        "\n",
        "        for param, ema_param in zip(self.params, self.ema_params):\n",
        "            param.data.copy_(ema_param.data)\n",
        "\n",
        "    def step(self):\n",
        "        one_minus_alpha = 1.0 - self.alpha\n",
        "        for param, ema_param in zip(self.params, self.ema_params):\n",
        "            if ema_param.dtype==torch.float32:\n",
        "                ema_param.mul_(self.alpha)\n",
        "                ema_param.add_(param * one_minus_alpha)\n",
        "                # customized weight decay\n",
        "                param.mul_(1 - self.wd)\n",
        "\n",
        "\n",
        "def interleave_offsets(batch, nu):\n",
        "    groups = [batch // (nu + 1)] * (nu + 1)\n",
        "\n",
        "    for x in range(batch - sum(groups)):\n",
        "        groups[-x - 1] += 1\n",
        "\n",
        "    offsets = [0]\n",
        "\n",
        "    for g in groups:\n",
        "        offsets.append(offsets[-1] + g)\n",
        "\n",
        "    assert offsets[-1] == batch\n",
        "    return offsets\n",
        "\n",
        "\n",
        "def interleave(xy, batch):\n",
        "    nu = len(xy) - 1\n",
        "    offsets = interleave_offsets(batch, nu)\n",
        "    xy = [[v[offsets[p]:offsets[p + 1]] for p in range(nu + 1)] for v in xy]\n",
        "\n",
        "    for i in range(1, nu + 1):\n",
        "        xy[0][i], xy[i][i] = xy[i][i], xy[0][i]\n",
        "\n",
        "    return [torch.cat(v, dim=0) for v in xy]"
      ],
      "metadata": {
        "id": "hdDe4yRBu9K4"
      },
      "execution_count": 51,
      "outputs": []
    },
    {
      "cell_type": "code",
      "source": [
        "class AverageMeter(object):\n",
        "    def __init__(self):\n",
        "        self.reset()\n",
        "\n",
        "    def reset(self):\n",
        "        self.val = 0\n",
        "        self.avg = 0\n",
        "        self.sum = 0\n",
        "        self.count = 0\n",
        "\n",
        "    def update(self, val, n=1):\n",
        "        self.val = val\n",
        "        self.sum += val * n\n",
        "        self.count += n\n",
        "        self.avg = self.sum / self.count\n"
      ],
      "metadata": {
        "id": "7B9NzOjm3z_7"
      },
      "execution_count": 52,
      "outputs": []
    },
    {
      "cell_type": "code",
      "source": [
        "def label_guessing(model, inputs_u, inputs_u2):\n",
        "  outputs_u = model(inputs_u)\n",
        "  outputs_u2 = model(inputs_u2)\n",
        "  p = (torch.softmax(outputs_u, dim=1) + torch.softmax(outputs_u2, dim=1)) / 2\n",
        "  pt = p**(1/T)\n",
        "\n",
        "  # Apply temperature sharpening to the average predicti\n",
        "  targets_u = pt / pt.sum(dim=1, keepdim=True)\n",
        "  targets_u = targets_u.detach()\n",
        "\n",
        "  return targets_u\n",
        "\n",
        "\n",
        "def mixup(all_inputs, all_targets, alpha):\n",
        "  l = np.random.beta(alpha, alpha)\n",
        "  l = max(l, 1-l)\n",
        "\n",
        "  idx = torch.randperm(all_inputs.size(0))\n",
        "\n",
        "  x1, x2 = all_inputs, all_inputs[idx]\n",
        "  y1, y2 = all_targets, all_targets[idx]\n",
        "\n",
        "  mixed_input = l * x1 + (1 - l) * x2\n",
        "  mixed_target = l * y1 + (1 - l) * y2\n",
        "\n",
        "  return mixed_input, mixed_target"
      ],
      "metadata": {
        "id": "U9efmG-2ouqG"
      },
      "execution_count": 53,
      "outputs": []
    },
    {
      "cell_type": "code",
      "source": [
        "def train(labeled_trainloader, unlabeled_trainloader, model, epoch, T=0.5, alpha=0.75):\n",
        "    accs = AverageMeter()\n",
        "    losses = AverageMeter()\n",
        "    losses_x = AverageMeter()\n",
        "    losses_u = AverageMeter()\n",
        "\n",
        "    labeled_train_iter = cycle(iter(labeled_trainloader))\n",
        "\n",
        "    model.train()\n",
        "    for batch_idx, (inputs_u, inputs_u2) in tqdm(enumerate(unlabeled_trainloader)):\n",
        "        inputs_x, targets_x = next(labeled_train_iter)\n",
        "\n",
        "        batch_size = inputs_x.size(0)\n",
        "\n",
        "        # Transform label to one-hot\n",
        "        targets_x_oh = torch.zeros(batch_size, 10).scatter_(1, targets_x.view(-1,1).long(), 1)\n",
        "\n",
        "        inputs_x, targets_x_oh = inputs_x.cuda(), targets_x_oh.cuda(non_blocking=True)\n",
        "        targets_x = targets_x.cuda()\n",
        "        inputs_u, inputs_u2 = inputs_u.cuda(), inputs_u2.cuda()\n",
        "\n",
        "        with torch.no_grad():\n",
        "            # compute guessed labels of unlabel samples\n",
        "            targets_u = label_guessing(model, inputs_u, inputs_u2)\n",
        "\n",
        "        # mixup\n",
        "        all_inputs = torch.cat([inputs_x, inputs_u, inputs_u2], dim=0)\n",
        "        all_targets = torch.cat([targets_x_oh, targets_u, targets_u], dim=0)\n",
        "        mixed_input, mixed_target = mixup(all_inputs, all_targets, alpha)\n",
        "\n",
        "        # interleave labeled and unlabed samples between batches to get correct batchnorm calculation\n",
        "        mixed_input = interleave(list(torch.split(mixed_input, batch_size)), batch_size)\n",
        "\n",
        "        logits = [model(mixed_input[0])]\n",
        "        for input in mixed_input[1:]:\n",
        "            logits.append(model(input))\n",
        "\n",
        "        # put interleaved samples back\n",
        "        logits = interleave(logits, batch_size)\n",
        "        logits_x = logits[0]\n",
        "        logits_u = torch.cat(logits[1:], dim=0)\n",
        "\n",
        "        Lx, Lu = train_criterion(logits_x, mixed_target[:batch_size], logits_u, mixed_target[batch_size:])\n",
        "        w = lambda_u * linear_rampup(epoch+batch_idx/len(labeled_trainloader))\n",
        "        loss = Lx + w * Lu\n",
        "\n",
        "        optimizer.zero_grad()\n",
        "        loss.backward()\n",
        "        optimizer.step()\n",
        "        ema_optimizer.step()\n",
        "\n",
        "        # compute accuracies\n",
        "        probs = torch.softmax(model(inputs_x), dim=1)\n",
        "        predicted_labels = torch.argmax(probs, dim=1)\n",
        "        correct = predicted_labels == targets_x\n",
        "        accuracy = correct.sum() / float(targets_x.size(0))\n",
        "\n",
        "         # record loss\n",
        "        losses.update(loss.item(), inputs_x.size(0))\n",
        "        losses_x.update(Lx.item(), inputs_x.size(0))\n",
        "        losses_u.update(Lu.item(), inputs_x.size(0))\n",
        "        accs.update(accuracy, inputs_x.size(0))\n",
        "\n",
        "    return (losses.avg, losses_x.avg, losses_u.avg, accs.avg)"
      ],
      "metadata": {
        "id": "16Zzi6DgS6o4"
      },
      "execution_count": 54,
      "outputs": []
    },
    {
      "cell_type": "code",
      "source": [
        "def valid(val_loader, model, epoch):\n",
        "  losses = AverageMeter()\n",
        "  accuracies = AverageMeter()\n",
        "\n",
        "  model.eval()\n",
        "  with torch.no_grad():\n",
        "    for batch_idx, (inputs, targets) in enumerate(val_loader):\n",
        "      inputs, targets = inputs.cuda(), targets.cuda(non_blocking=True)\n",
        "      outputs = model(inputs)\n",
        "      loss = criterion(outputs, targets)\n",
        "\n",
        "      ## compute metrics\n",
        "      # accuracy\n",
        "      probs = torch.softmax(outputs, dim=1)\n",
        "      predicted_labels = torch.argmax(probs, dim=1)\n",
        "\n",
        "      correct = predicted_labels == targets\n",
        "      accuracy = correct.sum() / float(targets.size(0))\n",
        "\n",
        "      # update the loss and metrics\n",
        "      losses.update(loss.item(), inputs.size(0))\n",
        "      accuracies.update(accuracy, inputs.size(0))\n",
        "\n",
        "  return losses.avg, accuracies.avg"
      ],
      "metadata": {
        "id": "iEk0_ZAGfYdH"
      },
      "execution_count": 55,
      "outputs": []
    },
    {
      "cell_type": "code",
      "source": [
        "def train_model(model, labeled_trainloader, unlabeled_trainloader, epochs, log_freq):\n",
        "  wandb.watch(model, log='all')\n",
        "\n",
        "  step = 0\n",
        "  for epoch in range(1, epochs + 1):\n",
        "\n",
        "    print('\\n Epoch: [%d | %d]' % (epoch, epochs))\n",
        "\n",
        "    train_loss, train_loss_x, train_loss_u, train_accuracy = train(labeled_trainloader, unlabeled_trainloader, model, epoch=epoch)\n",
        "    print(f\"Train: Accuracy: {train_accuracy:.4f}%, Loss: {train_loss:.4f}, Loss_x: {train_loss_x:.4f}, Loss_u: {train_loss_u:.4f} \")\n",
        "    val_loss, val_accuracy = valid(val_loader, ema_model, epoch)\n",
        "    print(f\"Valid: Accuracy: {val_accuracy:.4f}%, Loss: {train_loss:.4f}\")\n",
        "\n",
        "    wandb.log({\n",
        "        'epoch': epoch,\n",
        "\n",
        "        # Train metrics\n",
        "        'train_loss': train_loss,\n",
        "        'train_loss_x': train_loss_x,\n",
        "        'train_loss_u': train_loss_u,\n",
        "        'train_accuracy':train_accuracy,\n",
        "\n",
        "        # Validation metrics\n",
        "        'val_loss': val_loss,\n",
        "        'val_accuracy':val_accuracy,\n",
        "    })\n",
        "\n",
        "  # saving the model\n",
        "  torch.save(model.state_dict(), 'model.h5')\n",
        "  wandb.save('model.h5')\n"
      ],
      "metadata": {
        "id": "DhMTbRMYS6xa"
      },
      "execution_count": 56,
      "outputs": []
    },
    {
      "cell_type": "code",
      "source": [
        "# wandb initialize a new run\n",
        "wandb.init(project='mixmatch lab')\n",
        "wandb.watch_called = False\n",
        "\n",
        "config = wandb.config\n",
        "config.batch_size = batch_size\n",
        "config.epochs = epochs\n",
        "config.lr = lr\n",
        "config.seed = 42\n",
        "config.classes = 10\n",
        "config.device = device\n",
        "config.ema_decay = ema_decay\n",
        "config.lambda_u = lambda_u\n",
        "config.T = T\n",
        "\n",
        "# set seed\n",
        "torch.manual_seed(config.seed)\n",
        "torch.backends.cudnn.deterministic = True\n",
        "torch.backends.cudnn.benchmark = True\n",
        "\n",
        "model = create_model()\n",
        "ema_model = create_model(ema=True)\n",
        "\n",
        "optimizer = torch.optim.Adam(model.parameters(), lr=lr)\n",
        "criterion = torch.nn.CrossEntropyLoss()\n",
        "\n",
        "train_criterion = SemiLoss()\n",
        "ema_optimizer= WeightEMA(model, ema_model, alpha=ema_decay)\n",
        "train_model(model, labeled_trainloader, unlabeled_trainloader, epochs, log_freq)\n",
        "\n",
        "wandb.finish()"
      ],
      "metadata": {
        "id": "_i28kDJoS6do",
        "colab": {
          "base_uri": "https://localhost:8080/",
          "height": 1000,
          "referenced_widgets": [
            "b47ce66be34646ae810fdab8bec9d8f8",
            "bbd72ae2a2d7476c988459ffe6430502",
            "7706d6a29d9c4a708d555f37c7a59062",
            "2cd5c2e65bc2419b824547d5aeaf1f30",
            "fc182aacd17e46a79a2244bd116a4cd4",
            "c821aae357a64aaeafc36c8d4c6db2b0",
            "026572dcfdb847a8bfbb20a4593a8dfa",
            "6237f180fc544b769bb95fb7dd188a6f",
            "de762299326f41dc9c36e341dffaf058",
            "6564d0cd207c450ebf2eaa493516926a",
            "b5217df0b1a04c1286b4fecd9a1d6a37",
            "78f215dde74541ec8e0c70cc870b1db8",
            "085fe288cf0a423da10c2ca4178fa02f",
            "8fe30db8f2fe4ece88aa7fbee7881b43",
            "34eb8dd07fcb4045b1661d075d4abb5c",
            "7a3f4cf8b6d34cf483ef4969c1e35a60"
          ]
        },
        "outputId": "2d9c8631-b875-44e3-cb61-deadc3b5cbf0"
      },
      "execution_count": 57,
      "outputs": [
        {
          "output_type": "display_data",
          "data": {
            "text/plain": [
              "<IPython.core.display.HTML object>"
            ],
            "text/html": [
              "Finishing last run (ID:scj8vyo8) before initializing another..."
            ]
          },
          "metadata": {}
        },
        {
          "output_type": "display_data",
          "data": {
            "text/plain": [
              "VBox(children=(Label(value='0.001 MB of 0.001 MB uploaded\\r'), FloatProgress(value=1.0, max=1.0)))"
            ],
            "application/vnd.jupyter.widget-view+json": {
              "version_major": 2,
              "version_minor": 0,
              "model_id": "b47ce66be34646ae810fdab8bec9d8f8"
            }
          },
          "metadata": {}
        },
        {
          "output_type": "display_data",
          "data": {
            "text/plain": [
              "<IPython.core.display.HTML object>"
            ],
            "text/html": [
              " View run <strong style=\"color:#cdcd00\">comfy-morning-28</strong> at: <a href='https://wandb.ai/kpi_diplom/mixmatch%20lab/runs/scj8vyo8' target=\"_blank\">https://wandb.ai/kpi_diplom/mixmatch%20lab/runs/scj8vyo8</a><br/>Synced 5 W&B file(s), 0 media file(s), 0 artifact file(s) and 0 other file(s)"
            ]
          },
          "metadata": {}
        },
        {
          "output_type": "display_data",
          "data": {
            "text/plain": [
              "<IPython.core.display.HTML object>"
            ],
            "text/html": [
              "Find logs at: <code>./wandb/run-20231207_151408-scj8vyo8/logs</code>"
            ]
          },
          "metadata": {}
        },
        {
          "output_type": "display_data",
          "data": {
            "text/plain": [
              "<IPython.core.display.HTML object>"
            ],
            "text/html": [
              "Successfully finished last run (ID:scj8vyo8). Initializing new run:<br/>"
            ]
          },
          "metadata": {}
        },
        {
          "output_type": "display_data",
          "data": {
            "text/plain": [
              "<IPython.core.display.HTML object>"
            ],
            "text/html": [
              "Tracking run with wandb version 0.16.1"
            ]
          },
          "metadata": {}
        },
        {
          "output_type": "display_data",
          "data": {
            "text/plain": [
              "<IPython.core.display.HTML object>"
            ],
            "text/html": [
              "Run data is saved locally in <code>/content/wandb/run-20231207_151439-qqvrwc6n</code>"
            ]
          },
          "metadata": {}
        },
        {
          "output_type": "display_data",
          "data": {
            "text/plain": [
              "<IPython.core.display.HTML object>"
            ],
            "text/html": [
              "Syncing run <strong><a href='https://wandb.ai/kpi_diplom/mixmatch%20lab/runs/qqvrwc6n' target=\"_blank\">glamorous-eon-29</a></strong> to <a href='https://wandb.ai/kpi_diplom/mixmatch%20lab' target=\"_blank\">Weights & Biases</a> (<a href='https://wandb.me/run' target=\"_blank\">docs</a>)<br/>"
            ]
          },
          "metadata": {}
        },
        {
          "output_type": "display_data",
          "data": {
            "text/plain": [
              "<IPython.core.display.HTML object>"
            ],
            "text/html": [
              " View project at <a href='https://wandb.ai/kpi_diplom/mixmatch%20lab' target=\"_blank\">https://wandb.ai/kpi_diplom/mixmatch%20lab</a>"
            ]
          },
          "metadata": {}
        },
        {
          "output_type": "display_data",
          "data": {
            "text/plain": [
              "<IPython.core.display.HTML object>"
            ],
            "text/html": [
              " View run at <a href='https://wandb.ai/kpi_diplom/mixmatch%20lab/runs/qqvrwc6n' target=\"_blank\">https://wandb.ai/kpi_diplom/mixmatch%20lab/runs/qqvrwc6n</a>"
            ]
          },
          "metadata": {}
        },
        {
          "output_type": "stream",
          "name": "stdout",
          "text": [
            "\n",
            " Epoch: [1 | 40]\n"
          ]
        },
        {
          "output_type": "stream",
          "name": "stderr",
          "text": [
            "1050it [01:08, 15.32it/s]\n"
          ]
        },
        {
          "output_type": "stream",
          "name": "stdout",
          "text": [
            "Train: Accuracy: 0.6972%, Loss: 1.9511, Loss_x: 1.9471, Loss_u: 0.0028 \n",
            "Valid: Accuracy: 0.8016%, Loss: 1.9511\n",
            "\n",
            " Epoch: [2 | 40]\n"
          ]
        },
        {
          "output_type": "stream",
          "name": "stderr",
          "text": [
            "1050it [01:07, 15.47it/s]\n"
          ]
        },
        {
          "output_type": "stream",
          "name": "stdout",
          "text": [
            "Train: Accuracy: 0.8338%, Loss: 1.8172, Loss_x: 1.8106, Loss_u: 0.0033 \n",
            "Valid: Accuracy: 0.8273%, Loss: 1.8172\n",
            "\n",
            " Epoch: [3 | 40]\n"
          ]
        },
        {
          "output_type": "stream",
          "name": "stderr",
          "text": [
            "1050it [01:07, 15.57it/s]\n"
          ]
        },
        {
          "output_type": "stream",
          "name": "stdout",
          "text": [
            "Train: Accuracy: 0.8960%, Loss: 1.7757, Loss_x: 1.7670, Loss_u: 0.0033 \n",
            "Valid: Accuracy: 0.8487%, Loss: 1.7757\n",
            "\n",
            " Epoch: [4 | 40]\n"
          ]
        },
        {
          "output_type": "stream",
          "name": "stderr",
          "text": [
            "1050it [01:07, 15.45it/s]\n"
          ]
        },
        {
          "output_type": "stream",
          "name": "stdout",
          "text": [
            "Train: Accuracy: 0.9315%, Loss: 1.7494, Loss_x: 1.7385, Loss_u: 0.0034 \n",
            "Valid: Accuracy: 0.9090%, Loss: 1.7494\n",
            "\n",
            " Epoch: [5 | 40]\n"
          ]
        },
        {
          "output_type": "stream",
          "name": "stderr",
          "text": [
            "1050it [01:08, 15.42it/s]\n"
          ]
        },
        {
          "output_type": "stream",
          "name": "stdout",
          "text": [
            "Train: Accuracy: 0.9412%, Loss: 1.7369, Loss_x: 1.7239, Loss_u: 0.0034 \n",
            "Valid: Accuracy: 0.9271%, Loss: 1.7369\n",
            "\n",
            " Epoch: [6 | 40]\n"
          ]
        },
        {
          "output_type": "stream",
          "name": "stderr",
          "text": [
            "1050it [01:07, 15.49it/s]\n"
          ]
        },
        {
          "output_type": "stream",
          "name": "stdout",
          "text": [
            "Train: Accuracy: 0.9500%, Loss: 1.7362, Loss_x: 1.7211, Loss_u: 0.0034 \n",
            "Valid: Accuracy: 0.9358%, Loss: 1.7362\n",
            "\n",
            " Epoch: [7 | 40]\n"
          ]
        },
        {
          "output_type": "stream",
          "name": "stderr",
          "text": [
            "1050it [01:07, 15.45it/s]\n"
          ]
        },
        {
          "output_type": "stream",
          "name": "stdout",
          "text": [
            "Train: Accuracy: 0.9564%, Loss: 1.7333, Loss_x: 1.7158, Loss_u: 0.0034 \n",
            "Valid: Accuracy: 0.9431%, Loss: 1.7333\n",
            "\n",
            " Epoch: [8 | 40]\n"
          ]
        },
        {
          "output_type": "stream",
          "name": "stderr",
          "text": [
            "1050it [01:07, 15.60it/s]\n"
          ]
        },
        {
          "output_type": "stream",
          "name": "stdout",
          "text": [
            "Train: Accuracy: 0.9635%, Loss: 1.7264, Loss_x: 1.7068, Loss_u: 0.0034 \n",
            "Valid: Accuracy: 0.9499%, Loss: 1.7264\n",
            "\n",
            " Epoch: [9 | 40]\n"
          ]
        },
        {
          "output_type": "stream",
          "name": "stderr",
          "text": [
            "1050it [01:07, 15.48it/s]\n"
          ]
        },
        {
          "output_type": "stream",
          "name": "stdout",
          "text": [
            "Train: Accuracy: 0.9671%, Loss: 1.7172, Loss_x: 1.6954, Loss_u: 0.0034 \n",
            "Valid: Accuracy: 0.9544%, Loss: 1.7172\n",
            "\n",
            " Epoch: [10 | 40]\n"
          ]
        },
        {
          "output_type": "stream",
          "name": "stderr",
          "text": [
            "1050it [01:07, 15.51it/s]\n"
          ]
        },
        {
          "output_type": "stream",
          "name": "stdout",
          "text": [
            "Train: Accuracy: 0.9709%, Loss: 1.7201, Loss_x: 1.6953, Loss_u: 0.0036 \n",
            "Valid: Accuracy: 0.9591%, Loss: 1.7201\n",
            "\n",
            " Epoch: [11 | 40]\n"
          ]
        },
        {
          "output_type": "stream",
          "name": "stderr",
          "text": [
            "1050it [01:08, 15.42it/s]\n"
          ]
        },
        {
          "output_type": "stream",
          "name": "stdout",
          "text": [
            "Train: Accuracy: 0.9746%, Loss: 1.7183, Loss_x: 1.6902, Loss_u: 0.0037 \n",
            "Valid: Accuracy: 0.9630%, Loss: 1.7183\n",
            "\n",
            " Epoch: [12 | 40]\n"
          ]
        },
        {
          "output_type": "stream",
          "name": "stderr",
          "text": [
            "1050it [01:08, 15.34it/s]\n"
          ]
        },
        {
          "output_type": "stream",
          "name": "stdout",
          "text": [
            "Train: Accuracy: 0.9771%, Loss: 1.7208, Loss_x: 1.6897, Loss_u: 0.0038 \n",
            "Valid: Accuracy: 0.9651%, Loss: 1.7208\n",
            "\n",
            " Epoch: [13 | 40]\n"
          ]
        },
        {
          "output_type": "stream",
          "name": "stderr",
          "text": [
            "1050it [01:08, 15.42it/s]\n"
          ]
        },
        {
          "output_type": "stream",
          "name": "stdout",
          "text": [
            "Train: Accuracy: 0.9783%, Loss: 1.7269, Loss_x: 1.6919, Loss_u: 0.0039 \n",
            "Valid: Accuracy: 0.9673%, Loss: 1.7269\n",
            "\n",
            " Epoch: [14 | 40]\n"
          ]
        },
        {
          "output_type": "stream",
          "name": "stderr",
          "text": [
            "1050it [01:07, 15.55it/s]\n"
          ]
        },
        {
          "output_type": "stream",
          "name": "stdout",
          "text": [
            "Train: Accuracy: 0.9803%, Loss: 1.7215, Loss_x: 1.6840, Loss_u: 0.0040 \n",
            "Valid: Accuracy: 0.9693%, Loss: 1.7215\n",
            "\n",
            " Epoch: [15 | 40]\n"
          ]
        },
        {
          "output_type": "stream",
          "name": "stderr",
          "text": [
            "1050it [01:07, 15.56it/s]\n"
          ]
        },
        {
          "output_type": "stream",
          "name": "stdout",
          "text": [
            "Train: Accuracy: 0.9816%, Loss: 1.7246, Loss_x: 1.6842, Loss_u: 0.0040 \n",
            "Valid: Accuracy: 0.9703%, Loss: 1.7246\n",
            "\n",
            " Epoch: [16 | 40]\n"
          ]
        },
        {
          "output_type": "stream",
          "name": "stderr",
          "text": [
            "1050it [01:08, 15.44it/s]\n"
          ]
        },
        {
          "output_type": "stream",
          "name": "stdout",
          "text": [
            "Train: Accuracy: 0.9831%, Loss: 1.7332, Loss_x: 1.6892, Loss_u: 0.0041 \n",
            "Valid: Accuracy: 0.9709%, Loss: 1.7332\n",
            "\n",
            " Epoch: [17 | 40]\n"
          ]
        },
        {
          "output_type": "stream",
          "name": "stderr",
          "text": [
            "1050it [01:07, 15.51it/s]\n"
          ]
        },
        {
          "output_type": "stream",
          "name": "stdout",
          "text": [
            "Train: Accuracy: 0.9837%, Loss: 1.7329, Loss_x: 1.6853, Loss_u: 0.0042 \n",
            "Valid: Accuracy: 0.9718%, Loss: 1.7329\n",
            "\n",
            " Epoch: [18 | 40]\n"
          ]
        },
        {
          "output_type": "stream",
          "name": "stderr",
          "text": [
            "1050it [01:07, 15.64it/s]\n"
          ]
        },
        {
          "output_type": "stream",
          "name": "stdout",
          "text": [
            "Train: Accuracy: 0.9847%, Loss: 1.7293, Loss_x: 1.6793, Loss_u: 0.0042 \n",
            "Valid: Accuracy: 0.9728%, Loss: 1.7293\n",
            "\n",
            " Epoch: [19 | 40]\n"
          ]
        },
        {
          "output_type": "stream",
          "name": "stderr",
          "text": [
            "1050it [01:07, 15.56it/s]\n"
          ]
        },
        {
          "output_type": "stream",
          "name": "stdout",
          "text": [
            "Train: Accuracy: 0.9853%, Loss: 1.7361, Loss_x: 1.6826, Loss_u: 0.0043 \n",
            "Valid: Accuracy: 0.9728%, Loss: 1.7361\n",
            "\n",
            " Epoch: [20 | 40]\n"
          ]
        },
        {
          "output_type": "stream",
          "name": "stderr",
          "text": [
            "1050it [01:07, 15.45it/s]\n"
          ]
        },
        {
          "output_type": "stream",
          "name": "stdout",
          "text": [
            "Train: Accuracy: 0.9865%, Loss: 1.7390, Loss_x: 1.6820, Loss_u: 0.0043 \n",
            "Valid: Accuracy: 0.9729%, Loss: 1.7390\n",
            "\n",
            " Epoch: [21 | 40]\n"
          ]
        },
        {
          "output_type": "stream",
          "name": "stderr",
          "text": [
            "1050it [01:08, 15.41it/s]\n"
          ]
        },
        {
          "output_type": "stream",
          "name": "stdout",
          "text": [
            "Train: Accuracy: 0.9864%, Loss: 1.7378, Loss_x: 1.6779, Loss_u: 0.0043 \n",
            "Valid: Accuracy: 0.9732%, Loss: 1.7378\n",
            "\n",
            " Epoch: [22 | 40]\n"
          ]
        },
        {
          "output_type": "stream",
          "name": "stderr",
          "text": [
            "1050it [01:07, 15.52it/s]\n"
          ]
        },
        {
          "output_type": "stream",
          "name": "stdout",
          "text": [
            "Train: Accuracy: 0.9873%, Loss: 1.7479, Loss_x: 1.6839, Loss_u: 0.0044 \n",
            "Valid: Accuracy: 0.9736%, Loss: 1.7479\n",
            "\n",
            " Epoch: [23 | 40]\n"
          ]
        },
        {
          "output_type": "stream",
          "name": "stderr",
          "text": [
            "1050it [01:07, 15.60it/s]\n"
          ]
        },
        {
          "output_type": "stream",
          "name": "stdout",
          "text": [
            "Train: Accuracy: 0.9884%, Loss: 1.7410, Loss_x: 1.6745, Loss_u: 0.0044 \n",
            "Valid: Accuracy: 0.9743%, Loss: 1.7410\n",
            "\n",
            " Epoch: [24 | 40]\n"
          ]
        },
        {
          "output_type": "stream",
          "name": "stderr",
          "text": [
            "1050it [01:07, 15.57it/s]\n"
          ]
        },
        {
          "output_type": "stream",
          "name": "stdout",
          "text": [
            "Train: Accuracy: 0.9887%, Loss: 1.7440, Loss_x: 1.6739, Loss_u: 0.0045 \n",
            "Valid: Accuracy: 0.9741%, Loss: 1.7440\n",
            "\n",
            " Epoch: [25 | 40]\n"
          ]
        },
        {
          "output_type": "stream",
          "name": "stderr",
          "text": [
            "1050it [01:07, 15.49it/s]\n"
          ]
        },
        {
          "output_type": "stream",
          "name": "stdout",
          "text": [
            "Train: Accuracy: 0.9891%, Loss: 1.7448, Loss_x: 1.6720, Loss_u: 0.0045 \n",
            "Valid: Accuracy: 0.9748%, Loss: 1.7448\n",
            "\n",
            " Epoch: [26 | 40]\n"
          ]
        },
        {
          "output_type": "stream",
          "name": "stderr",
          "text": [
            "1050it [01:07, 15.49it/s]\n"
          ]
        },
        {
          "output_type": "stream",
          "name": "stdout",
          "text": [
            "Train: Accuracy: 0.9893%, Loss: 1.7520, Loss_x: 1.6745, Loss_u: 0.0046 \n",
            "Valid: Accuracy: 0.9746%, Loss: 1.7520\n",
            "\n",
            " Epoch: [27 | 40]\n"
          ]
        },
        {
          "output_type": "stream",
          "name": "stderr",
          "text": [
            "1050it [01:07, 15.57it/s]\n"
          ]
        },
        {
          "output_type": "stream",
          "name": "stdout",
          "text": [
            "Train: Accuracy: 0.9898%, Loss: 1.7620, Loss_x: 1.6808, Loss_u: 0.0046 \n",
            "Valid: Accuracy: 0.9752%, Loss: 1.7620\n",
            "\n",
            " Epoch: [28 | 40]\n"
          ]
        },
        {
          "output_type": "stream",
          "name": "stderr",
          "text": [
            "1050it [01:07, 15.58it/s]\n"
          ]
        },
        {
          "output_type": "stream",
          "name": "stdout",
          "text": [
            "Train: Accuracy: 0.9903%, Loss: 1.7555, Loss_x: 1.6719, Loss_u: 0.0046 \n",
            "Valid: Accuracy: 0.9754%, Loss: 1.7555\n",
            "\n",
            " Epoch: [29 | 40]\n"
          ]
        },
        {
          "output_type": "stream",
          "name": "stderr",
          "text": [
            "1050it [01:07, 15.58it/s]\n"
          ]
        },
        {
          "output_type": "stream",
          "name": "stdout",
          "text": [
            "Train: Accuracy: 0.9905%, Loss: 1.7627, Loss_x: 1.6751, Loss_u: 0.0046 \n",
            "Valid: Accuracy: 0.9755%, Loss: 1.7627\n",
            "\n",
            " Epoch: [30 | 40]\n"
          ]
        },
        {
          "output_type": "stream",
          "name": "stderr",
          "text": [
            "1050it [01:07, 15.59it/s]\n"
          ]
        },
        {
          "output_type": "stream",
          "name": "stdout",
          "text": [
            "Train: Accuracy: 0.9906%, Loss: 1.7735, Loss_x: 1.6824, Loss_u: 0.0047 \n",
            "Valid: Accuracy: 0.9760%, Loss: 1.7735\n",
            "\n",
            " Epoch: [31 | 40]\n"
          ]
        },
        {
          "output_type": "stream",
          "name": "stderr",
          "text": [
            "1050it [01:07, 15.59it/s]\n"
          ]
        },
        {
          "output_type": "stream",
          "name": "stdout",
          "text": [
            "Train: Accuracy: 0.9909%, Loss: 1.7738, Loss_x: 1.6788, Loss_u: 0.0047 \n",
            "Valid: Accuracy: 0.9762%, Loss: 1.7738\n",
            "\n",
            " Epoch: [32 | 40]\n"
          ]
        },
        {
          "output_type": "stream",
          "name": "stderr",
          "text": [
            "1050it [01:07, 15.48it/s]\n"
          ]
        },
        {
          "output_type": "stream",
          "name": "stdout",
          "text": [
            "Train: Accuracy: 0.9913%, Loss: 1.7678, Loss_x: 1.6707, Loss_u: 0.0047 \n",
            "Valid: Accuracy: 0.9755%, Loss: 1.7678\n",
            "\n",
            " Epoch: [33 | 40]\n"
          ]
        },
        {
          "output_type": "stream",
          "name": "stderr",
          "text": [
            "1050it [01:08, 15.42it/s]\n"
          ]
        },
        {
          "output_type": "stream",
          "name": "stdout",
          "text": [
            "Train: Accuracy: 0.9914%, Loss: 1.7762, Loss_x: 1.6747, Loss_u: 0.0048 \n",
            "Valid: Accuracy: 0.9749%, Loss: 1.7762\n",
            "\n",
            " Epoch: [34 | 40]\n"
          ]
        },
        {
          "output_type": "stream",
          "name": "stderr",
          "text": [
            "1050it [01:07, 15.46it/s]\n"
          ]
        },
        {
          "output_type": "stream",
          "name": "stdout",
          "text": [
            "Train: Accuracy: 0.9914%, Loss: 1.7705, Loss_x: 1.6671, Loss_u: 0.0047 \n",
            "Valid: Accuracy: 0.9749%, Loss: 1.7705\n",
            "\n",
            " Epoch: [35 | 40]\n"
          ]
        },
        {
          "output_type": "stream",
          "name": "stderr",
          "text": [
            "1050it [01:07, 15.58it/s]\n"
          ]
        },
        {
          "output_type": "stream",
          "name": "stdout",
          "text": [
            "Train: Accuracy: 0.9915%, Loss: 1.7826, Loss_x: 1.6747, Loss_u: 0.0048 \n",
            "Valid: Accuracy: 0.9744%, Loss: 1.7826\n",
            "\n",
            " Epoch: [36 | 40]\n"
          ]
        },
        {
          "output_type": "stream",
          "name": "stderr",
          "text": [
            "1050it [01:07, 15.56it/s]\n"
          ]
        },
        {
          "output_type": "stream",
          "name": "stdout",
          "text": [
            "Train: Accuracy: 0.9919%, Loss: 1.7842, Loss_x: 1.6729, Loss_u: 0.0048 \n",
            "Valid: Accuracy: 0.9738%, Loss: 1.7842\n",
            "\n",
            " Epoch: [37 | 40]\n"
          ]
        },
        {
          "output_type": "stream",
          "name": "stderr",
          "text": [
            "1050it [01:07, 15.51it/s]\n"
          ]
        },
        {
          "output_type": "stream",
          "name": "stdout",
          "text": [
            "Train: Accuracy: 0.9914%, Loss: 1.7876, Loss_x: 1.6722, Loss_u: 0.0048 \n",
            "Valid: Accuracy: 0.9737%, Loss: 1.7876\n",
            "\n",
            " Epoch: [38 | 40]\n"
          ]
        },
        {
          "output_type": "stream",
          "name": "stderr",
          "text": [
            "1050it [01:07, 15.45it/s]\n"
          ]
        },
        {
          "output_type": "stream",
          "name": "stdout",
          "text": [
            "Train: Accuracy: 0.9915%, Loss: 1.7936, Loss_x: 1.6745, Loss_u: 0.0049 \n",
            "Valid: Accuracy: 0.9733%, Loss: 1.7936\n",
            "\n",
            " Epoch: [39 | 40]\n"
          ]
        },
        {
          "output_type": "stream",
          "name": "stderr",
          "text": [
            "1050it [01:07, 15.46it/s]\n"
          ]
        },
        {
          "output_type": "stream",
          "name": "stdout",
          "text": [
            "Train: Accuracy: 0.9918%, Loss: 1.7878, Loss_x: 1.6670, Loss_u: 0.0049 \n",
            "Valid: Accuracy: 0.9726%, Loss: 1.7878\n",
            "\n",
            " Epoch: [40 | 40]\n"
          ]
        },
        {
          "output_type": "stream",
          "name": "stderr",
          "text": [
            "1050it [01:07, 15.50it/s]\n"
          ]
        },
        {
          "output_type": "stream",
          "name": "stdout",
          "text": [
            "Train: Accuracy: 0.9915%, Loss: 1.7913, Loss_x: 1.6692, Loss_u: 0.0049 \n",
            "Valid: Accuracy: 0.9725%, Loss: 1.7913\n"
          ]
        },
        {
          "output_type": "display_data",
          "data": {
            "text/plain": [
              "VBox(children=(Label(value='0.216 MB of 0.216 MB uploaded\\r'), FloatProgress(value=1.0, max=1.0)))"
            ],
            "application/vnd.jupyter.widget-view+json": {
              "version_major": 2,
              "version_minor": 0,
              "model_id": "de762299326f41dc9c36e341dffaf058"
            }
          },
          "metadata": {}
        },
        {
          "output_type": "display_data",
          "data": {
            "text/plain": [
              "<IPython.core.display.HTML object>"
            ],
            "text/html": [
              "<style>\n",
              "    table.wandb td:nth-child(1) { padding: 0 10px; text-align: left ; width: auto;} td:nth-child(2) {text-align: left ; width: 100%}\n",
              "    .wandb-row { display: flex; flex-direction: row; flex-wrap: wrap; justify-content: flex-start; width: 100% }\n",
              "    .wandb-col { display: flex; flex-direction: column; flex-basis: 100%; flex: 1; padding: 10px; }\n",
              "    </style>\n",
              "<div class=\"wandb-row\"><div class=\"wandb-col\"><h3>Run history:</h3><br/><table class=\"wandb\"><tr><td>epoch</td><td>▁▁▁▂▂▂▂▂▂▃▃▃▃▃▄▄▄▄▄▄▅▅▅▅▅▅▆▆▆▆▆▇▇▇▇▇▇███</td></tr><tr><td>train_accuracy</td><td>▁▄▆▇▇▇▇▇▇▇██████████████████████████████</td></tr><tr><td>train_loss</td><td>█▄▃▂▂▂▁▁▁▁▁▁▁▁▁▁▁▁▂▂▂▂▂▂▂▂▂▂▂▃▃▃▃▃▃▃▃▃▃▃</td></tr><tr><td>train_loss_u</td><td>▁▃▃▃▃▃▃▃▃▄▄▄▅▅▅▅▆▆▆▆▆▆▆▇▇▇▇▇▇▇▇▇█▇██████</td></tr><tr><td>train_loss_x</td><td>█▅▄▃▂▂▂▂▂▂▂▂▂▁▁▂▁▁▁▁▁▁▁▁▁▁▁▁▁▁▁▁▁▁▁▁▁▁▁▁</td></tr><tr><td>val_accuracy</td><td>▁▂▃▅▆▆▇▇▇▇▇█████████████████████████████</td></tr><tr><td>val_loss</td><td>█▄▃▂▂▂▂▁▁▁▁▁▁▁▁▁▁▁▁▁▁▁▁▁▁▁▁▁▁▁▁▁▁▁▁▁▁▁▁▁</td></tr></table><br/></div><div class=\"wandb-col\"><h3>Run summary:</h3><br/><table class=\"wandb\"><tr><td>epoch</td><td>40</td></tr><tr><td>train_accuracy</td><td>0.99152</td></tr><tr><td>train_loss</td><td>1.79131</td></tr><tr><td>train_loss_u</td><td>0.00489</td></tr><tr><td>train_loss_x</td><td>1.66916</td></tr><tr><td>val_accuracy</td><td>0.9725</td></tr><tr><td>val_loss</td><td>1.48914</td></tr></table><br/></div></div>"
            ]
          },
          "metadata": {}
        },
        {
          "output_type": "display_data",
          "data": {
            "text/plain": [
              "<IPython.core.display.HTML object>"
            ],
            "text/html": [
              " View run <strong style=\"color:#cdcd00\">glamorous-eon-29</strong> at: <a href='https://wandb.ai/kpi_diplom/mixmatch%20lab/runs/qqvrwc6n' target=\"_blank\">https://wandb.ai/kpi_diplom/mixmatch%20lab/runs/qqvrwc6n</a><br/>Synced 5 W&B file(s), 0 media file(s), 0 artifact file(s) and 1 other file(s)"
            ]
          },
          "metadata": {}
        },
        {
          "output_type": "display_data",
          "data": {
            "text/plain": [
              "<IPython.core.display.HTML object>"
            ],
            "text/html": [
              "Find logs at: <code>./wandb/run-20231207_151439-qqvrwc6n/logs</code>"
            ]
          },
          "metadata": {}
        }
      ]
    },
    {
      "cell_type": "markdown",
      "source": [
        "![image.png](data:image/png;base64,iVBORw0KGgoAAAANSUhEUgAABckAAAFOCAYAAABdU5WTAAAAAXNSR0IArs4c6QAAAARnQU1BAACxjwv8YQUAAAAJcEhZcwAADsMAAA7DAcdvqGQAAKq6SURBVHhe7N0HfBzltffxo957t2Rb7t3YBtMJJRBaKpBm0ihpQDoJNwlc4IYUQkm54Nx7X0oKIRUSmum9FzfcLRe5qFi9a7WSVu+cRzPyWl6tVquVtJJ+X3+G3Z3ZppXYZ+Y/Z85EdHR09AgAAAAAAAAAAJNQpH0JAAAAAAAAAMCkQ0gOAAAAAAAAAJi0CMkBAAAAAAAAAJOW357kzc3NUltbK9Z97DkAACAUIiMjJTk5WXJzcyUqKsqeO3zV1dXS2Ngo3d3d9hwAABAKMTExkpGRYaZQ0W3tmpoaaW1tlZ4eThcGAECoRERESEJCgmRlZUliYqI9d2ADhuQul0sOHjwo06ZNMxvxAAAgdDTE1kC7vb1dCgsL7bnDU1VVJR6PRwoKCsyGPAAACB3dRi4rK5OUlBRJS0szG9/DtWfPHsnJyZHMzMyQPB8AADisoaHBjN0zZswwxWn+xtoB263oRnteXh4BOQAAI0AH6Pz8fOns7DQb3RpuD5euAEyZMoWAHACAERAfH292ROt4G4qqb60i18o2rXAjIAcAIPTS09PNjuimpqZBj7YeMCTXB8bGxtq3AADASNCxNlStUbSFS3R0tH0LAACEmjNuh6o1Cju2AQAYWTrWBjJ2c+JOAAAAAAAAAMCkRUgOAAAAAAAAAJi0CMkBAAAAAAAAAJMWITkAAAAAAAAAYNIiJAcAAAAAAAAATFqE5AAAAAAAAACASYuQHAAAAAAAAAAwaRGSAwAAAAAAAAAmLUJyAAAAAAAAAMCkRUgOAAAAAAAAAJi0CMkBAAAAAAAAAJMWITkAAAAAAAAAYNIiJAcAAAAAAAAATFqE5AAAAAAAAACASYuQHAAAAAAAAAAwaRGSAwAAAAAAAAAmLUJyAAAAAAAAAMCkRUgOAAAAAAAAAJi0CMkBAAAAAAAAAJMWITkAAAAAAAAAYNIiJAcAAAAAAAAATFqE5AAAAAAAAACASYuQHAAAAAAAAAAwaRGSAwAAAAAAAAAmLUJyAAAAAAAAAMCkRUgOAAAAAAAAAJi0CMkBAAAAAAAAAJMWITkAAAAAAAAAYNIiJAcAAAAAAAAATFqE5MAEsm79BjnhlA+YSwAAJpPHHn9CPnbxp6S0dJ89Z2Aul0v+8+b/MpNex9FYpwAAwDfGSGBiIiQHhsjZsL77d/9rzwmePkegG/QAAGBiaWhslMu//DUT8A+H8zyE/gCAiYIxEsBoIyQHhsjV0SEHD5bbt4KnA/ShqkNSWVkpdfX19lwAADBZNNQ3SG1dnX0reM7z6PqJrqcAADDeMUYCGG2E5MAYiY+Pl/+68T/l7ddfkRXLl9lzAQAAhqa4eLo88tDf5b7/9z+SnpZmzwUAAIyRAAJFSA4MgbZF+eLlX5YtW7fKHx/4s+lDpod/OS1Y9Lq2UNH5eqn313Yqelun/q1V+vdP1dv6PG+8+VbfY/TQMD1ELFjO4WXO8/U/zExf01mmk952OD+LMwXSc83X4WzOa9CzDQDgizOO+honnfFjsDE1FPqPid7jVv/x1Ht87v/e+o+1vuhzf/rSz5sjym75+a19r+e8jq4L6PPofH1f/n5+5/PrP/bq7VCuU+j7c55LJ30Nb/0/P2e5v88OAID+GCP9vw/nZ9L76+sq5/VD0RYWmKwIyYEh0L3Qv7njNsnPz5cvfO5SUwX+kQ9faC8VM4BreK6mTS2SJ558Sm68/kfmfk+veUyyMjPlvj/8oW9w9uXpZ56T9Rs2msf87c9/MoeGvfrqa/bSodHB9bvXXidFRVPk5eefMe9BDzP72a2/NO9BVxzuuf8Pcv0PrzOv98jD/5DExESzTAdZ/Vl+d9dve9/Lgw9IPW1hAAAjQI+u+vhHP2o2hjdt3mzm6Vj07tq1ZrzVI66CGVOHQjdWdRx3xj0dG79+zTf7Nj7//OBfzaW+ti6/9LOfloaGRvP6+j6OWbrYjLU6nX7aaYNu4OrPpK+lnHHY+8iy71z7A7NOoAoLC8d8nUI/B/08nPeq710/L2cj3986xUCfHQAAvjBG+h8jdb3pR9f9QM790Nly1+r/kcpDh+Tfjz5qbl9x2RftewEYKkJyIIR0UNKNYx3cNDy/+utf7RvM9dCuY1csH7QXmgbwF55/nrmenpFuBvj9Bw6a20Olg7xWvWvwoAOpvodPfOwjZoVg67btphe6BhIaQugAnZ+XJx8860xz37KyMvMcb771trksnj7NLAMAYCQsXDDfjKPOmFdZeUg2vr9ZTjrxBHM7mDE1UBpo/+uRx8zr6/tQp512qixauNBsdOpyPY+Ijql79uw1y3VM1LHROVeJvld9zzqG6jIdU4fD2Rmvk/7cY7lOoesI+jno56Gfi3J+X/q56ecz0DqFGuizAwAgGIyRvUH55V/8ogn3f/HL2816iN7W+QCCQ0gOjDDnsCedtDJbBzE9echo0cE/MyPDvtW7p11pCK4rErrXXAfU0z/4oSMOS9OQX/eAO21lODQaADCSdKNu5bHHytp16814oxXlusE6c+YM+x4jP6bm5eb1bVzGx8WZI7F0I1vpeUR0o1wrxfT1ncOZdWN89X//2lSS66HhusypHAu1sV6n0M9DPxeln5N+Xs57GGidQu830GcHAECoTMYxUo90/9DZHzSFbVde9kVzG0DwCMmBEaJ7iLVP2M23/MwMiLqXWwe/0aZ7rHXPtcOpEHfCcudEJs5haf/105/3heE6mOv7dg4/u/PXvzE/FwAAI2HJ4sVmvNm6dZupttJKMA2hR2tM1WouZ5xzKsS9N3q1Uk1fWw+X1g1wJwx3NnKd96WHWOvGeqiEyzqFd1Wevif9vHTdQSvwlL91ioE+OwAAhmMyj5G6rvHMc8/LooULTDsXp+ANQHAIyYEhcg7F8t6Q9sXZuNY9uzog6gCo1XGjyftQcX2v+h68DyfX23//50Pmvs5haQ4dYJ9/4UVzPT8/z1TIBcK78k4/A+c1AQAYjDPe3HPf/abaymm1MtJjqo6B3u3IVP+WZTomOhufGubrkVoOHUv1PSnnPSudp0diDXQ0lh7ppc8z2OHdY71OoT+/fg76eTj9WvVz0s9LPzf9/PQ9DbRO4e+zAwDAF8ZI//Q5tR+5/tx33v5Lk1GE8lwtwGRESA4MkQ5q11z1NTPo6aFSAx0O5dxP9wTrYVN6Ak09CcdI0kPSNRTXveg60Op7uPP2W81Kg77Xcy/4iAmw9SQfOpjrSULu+NVv+g5L073Q//njH5qgWwfYH91wo5mvj9Xn+O63v2Ue54/3SoK+nv7c+jmwQQwAGIyOIdpyZcvWbSYsd/qDBzKm6oal8q7MGojzOjqW33v/H8w8bTOmFVzO4c7OSTz1qCodU3979+/62qnopW6U6mO0ikvHUh3zdJlz4i59nB5irZXx3r1GvenGvB4e7fxcA1WOhcM6hf48zonIvH9O5wTmA61T6Gcw0GcHAMBAGCMHpus5+nPqOob2VXc+A12v+dmtvyQoB4IU0dHR0WNfP0JNTY2kpKSYCQAAjIzS0lJJs1ZsExISJDJyePuud+3aJQutFXYA4UM3ZG/+yU/lW9dcbTb4AYxvXV1dUlJSYv3/XCxRUVH23OBY2+LS0tIiBQUF9hwAABBqmnHrmJueni4xMTH23KMRkgPjhLO3WKvR+tMq7d/ccduobHzrHnzdQ+6L9n7TfmoAAkdIDoSeVndrFZcv2nLMOaJqpGkll1Z06cm7wml8DJd1CmA8IiQHJja2u4GJh5AcAIBxgJAcmLicQ8NpLQJMHITkAACML4GG5PQkBwAAAEaAhuME5AAAAED4IyQHAAAAAAAAAExahOQAAAAAAAAAgEmLkBwAAAAAAAAAMGkRkgMhsmX3G/LD314gVfUH7DkAgPHsL0/dKr964Gv2LYwX+jvT391gAr3fRHbwX/+Skrvvtm9hrOjvoO7dd+1bo4+/AwDjhW5r6za3bnsDQKgRkgMIK7rCc9XPjpcrbl4i37n9jCN2OmiYofN1muzBBgCMF97f3d47HfT7Xb/nfX3fA+OJhsxvff7zZuofNuttZ1mog/Du9nbZ8pOfEHADAIbEex1Mt729dzp4b4/f9D+XSGt7o70EmPgiOjo6euzrR6ipqZGUlBQzAePd9kPPye7qV+1b/s3KOU3m551t3wqcDiYPPHGLfOfz/yu5GVPtuRiK/p+hBiuVNXvlO5/7H3ll3UPywjt/ke9/8V5z39v+cIWcdfxn5QMrLja3gfGqtLRU0tLSJCEhQSIjh7fveteuXbJw4UL71sS2dv9fpbJpm31rYJER0bKw4DyZnrnSnhM47+8gBMf7M9SNLOe7+9gFZx/xPe79HZ+UkGY/OjgaxOdnz5DPnnedPce3QO83VurXrQsoVI2MjZWCCy+U+Nxce07gNNxtLy+XOVdfbc/BUHl/hhpab7/9dik47zzJXLnyiGXu+nrZ/stfyswrr5TkWbPsR/fSkDvr+OPNY8YCfwdD09XVJSUlJVJcXCxRUVH23OBY2+LS0tIiBQUF9hxg/Kpt3Str9/1VOj0ue87A0hKmyKmzvmrfCpyGu7/601flcxdeL4tmnWzPxVD0/wy918FaXU1HLGNdGBOFZtw65qanp0tMTIw992iE5JgU3tv3F9lSsca+5d+iggvkuOmftW8dTQeK595+wL7V64sfuUmy0gqOCHh18Pn5vZ+XptbavvtoEKBB8KMv9w4yuw6sN5ef+tC18ubGx+TAoR2SmpQlP7ziT31Bu27Eb979urm+eNYpfQOU8zz5WdPltQ3/Ns/vhA76POrsEz7Xt/Gvz3PswnP6QmXv2zow/uGxm8z8qXnzBgwpnIDD1/N7P4f3z6Cfw+q/fUeWzz+z7+f2/jn8cX7Gb372v/se6/16a7c+y4CNcY+QPDgv7PiVHKhfZ98aWFRktBw77TOyIP9ce87RvL9nVVxMglz96V/L+yWvHrFh4P397/1dqfMbmqtk57615jtfvwM/cdY35K/W/I7O9iO+8/x9j+rzuDpaZF/FNmlsqTHfo9V1B+Tuv33bPI/zvnSjxfluverTvzriu9a57f1e/X3n6vesr+dXgY4/yvvn8Effl/rgCauOeL/6ufz2L9+Qj57+tb7Xd8ZR/SydsUsfv6P0XfPZ63vw9fvQ9x1MSD7QONb/d+aM54GOncHS4PLgww/btwYWlZgoC37wg6OCV28awta+9ZZ96/BjGt5//4hwVEP5nb/9rbkel5Uli268UWIzMsx70ZC30bp/R22tWTb90ktl9z33SHdbm2SdeGLfczhBcfPOneZ20UUXSdEnPmGu6/N0u1zSYn1Xua3n0ed319XJtl/+0jyP98+ir1dy110y55przHvof9v78/F+/f5adu/2+fzK+3Pxfg59jD5/QmGhVKzpXX/0/jn80ccpvW//8Nt7mcP7PTifedVLLx31Oek85+dNmTtX5l97rURZ44Y+PmHKFPOc3p+vfv6B/G0ofVwgfwf9f7dzv/lN87N539/7vU1UhOSAb+WNm+TlnXeJu7vNnjOwzKTp8pElt9i3jua9fuLQdZFLL/zxESHuQOtVznpRnrWu8t7WZ/qW6Xqdrtv0X+cZaH2o/7as8/yDrSPp9quuE3jf1gDayQf6v35/Az2/v/VIfczMoiXy0nv/6Fsf9c4VBuK9Dqnrnd7vv//6JTBeBRqS024Fk0J28kzJTZlrLv1Nzn0GooPc+ztflp9/c43ce+MmM2A5G8v9PfHq/zODkt7vu5/7X3l9wyNmUFMHKrfLKcs+ZpbpwPb3Z2431XR6e1r+fHn+7QfN/ZwwQefrpHTwc+jzxMclm2X6Hv7voetkXvFKc/u3P3jNBAnOcwxE35O+N32P+jh9H2u3PWcvPZI+v/M+9flLy7eYz0SnJ1+7t+9z0UBDVwB0UFUa9uw52Psz6OtU1e3vW+bPM2/+UYqnLDIDdGHubPPzOJ+hBuT6vM5tAJNLXuo8yUmefdT3eP8pN2WeZCZOtx91NA069btEv9N0mj11uc+NFv2eS4zv/b7VKS05+4jvSg3I9Ttfn0OX/euF/5abvv6Q+V7U7zx9vBrse/rdLU/LJ8/5rvzq2pfMbd35qu9H76+X9/zrh33PNRD9ftXndb6TdYPJ12P0fv949k7zPp3n1w0j/V4dyvij46D39/NA9PV0DF065zRJik8187bvfcdc6niiz1nbWGFuK90YO37x+eb7Xunz6/3089FLf7+PofI3junz6vPrfP2d7T6wQaqt+YGOncFKW7RIck8/XXJOPdXvlHvGGRKXnW0/6mgaYGoQvfL//s9M6ccc4zM41RC6edcuOfFPfzJTjvXaGsw6NCDXsFSfIzYrS/b9+c9yzC9+ISt++1tpP3hQNFhWe+67T9IWLzbPofdt3Ly5LxxW+pzTV62S5b/+tbm95557zPvR++vlzv/+777nGogJ7K3n1dfWx6XMnu3zMXq/fQ8+aN6n8/wmSG5v73tPOl8npYGzo7mkRKLi480yDYP19fRx/ujr1b3zjqQvXWpua3hda91W+lh9Dg2jvc28/HITLOtr6GeiYbTy/pz09xedmNj3XmMzM81z+eI8Tu+n70N3hAyF2UHw8MN9n63uDNly8819n7m+ts7X363+vej8qpdflsU33WTmaxX9QO8NwMSWGp9v1s98rY/1nwpSF9mPOpqO97p+8pnzrjNjrK5neAfF3nRnua4X6P10DNf1EWc7U9fv0lNy+55D76s7x/X2ada2s25rKr2/v/Ut721ZDaQHW0caiG7j63qNPkbXvd7Z8pS95Ej6/M77dJ5f11fVYOuRGpB7r48661n+6PvS++p6V07mVGmyfl5dz1L6eF2P1fAcmAwIyTEpFGedIOcvukEuXHyz30nvo/cdiA4acbGJ9q1eZVW77GtHuuyj/2UGHO3ldecDXzWDi+49VjoIzZ9xvLmu4a9WoGkVuNIBUfdw68qBDnpa7e340ElfOCJg1ufRajyl83SZhg9Kg2XdaB8suND7aRCt71EHXw3bddKVAu9eZPsqtsr+yu2mak7nffOXp5pKeA00tNoyN3Na395l/Vm8B+V46zPT9670M1Q60PZ/De/3qYO9rpBoVaHS96TPqa+r909PyTnqdwFg8tCjfi5YfKPP73Lv6UML/sPaYJtvP+poehSQ93dJh7vtiKDWoaH5Scd8tK9/4+bdrx/x/a87OPU7UL9T9btKN4LM7fhU8/z6nIF8T8+ZtqIvoNfvUH2sfkcrnT8tf4H5zvVHX1ffw02/6/0u/9gZV5vH6gacvned9Pten18rkfQEWDrPGauqG8qGNP7oZ6ifmzlEt99rOPTn00qkpXNPN+9Ff3bdqNVqe72vbgxPtT7D/vQ1dCzQ13U22PTzGOz3MVT+xjEdr3X803FKXfaxn0iOdT9fY2coaXCqrTlmffWrfqfpn/2sxKQNXMGuoaZ3Va+GtRq69qfhbNHHP256XGv/bA1KvQPd5DlzzH30ufQ5NUQ3t+PjTcWyPqcGphqYOyGx3tcJTZ2AWZc5Ab1WPOtjNUxWOj/Fep3Bgl19XX0PG//jP0yom3/uueaxGnw7/b/1ulNRve6b3zTzNt90k3l/7oYG8560ytuh79Mss34GFWc9v+6AUPpaWomuVdr9X8OhP59Wumdaz+n8fPqc+rnofdd9+9uSPHu2mR8I789JL/V511vPoc+lledt1nv1xftx+rn2D+UHo599QlFRX1ivOzx0p4h+lvr+W0pKzN+I0r89vZ++nn62ukNGK8vHqm0MgLGVHJcjZ837rs/1sf6TvyO3nXUpb7ou4GubVtdxdB1L1wV0fcasx9iBrm6DOutcuq6iY7yz7qLb4M5zDra+5b0tq/cfbB1pIPpeXrXWGXRdSd+L5gX6GO/zs5Ra29z6/Bro6zzvdZxA1iP71j/tz9B5nPdreL9PXYd5Z/OTpkJf6WPPP/UKs36j99eCAF/rZ8BERUgODIEOGrrn1gkUvENcbzpIORvTupdXK810cB0qHax1QA+U3t8JoYdC94jr+9RqPf25dLDUlYPVP3rHzL/pa/+UhPgUM9A6VXbO5IQCGu4PVf/X0MFcaUCug7Ue1uXMU1o94LzurKnLzGfqvRwAhkq/h/S7RHfA6aTfc77CTv1e1Mpi5wghrWgKxlC/p/X9BPM9p9+Xt33nWRM+Oydk8v4OdX5G/TmceTppBXtOeuGQxx+Hr9fQMVEPDdafxTkkWHmPAdqqRPV/TR139XG6Aasbq7oBq59HqH4f3gYax/Q96Oeiof73f3VO305dX2NnONIAU8Pqd7/yFTNp4OsrxNSweeMPf9hXhaztRYKhobe+RqD0vsG05tDWICt+/WtTKf7uV79q3r+2HNH3bt6/3dJE26g483Qy1drp6X1h/1D5eg0NyLUNiT6fM0/payy64QZz35X/+79mh4KzQ2AoNHzWam6t5Nfn0p9pJA30HjUQ189P/0Y09NewXH925zPRqnkN8fX9AsBwaPDs7EjXSx2Dfa0PaeCs47COx7qdqusMwRjK+law60jOeo8G7PpzOWG5rmPo+/deB3OOVHMmZ/0pmO39/q+ht5Wut+hne+UnftY3T+n6m/O6V3zip6YQIpiMARiPCMmBIdC9rlrlrYcv6aDhHex602o6HUycvby6Ye+ybg+FPq+GAc5hYEqve1e6edN5Org7rVp0A15PwKGhvvMenSo7DUtK9vf28tX73f/IDeZSww1t/+KrGs95/j8/8VN7jsje8t7DafXn1EPonb3Sesi57kBwquWHwgnINfjw/jn1/TnPr5d6WLyzRx8AgqXfh/FxSX0bA/o96It+LzrV4vodpJXFQxXI97Q3/Q7ViiF9j0ov91du6xtbdJxxqqX0OfV7V+n7u//R/zTPqeOUVqf7qo53KqSdcNf5nh3q+OOPPqcTkPf/bPW1dLnSNi+6s0I3IPvTjUmtZNLx16kAC8Xvw5u/cUw/H530venh0Uqr7QMZO8OBhsca1jrB7kC9u7XiWftPa0CqwWcwLTOcCm+nTYs+T8VTT5lqZF9BuFYme7dq0Uttc+JUomv1tlP1rs+p/bmVVnvv+8tf+kJovb+v6nin8tkJbfX96GP1cbrzQN+bQ697V1AHyjsg7//ZOq+n9GfTVixOdbpD38tgYb1WjTuV/Pp8+jONFP0s9X0671v/DvRz189SP0ed9LPTFjZKq/L1d6E/q/78unNloCp3AAiUjrtO+xMNln2tH+gYrGO1U9WtO9SddaGhGGx9y1sg60jarsQ5glyX6fqaeuSlu81zawitIbjmA856kMN5fi1ycJY560tDXY/0xwnI9TPu/9k62/hKt/31+Ye6/geMV4TkwBA4g4PT8kMn55Al3buqA50OJHo/PaTcOUxJT+imA9pQOXuMnddSAwU46isX957QTO+r71EHNOc5NFDWw7t0mfdh7dX1B633V933M2lA7YQQ/enz64qH835+++A15mfXgVUPy3Iq7LUXb/+QOxC60qDvUU804jyXUwGpgYUzTy/19XytLAHAUOiGyKHafX3fazo5lcJ6KK4e4qobEvq9qEGsLtcK5rnTj7WfYWj8fU/3p9+hemIqPZGU3l8vr/zEz813n79xpqa+TPaVbzXzdTIbkHZLL2/6HFo95FRq6ftxdoQOdfwZiIbf2tJFP0fnufTz1Z7e2n7FGXv0M9HPxhdn41U544q/34dWhOtY4mzsDsT7fv7GsfqmSnNb5+ty/Z1JT0/AY+dYMy03ysr6WoTo5FQAJxYVmdYdGnxqkK202nyorUG8aY9tDVb1dfS59Hm9q6u9aeirLWX0xJp6f72c+41vmBBWl2mLEW3jocs0tNW2H0oDcW3/4fw8ett5/970OeZYz6cnGHXej1aeK+c9Oc+hBtqB4I+G69rSRT9H57mcz1eXOa1e9GfTn9VXCK9tX/TEl05FfH8arGswbp775pslzd6JECrefwf62WvQ7bxv7T3vnLhTP2e9rfN1ufnMrf8XdL5+tjq/+uWXj9oRAABDpeOys47jTLo+5rSx0+1Zpe1GnHagwbYG8be+5Yu/dSSzjpY5rW99wmkR2uZqkvaO1r7X0J9Nz1HmK9zW59d1OmcdQ9vnOS3nhrIeORDdftf1Gj1JqfdnrJ+vLtNtfGeeGurzA+NZREdHR499/Qh65s+UlBQzAeilA4cezuUdFOhhUrr32tfh+QAwmNLSUklLS5OEhASJjBzevutdu3bJwoUL7VsIhHOyI2cDQMPx3/7lG6aV1kAbR8B44vTN9m4Noieo1NsaiAIYmq6uLikpKZHi4mKJioqy5wbH2haXlpYWKSgYeusGYKLSoFZ3pGvrTWfnuK/tcAAIlGbcOuamp6dLTEyMPfdoVJIDQ9D/UGodwLW6LZieZACAsactPLxppY4eJkvvxfFPx2jnRFXek3OE0mTR/8SNelvbZwTTjxvjk1bhOyf99J4GqlwHgLGkreScFiUODciDOQcWAAwFleTAEGnluB42ruJiEnz28QKAQFFJPra0clx7ZmtLEJWalBVUuyggXGnluPbM1pYgSvuOO+0zAAwdleTAyNPKcW2j4tBzf9D2A0CwAq0kJyQHAGAMTZaQvKenRyIiIuxbhw00HwCAUArVeENIDgDA+EK7FQAAEDYGCiYIyAEAo4HxBgAA+ENIDgAARpRW7+nkXPe+9OZrHgAAQ+VrzGGMAQAA/hCSAwCAEaXVe04FX/9Lb1T5AQBCwdeYwxgDAAD8ISQHAAAjxlflnvc8KvsAACOJMQcAAASCkBwAAD+6PG77GoLhq3LPex6VfQCAkcSYAwAAAkFIDgCAD4ead8qLO38jz2+/Xd7b/xdp7ai1l2AotGrPVxUf1XwAgJHWfwwCAAAYCCE5AAD9dHV3yJt77pX61n3S0lErda0HZPuh5+2lGAqt2vNVxUc1HwBgpPUfgwAAAAZCSO6lvd3VNwEAJq/q1t3S3tkgLe5aabUml7teWl3V0tHVYt8DQxVIBbmOv21t7eJydRx1fy655JJLLrkcyqWj/22MDratAQDjTURHR4fPtYaamhpJSUkx02TR3NwqLS2tkpAQL+npqfZcAEC46PZ0Sou7xrQ+aemoNpfNHVXWZZ11u0pcnU3i6em27x28+OgUcXU127dEUuJzJTNxupw+5xqJiAjt/uXS0lJJS0uzxp4EiYwc3nPv2rVLFi5caN8af6qramT3td+Vmd/4puSuPM6eCwBA+Ojq6pKSkhIpLi6WqKgoe25wrG1xa/uzRQoKCuw5E0ddXYNUNG4Td8QhWV78cXsuAACjTzNuHXPT09MlJibGnns0QnIvhOQAED7cXa1S17Zfalv2SE3rXqlrLZWWjpqjQvCk2CxJjssxU2JcukRGRNtLBhcZGS0J0SmSEJMhibHp1mW6xMWkWM8RJesP/FM2lT8u0ZFx1mtkyHHTPyuF6cfYjwydiR6SOxV8zuHueluvO5fenJC88JJLZOpHP2rPBQBg6PyNN8NBSB4YDcnLGt6XNjkoJ8xcZc8FAGD0EZIHgZAcAMaGtjGpa90nta2lJhTXS21z4gTiibGZkpE4TbKSpktqfJ4dimdLQmyGCbRHir6nJlelZCfPMq83EqgkP8wJyTNPOlnmfv1r9lwAAMIHIXlgNCTfX79WWrpL5dS5V9hzAQAYfYTkQSAkB4DQ6va4pb2zUdrcDdLurpe2zgZxmdv1Zn6Xp9O6V4/Utuy1rneYxyTFZUpGwjTJSp5pTTMkK6lYEqJTJdRtTsLFZAjJvav4/FX0aUi+/xc/l5ikRFn6k5/YcwEACB6V5GNDQ/LSureksatEzpx/jTUndL8DAACGgpA8CITkACYzbW/S2lkvafEFQVdnd3d3SFVLiZQ1bJbyxvelsb3cZ4/whNh0SYzNMO1NdEqJz7YrxWeYfuATNRD3hUrywzQkr7j/Pmnfvk1OuP9+ey4AAOGDkDwwTkhe594qH5j3NYmNSrSXAAAwugjJg0BIDmA8aeuoE1dXkwmXgw2Vq5p3SHnjZqlo3CI1LXv6Au3MpN7AOjNpuqnk1usD9frWliQV1nPo8xyynk9Prqn0cQVpiyQlPt/0+07UQNy6jJ/AVeHBoCf5YRqS16xZI40vPCfLb79d4nJz7SUAAASHSvKx4YTk1R0b5JTZV5hWeQAAjAVC8iAQkgMIVy0d1VLXdqCvX3dt615xdTZbS3q/wlPiciUtYYoJtTU0T7eu6+3+YXS99RwaiPeG2lvE09Nl5qcnFklB6kKJjU4Ud1ebCcz1dZzlKsO6jz5/ZlKxREqUqRivaNwqHZ1N1rvokZioBClIWyhF6cukMH2pqRAnDB8cleSHVVfXSuN770nNgw/IvO9+VzKWL7eXAAAQHgjJA+OE5JXt78qJs74gmYnT7SUAAIwuQvIgEJIDCBd6oqOalt3WtNcE4toKxVtSXJY1ZUuE9a+np1saXRXS0an3OfIrXYPt9IQi8fR4pKp5p+kHroF2VGSM5KXMk8L0Y2RqxgpzUsr+gbZWhGuVuL6P6pZdUtWy0/QW77Gey6FhfEHaYinKWGY933zzvBiayRaS+6vo05C8/WCZlN95m0z71Kdkykc+Yi8BACA4VJKPDSckL2t7Q1YWf0byU8fvTnwAwPhGSB4EQnIAo6Wlo0aaXVUm3G52HZLGtjLreqWpGO8fdGsYnqX9upNnSnZS78ks46KTrCVHbvBpAN7QXi71bfutyzJpsJ5Tr3d26wkxeyQpNlOmaCievsy6XCpRkb7bp/jT5q4zoX2b9Vr5KfMlJT4v6P7l6EUl+WEakne5O2XfD38g2SedJLO//nV7CQAA4YGQPDBOSL6/5SVZMe0SmZZ5nL0EAIDRRUgeBEJyACPB3d0m5Q1bpKJJ+37vNtXZ/YNwlRKfayq6tWejhs/aB1z7esdFJ9v3CE6ru9YE5Wnx+bQ/CUP0JD/MhOSdXXLoN3dKlLXysuSWW+wlAAAMjb/xZjgIyQPjhOR7m56VY6Z+TGbnfMBeAgDA6CIkDwIhOQBHe2eTVDVvl2ZXjaQnFto9vwPfgNETWJY3bDIns9Rg3JGfukBS4/NNEJ4Ul2kuNRhPjM2wloZuAw7jB5XkhzkheePf/yKNGzfKCffdp+m6vRQAgLFHSB4YDcn31b8je5qelgX5Z8vCgvPtJQAAjC5C8iAQkgOTVY+0dtSZYFunyqZt0tReYS87klZ7a8idllBorqfFF5iq726P2wTiOlU2bpUuj7Y4EVMJrieznJK2xLpcZM0h8MORJkNI7l3F56+izwnJO15/RSoffVSW3XabxOfn20sBABg6KsnHhobkBxvWy+6mp6Q463hZPvViewkAAKOLkDwIhOTA5KAnrtQe4E4grielbO2otZdGSGJMmuSkzJH0xCJ7np7EskOaXdXS6q4zvcQ7uprtJUdKsB6rJ8MsTF9qQvHhtkrBxEcl+WEmJO/qlog9u6T0f34nc7/1Lck8jh6mAIDwQUgeGA3JtXhkT9NTkp82T44v/ry9BACA0UVIHgRCcmBi8/R0y766t2Vz2RNS17bfzIuw/ukJMXNTZktO8hzJTp4tyXFZZtlg9OSYbR110txRJd2eTpmSvkTSEwrtpUBg6El+mBOSJ7jaZPt/3iBTL7lECj/2MXspAABDRyX52NCQ/FDTDtnT9KSkJebLqbO/as0N3e8BAIBABRqSD29rHADGAU9Pl+w49Lz8e+N18krJ70w1+NKij8n5i26QS4+/Ry5cfJOsnP45Kc46IeCAXGkgrsH4vLwPysKC8wjIAR80mPAOJ5zr/gKL+Lw8iYiOlraDB+05AAAEJ5QBOYYmMiJGoqMSpMvjNieRBwAgnBGSA5iw3F1tsqnsMfnn+u/K23v/ID09HnOo5yXLfyXLiy6R3JS5EhUZa98bwGhwKsv9ioiUhIICadeQPJD7AwAwgIDGHYyIqIgYiY1KNCG5u6vVngsAQHgiJAcwwfRIu7tR1u3/uzy84buy/sA/JT46WU6Z9VX5xLLbZEH+hyQ6Kt6+L4DRFlBFn3WXxKIiaSsrIyQHAAwLleRjRyvJY6ISzQnu3d1t9lwAAMITITmAsKWV343t5bK7+jXZePBfsqn8Mdla8ZRsP/Sc7Kx60czfW/uW7Kt7Tw42bLCmjfLW3j+acHxzxROSllAoZ8z9hnx06c9kVs4p1or68PpGAhg6reDzruJzrg9W2ZdQWGgC8vbycnsOAACBC3S8wcg5HJJ3UkkOAAh7nLjTCyfuBMZSj3R2t0t1y25r2iXVzSXW5V5rhbrFXh4YDcKnZqyQBQXnSl7KPHsuEL4m+ok7h8I5cWdGRpq0bdksO3/9a5nzjW9I1vHH2/cAAGBsceLOwOiJO1vbm6Smc50cbHpXlhVdLFMzV9hLAQAYPYGeuJOQ3AshOTA8np5uaWwvk13Vr0pD20GJiYqXmMh4c8KemKg4a0qQ6Ej70rodZU0d7iapbtFAfLfUtx0wzxMRESkpcXmSmzJHcpJnSWpCvs41y/yJsP4lxKZLarzeHxgfwjkkv+++B6WhoVGuuuoyiY8/uk2RLrvjjtVSX98gGRnp8r3vXWWNn2n20sO0is853N37en/eIbk01MuG739fij7xCSm66CL7HgAADI2/cScYhOSB0ZC83dUu9Z5NUlLznCwt/IjMyjnNXgoAwOghJA8CITkQHK0A31v7puyqfs1UgA9NhAnTs5NnSW7yHMlJmW1dnylx0cn2cmBiC9eQXAPydes2ysyZxT5DcpfLJatX3y9nnXWqLFu2RDZs2CQvvPDagIF6ILxD8vj4OHn7ssskY/lymfvNb9r3AABgbBGSB0ZD8o4OtzR6tsmWqkdkQf65srDgXHspAACjh5A8CITkQOA8PV1S27pPSqpelNLad6TL0yFJsZkyJ/cMmZl9siTH5dj3PEwredzdrdLpcUlXt04dEhUZJxmJRfY9gMknnCvJS0v3y5o1z8nll686KvjWKnIN0nWZVo9raK63L7jgbCkunmbfq/f/e9W/ktxXZV//kHzT9deLp7NTjvnFL/QJ7HsBABA4KsnHhhOSt8pu2VL1qEzPWinLijgyDAAw+gjJg0BIDgymR1ydTbKn5i1rek1qW0tN+5TC9KUyO/d0mZK2mJNjAkM0XkPy/pXket+7775XLr30EnPbH7e70zzezs9N/q3XXa4O8Xg81opLtPksKh/4ozS9957Muf1OiYiOlsTEhN4HAADgR1xcbEiDcW+E5IFxQvL2yAOyperfkpcyV44v/ry9FACA0UNIHgRCckxWPdY/rexuc9dLW2eDtOul27q0ruu89s5Gc+myLjut+2nP8NS4PFM1PiP7REmMzbSfCcBQjdeQXDnBeHu7y7Rl0ervk09e6Tck14q+zs4ucbvd9pzDWlvbxOPpMeGGBg+1zzwtVY8+IjN/+GOJKyw04zMAAIPRna39j2AKFULywDghuTuqUrZU/UtS4vPktNlfs5cCADB6CMmDQEiOyUJPsNnSUSOVTdusaYtUN++2blfbS4+m1eF6Qsz46BRJTyiSWTmnSkHaInspgOEYzyG5t4HarQxF/3Yr9evXy44775TZV10l2SedZN8LAICxQ0geGCck746ple01j0l0ZLycOuur5uT9AACMpkBD8uFtjQMYF7R/eGN7uew49Jy8sut38q8N15rprT33SXnDFslInCrLp14iJ828XM6Y+005d9GP5aNLfyafPPa38rnj75XPn/B7uWT5r+XDS34ip87+KgE5MIlpEK6T0r7kGo6rF198zQTp/QNyreDTyeFc9543kMSiItOLpb2sTB9gzwUAYHBDGW8wcqIiYyUmKkm6PZ3i7m6z5wIAEH6oJPdCJTkmih7xSLu7QQ7Ur5fyxi1S01Ji2qdEWP9iY5JNT8D81IXW5TzJTJpuPwrAWAjHSnLvNiqOCy88R84881TTh1xP1Llq1UXm+p49pWa5tlu56qrLBq0496d/Jbl6+/LLJX3JEpn37W/3Ni8HAGAMUUkeGKeSPCreJXsanpdGV6WcUPwFSU8otO8BAMDooN1KEAjJMZ719Hik1V0r++vWWtO7cqh5p5kfE5UgBWkLJT91geRZU2ZicG0QAIyMcG63EipaxRdIb1hfIfmmG2+U7tZWWXbbbYTkAIAh8zfuBIOQPDBOSB6b2C37ml41bR6Pm/ZZyU2Za98DAIDRQbsVYBLQ3uJNrgrZVP6YPLn1J6aFynv7/yKtnQ2yoOBcOXfBj+Qzx66WM+d+Wxbkn0tADmBMeIcT/oIKPYnwM/uulcb2MnuOSGJhobgOHZKeri57DgAAgQtlQI6hi4qIlVhtt9LdKR1drfZcAADCDyE5EAY6u9vlYMNGeXPP/fLs9l/KSzt/K6/v/j95u/SPsu7A3+X9skdlW+Uzsqv6VdlX9441vScbDj4sazbfJP/a8APZcOAha6WzRRYWXCAXLPpPuXjZHXL89M9JftoCiYyMtl8FAEafVvB594N1rnvP66+9q9G+Zvclt7QdPGguAQAYCn/jDUZeVGSMxEYnSnePm57kAICwRkgOjJEuT4c57PDNPffJvzf+hzy//XbZWfWClDdskn1175pAfHvls7Kp7DFZf+Af8k7pn0xw/tLO/7am38jm8sfN8+gJNz+85L/kE8fcJsdO+7RkJ88y8wEgHGgFn69Kcn+Vfa7OwyF5QmFv71Jz8k4AAIaISvKxFRkRbdo/ejxd0kklOQAgjNGT3As9yTHSuj1uqWvbJ3tr3jIn1WzpqLZWGuNNb76Z2SdLYfpSiYs++v857TeulRdacd7Z7TJnh4+NTpLU+Dz7HgDGq8nQk9ybVvQNFFhUVdfIk7u/K8dMuUSWTfuomddRWyvrv/MdmXL++TLtM5/RtMPMBwAgEP7GnWCM157k9933oDQ0NPo9ybbeZ926jeb6lVd+TpYtW2KuB8PpSZ6amiy17m2ybv/fZUb2SXJM4cftewAAMDroSQ6Eie6eLqlr3Sdr9/9VHtt0vazZ/F9SUvWSJMVmyokzviQfW3qrnD3/+zIz+xSfAbmKiIi0liVLclyOZCROlezkmQTkAMalwYOKHnF1NdjXReKysiQyLk7aysvtOQAABI5K8iPD74E8+eRz5vKuu26VW275kaxZ85yUlu4384YrOjLWtF1xU0kOAAhjhOTACNHK79K6t00bFQ3Ht1Y8bU5co2d1/8jSn8p5i66XeXkflKS4TPsRADDxaAWfdz9Y57r3PG+REVHS5j7cbkVpX/J2epIDAIZgsPFmMrn88lVy7bVXS3x8nD3naBUVVbJiRW/leHp6mixfvkS2bdtpbg9XlAnJY8XdRU9yAED4irrhhhtusq8foa2tTeLi4sw0XBs2bJJbbrnT7I2urKw2A64vuvf6N7/5X3M/3eM/Z85MM18PC/vpT38lDz/8uLz55nvW4L30qEPEdO+4Lve1LFBud6eZYmKi/a5AAP60uutka/mTpof4zkMvmBYrc3PPkONnfEGWTb1IclPmmKpwAFANDQ1m3NLDvoZb7VZXVyc5OTn2rfCgP5P3z+Vc9/Wz6rrHweZ3JDIySubkfsCeK9Kya5c0bdsmUy64QCKiORkxAGBw/sab4fB4PGa81UO2h9smrbu729r+dI9Ki1Pdpi4p2WO2xaN9jKWVlYes5XvNcpfLZW2bPy9dXd0Dbrs79Gfo7Owyl96THtaun5V+Rh1dzVLdslOkRyQ3cbF0d+n8CLMDg4mJiYmJSafhjqn+6Hamjk263e2vVdqI9yRvbW0zwfeqVRdLcfE0E2YXFOTK+eefbd+jlx7K9eCDD8lVV11uAurVq++Xs8461fRB836MBu4vvPDaEb3UnHlK95Lrnu9g0JMcwdIe4bWtpbKj6nk5WL9Ourrdkp5QKHPyzpTirOMlPpq/JwC+TYae5LrS44QU3tf7q66ukTcO/la6pV0uWn6bPVek4qmnZN+DD8ri//xPSZ49254LAMDg/I07wRivPcl1e1uL0XR72VdRmQbjug2+Z0+p2R4++eTjpb6+0dzfHw0d9H79acDeG3pESGvnIdnV8LTZZlqc82mJi0qVpKRE+54AgMlOh+nExAT7VugF2pN8xEPy3btL5ZFHnuwLtX2F3EqryPUQL2cQdm5fdNGF1mB9X1/IrnvAfd2+4IKzzfMSkmM0dXS1yMH6DbKz6iWpbimRmMh4KUhbJHNzz5T8tIWmbQAA+DPZTtzpj4bk6yrvlxrXTrl05f+z54o0btok2267TWZdcYXkfOADvWtRAACMgYkakvfn9CjvX9wWKO8Td3qiWmRz+ePS3FElJxR/QdISptj3AgBg5IVVSP7yy2/0hd8DDc79B2EN09et22RCcq0kd8Jv3cOttzUUdyrTtXeacz3QkFwD8f70UDdtt6IrO7GxR39oWuEe6sP1MH54erqkzV0ndW2lZmp0lUtbZ500tpdJQkyGzMg6RYozT5TUuJFfyQUwevR739eYECoTPSTXKjLVv5LcV2WfhuSbqx6S/c2vy6XH/z+Jjuxtfeaur5d13/qWFJx7rkxfZa1PMBYDAAJEJXkvX9vhuv2sdJ5uZ7tcGiCkmfs6R3kHW4DmHZJHxnTI1spnpKp5hxw3/bOSkzzHvhcAACMv0JB85Bq+2Orq6u1r/mnVuC9aKa4Dti9OsK4tWYaqp8fjY7IXWnRlqv+EyUMD8ZaOKtlX/7ZsKPu7PF9yq/x78/fk8a0/lDdK/1dKal6QNnetZCZMl5OKvywXLPyJLC34BAE5APSjwYR3OOFcHyiw0EOwVbu7wVyq2IwMiYyLk/ayMnsOAACBCWVAPh5p4P39798ot99+t2zdukOuvfZGsx2t29i6re148cXX5PrrfybXXHOd3H33vebI7WAD8v70pJ2xUYnS5emUDk7eCQAIU+O23coll3xEHn/8WdMzzZu2Srn66ivMfYeKdisTm6enW1o7aqS+7YBpk9I7tVpTs7nu7m4X3VmiOjqbpaG9N4zRlbrU+DzJSiq2phlmSksstFb0Rq5fEoDJY7K1W9GdzgMFFtXVtbKv4S3ZUvtXOW/R9ZKXMs9eIrLllluko7palv/qVxIxgid1AQBMLP7GnWCM10ry0eZdSR6fECO7ql+VbZVPyzGFH5MZ2Sfb9wIAYOSFTSV5fn6u2UtdWdlbKa4tVBYsmGMCcg3C77zzd2b5ggVzzRm1ncrxbdtKTBsV3Xudn59n3d5pHq97wvWx06YVyXe/+3W5665bzXTLLT+SmTOL5cc//m5QATkmNldnk2wpXyNPbL5JXtz5G3ljz72ydv/fZGvFk3Kgbr00tVdKj6fbVDikxOVKUcZyOWnm5XLhkpvlM8feLR9d+jM5ZdZXZH7+OZKTMpuAHACCNFhQER/Vu3Peu5JcJRQWmrYrHmvlBgCAQE32SvJwEBUZI7HRCebEnVSSAwDC1YiH5HrWaq0C10O29NAt5fQd926xosG29hnXQ7z0EDAN0p02KqtWXWRCc338Qw89fkQfNcAfrQyvbt4lr+3+X1l/8J/mJDFnzv2mXLTsdlm18v/k8yf8Xj593N3ysWN+YaoWz5r3HTll1pfl2GmfNiffzE6aKdFR/K0BQLD6tyxzrnvP8xbrtFvpPDIkTywqMpetBw7og811AAAGMth4g9GlR+dqWO7uPvrcYAAAhIMRb7cyntBuZWJxd7XK7po35P2yR6yV426ZlXOKLJnyUYmP4XcLIHxMtnYr/mi7lbaOBnnp4E3W9/VHZMW0T9lLRJq2bpWtv/iFzPzSlyT3zDO1NNBeAgDA6KHdSmC8261o4Vx5wyZzJG9B2iJz8k4AAEZL2LRbAUZfj9S17pM39twn7+77syTFZsjJM6+U46ZdSkAOAGPAVyX5QGKjkqz/Rkhbv0pybbei2g4etL7lAQAIDJXk4UGryKkkBwCEM0JyTCid3S7ZVfWKvLjjV1LeuElmZZ8iZ8z9lkzLPJZ+hAAwRry/fwf/Lo6QhJi0o3qSx6SlSXRysrSXl2viYc8FAMA/tgHCg7ZbibYm3V7TlpgAAIQbQnJMGI3tZfJ26R/lzb2/l6ioODm++PPm5JvJcdn2PQAAo00r+HxVkvur7IuPTj+qJ7nSvuRaSQ4AQKD8jTcYPb0n70ySbo9bOrpa7LkAAIQPQnKMe56ebjlQv05e3Plb2Vf7tqkaP2PuN2V2zmkSGTG8PoEAgOHRCj5fleT+KvsSYtOkrV8luUooKpLOpibpamHjGgAQGCrJw4NWkcdGJ0qXCcnb7LkAAIQPQnKMW+7udtlX9648s+0X8sKOX5mqhOVTPymnzPyKpCf09q4FAISXQCr6EqLTTJWZ7gT1lujVl9x6InMdAAB/qCQPD9puRc870u3plE76kgMAwhAhOcadNne9bK18Sp7a8hN5aedvpbG9XObmnSVnzv22LCw4T6KjYu17AgDCTSAVffExadZ/e8TV2dg7w+acvLO9rMxcAgAwGCrJw4OG5HF2uxV3FyE5ACD8EJJjXOix/jW2V8jafX+RNZtvkndLHzSH6i2feol8ePF/yUkzLpPMpOn2vQEA4UIr+Lyr+JzrA1f2RUh8tIbkulP0yJYr2pNcww4NyakLBAD4M/h4g9EUHRkjMabdSqd0dNNuBQAQfgjJEdY8PV1S3bJLXtv1vyYc31r5jCTEpMspM6+UDy++WZYWfkyS4rLsewMAwo2G2t5VfM51f5V9Tkje/+Sd0cnJEpOa2ltJTugBAPAjkPEGo+dwJXknleQAgLBESI6wpCtPFY1b5YUdv5antvxU9te/J7mpc+Ssed+W8xddL7NzP2DOjg4ACH++Ksn90RN3qnYfJ++MLyzs7UkOAEAAqCQPH1ERsRIVGSUd9CQHAIQhQnKEFT1JW3Vziby663fy3PbbpL7tgMzNO1POXfBD+eC8a6Uw/RiJjIyx7w0AGA98VZL7oyfuVG39KsmVtlzpam2VzsYj+5UDAOALleThI8rajtOps4t2KwCA8ENIjrDQ0+OR2tZSeX33/8kz224111dM/aR8dOlP5YTiL0h28iz7ngCA8UQr+HxVkvur7IuPSTeXvirJ9eSdGnjQcgUAEAgqycOHtlyJjIih3QoAICwRkmNM6Qk5tVr8zb2/l2e2/VzKGzfL3Lyz5NyFP5JFUy6QuOhk+54AgPFIA21fleT+KvsiIyLN939759HV4omFhebShOQAAAzC33iD0aUn74yOjBN3d7tokRQAAOGEkBxjptFVIe+WPiDPbP257Kt9W6amL5dz5v9AVk5fJclx2fa9AAATSaAVfQkxafaJO4+8f9L06eZS+5JTHQgAGAxjRfjQSvLY6ETp9rjFTV9yAECYISTHqGvtqJH1B/4hT225RXZWvSiZScVy5rxvyamzv2Zd7w0/AAATU2AVfRGSEJsubT7arUTGxUlsRoa0l5fbcwAAGBiV5OFD+5HHRSdKl4bk9CUHAIQZQnKMms5ul+yueV2e33GnvF/2qCTFZslps78uZ837juSnLrTvBQCYSLSCz7uKz7k+WGVfYky6uEy7laPvp33JW/fv1yex5wAAcKRAxxuMnmitJI9Kkm5Pp7i7CckBAOGFkBwjTvvNVTXvkld3/4+8uec+iYtOknPmf18uXHyTTM9caSoKAAATk1bweVfxOdcHq+zTSnJPT7e4OlvsOYdpSO7p6BB3fb09BwCAIwU63mD06HZfb7uVTung5J0AgDBDSI4R1dpRa1qrvLDjDqlrLZVjij4uZ877tkxJX2qtsPLnBwCTga9K8sEkxKSby96+5EdKKCoyoYc5eScVggAAP6gkDx/akzxGK8l7qCQHAIQfUkqMiM7udtld/Zo8v+MO2X7oeSlKP0Y+OO97smTKR8whdgCAycO7ii/Qij6tJFftpuXKkRKLisxl044dhB8AAL+oJA8fGpLrUcXd3dqTnEpyAEB4ISSfpFydTVJa+5a8sedeeaXkblm3/2+y49ALUtawURrby0zIHayalt3ycsld8tru/5XIyBg5ddZX5eRZX5aMxKn2PQAAk4WG2L4qyQcLtxNi0sxlu4+TdyYVF0t8fr5UPvOMdDU323MBADgaO1PDR4T1T/uS6xHFhOQAgHAT0dHR4XOtoaamRlJSUsw0WTQ3t0pLS6skJMRLenqqPXfi0BWRQ83bZXfNG1LZuFU6uo7u8+pN9/Inx+VaU5YkWVNMVKK9ZGAasFc0bjFVAnNyz5R5eR+UhJiJ91kCQKiUlpZKWlqaNfYkSGTk8PZd79q1SxYuHL8nQq6urpWurm7JyEiTjp46+ffGH8iKaZ8yRyH1V79+vez89a8l98wzpfgLX5CIYX52AAAEoqurS0pKSqS4uFiioqLsucGxtsWt7c8WKSgosOdMHHV1DdbP55bU1GRJSjq8HVnW8L6s3f9XKUpfZsZ4AABGmmbcOuamp6dLTMzA50UkJPcyEUNyrQivai6RvbVvmvC6zV0vMVEJkp86X2blnGZdLjRheGe3S1o7aqTJVdk3NbSXS1N7pXR0BV6lpydjKUxbKksKPyLZybPsuQCAgUy2kFwr+gY69N07JI+K8ciD735FFuR/SI4v/rx9jyNtveUWabZ+5mNuvVXi8/LsuQAAHOZv3AkGIXlgBgrJK5u2mZA8M7FYTpp5mT0XAICRQ0gehHAMyfXM33pSEw2xu3TydIinp9teOjDt4arV4mWN75uTZ0ZGRFkrItNlZvbJMjXzWEmOy7bvOTitQG/pqDGvHRkRbaaoyN7LSOsyqm9ejJkAAIGjkvww75A8Pj5O/vT2l2SaNWadPucb9j2O1Lpvn2y+8UbJWLFC5lx9tUQMM6wAAGAwhOSBGSgkr27ZbUJyPUH36XOusubQMx4AMLIIyYMQipDc09Mlbe4Gae2olhZ3rbmu1dweT6d093SbS71Pt6fLXHpf7+ruMGF4p6e9NxT3dEhPj8d+5uCkxOfJ9MyVMiPrRElPLDJhOQAgfIRzSH7ffQ9KQ0OjXHXVZRIfH2/PPczlcsnq1ffLnj2l5vaFF54j559/trnucHrBOlV8TkWfr8q+/iH5w+u/J4mxGXLeouvtexxt1+rVUvPWW7L4xhsleeZMfSF7CQBgMvM33gwHIXlgBgrJ69v2y4YDD0uP9e/U2V+V2ABaegIAMByE5EEINCTXALuubZ81wB80LUp6p1ppcdeIq7PZBN79OVXWpuK6rwLbum1XZGtldnRknMRExZspOtKarMtgQ219reykGZKdPNs8HwAgPIVrSK4B+bp1G2XmzOIBQ/Inn3zOXGowrmG6Pubyy1dZY2jvSTeHqn9I/uSWn5gjoy5adpu11HfA0WGtr2y87jpJmjZNFl5/PdXkAIARRUgemIFCcm3ruansUVNMduLMyyQlLsdeAgDAyCAkD0KgIfnu6tfkfWtgb3JV2HNEYqOTrAE+V1IT8iUtPt+6LJBU6zLFmmKjEux7AQBwpHCuJC8t3S9r1jxngm9fIfmGDZvkhRdeMyG6y9Uhq1ffJ6tWXSzFxdPse/TyruLzV9HXPyR/aed/y4H6tfL5E+63lg5cBbjvwQel8umnZc43vmFar3ASTwCAg0rysTFQSN7aUStbK56S2ra9snL65yQrqdheAgDAyCAkD0IgIXlnd5u8XfpHqWzaLjOzTpYp6UskPaFI4mMmz+cEAAid8RySK60mf+KJZ831K6/8nCxbtsRc98ft7pTa2vojDoPXy/621/1b9je/KmdN/ZnExSSa8dmX7tZWKbnpRomyNsJn//gGifCz4gMAmPiSkxNDGox7IyQPzEAhuaurWXZUPi8HG9bLiqmfloK08XsuFQDA+EBIHoRAQvJ9de/K+wf/Ldkps2XxlA9zeBgAYFjGc0iu7VXUqlUXmd7kqn9rFif8dsIKva2Tx+Ox5/XO16sanGsluW5Qx8XFyZaKx2RD2UPykcW/MEdnRUUN/PlUrFkjB/7+d5n+hS9I7hlnUE0OAJNUR22t9HR3S0Jenrnt7IwNlXAOyXXcvvvue+XSSy8ZcKe1tke7447VUl/fYG47O7j7z1eB7vz2ZaCQvMvjkpKqV2Rn1YuyrOgic/4sAABGUqAhOVuQQ9Dt6ZSKxi2mP2p+yjwCcgDApKUb0zpddNGFJhT/7ne/bq10pMn27SX2PXppMOEdTuh13RkQHR1twgUNvnXy3kGg86OjoyQpPtPc7vQ0m9vOc/maplx4ocTm5EjZv/8tHrfb532YmJiYmMJv6unqkvayMp/Lhjrtuvtu2fDd78rWm2+W3ffcY55b508GTkDe3u6y5/j28MNPyMUXf1juuutWufbaq+WNN941J+JWGRnpcsstPzLLdAo2IPcnKjJO4qJTzLa1u6vVngsAwNgjJB+CQ83bpa61VArSFklm0nR7LgAAk4dWj+ukPcOVbpQr3cDW0Lyi4pC5PRCnsjwQCTHp5rK983BVmz/TLr5Yupqb5dDTT5sqQgBA+PF0dkrTtm1y4KGHZMtPfiLvfeUr8v4PfyjvXH65bP3Zz+Tgv/4lTVu2SHd7u/2IwFQ++6zUb9yoA410W6/RceiQ1Lz11pDGnfFMzwdy2203y4oVx9hzfCsoyJV16zbZt3p3eut5RZTu7HbG95ESYf2Ljowxl+7uNnsuAABjj3YrXvy1W+np8cjaA3+TPdWvy4ppn5RZOadZwzr7GAAAwxOO7VZ8VaNdeOE5cuaZp5q2KroRrS1Y+h+arfc5//yzzfVg9D9xZ13bfnns/etl5fRVsrDgXOseg1cDbr7pJmkvL5djbr1VYjMy7LkAgLGi1dxt+/dL45YtZmrZvVu6XS6JiI6WxKlTJXXePImMi5POxkZp3rFD2isqzON0edK0aZI6f76kWPdJnjVLYqzxUumOUL2fBuFt1nd+R1WV1K9bJ51NTWa5RESY+6ctWiRTL7mkd16IhHtPct2RvWLFEr9V4Hqfdes2mu3eq6++wgTs/cf+mTOLj2qh5ku39btoazu6el2fR5fFxESbo8e8HWrdIttqHpXC1GNk6ZSL7LkAgMksLi7WvhZ69CQPgr+QvLp5l6w78HeJiUqUY4o+zlm4AQAhEc49yUPBqeBzDnd3esM6l976h+Ta3uzva78hi6dcIMdO+7R1j8FD8satW2X7bbdJ3plnyvRLL5WIYQYYAIDAaSDeUV0t7sZG6WppkZpXX5WmHTukq7XVnCsiNjtb0pcskbTFi004Ht1vW7PH4xF3XZ00Wd/lGqg3bd9ubit9fIy989NdW2suHbosKjFRutvazHNExsZK0owZknPaaZLzgQ+EtOXKeA7J9agv3dm9YMEcOemklWZH94wZ082Ob1VZeUjy8/OOuN9gO781CG9tPboi3OVym2UakGvLNG81bSWyvfZRyUwsluOmfs6eCwCYzAjJw4y/kHz9gX/KjkMvyLKiT8jc3DMlMvLIveEAAARjoofkQ9E/JBfpkT+89SWZlX2SnDr7q9btwEKOHb/6lTRs2CBLf/ELScjPtx4WunAEACY7E4TX1orr0CFxVVaaSz2Cx1VVZSq6+1jfvTGpqZK6YEFvKD5/vsTbJ9MMlKkYt567cfNmady2TVqscS7KGi8TCwsloahIEqZMkUTrMr6gQKLi4mT77bebcD06KclUkc+47DKJGqQSeqjGc0iu1eLeJ+TWMFzvf8EFZ5tqcm8bNmwybVmcAH2oBjpxp6pu2SVr9/9VEmMy5ANzrrLmME4DAEYOIXkQBgrJG9oOynv7/yIeT7csm3qx5KbMsZcAADA8kyEk964a91VB7jg6JBf5x7pvSVpCgZyz4DprEzqwjei2gwdl83/+p2Qce6zM/upXzSH7AICBafsTbYOiLU+06lurwM1kX/dYG5ZKq7S1pYmG445I6ztWQ2oNwOOnTJH43FyJz883l2PR9krHAGvDTRKn9Ya+/sadYIy3kFyD8Xvv/bNcccWl1jZumqxefZ+sWnWxCcWdtml6Is9t23aa6nKdP5RK8oH4C8nrWvfL+oP/lEhrXD919tckJirBXgIAQOgRkgdhoJB8a8WTsqXiKVmYf67My/+gREeO7MlMAACTB5Xkh/kKyR/fdKN097jlo0t/FnBIrvbcf79Uv/SSLLzhBkmZNYtqcgDwQUPwmtdfl/I1a45uYRIVJbHWxmR0cnLvlJRkLrU6PDYrqzcUt6bYzEz7EZNDuIbkTp9xR0ZGunzve1eZkPzPf/7ngL3Hr7zyczJ//hyprKwyYXqozjPiLyRvclXI+wcfkfbOJjl55hWSFJdlLwEAIPQIyYPgKyRvc9fJO6UPmMsV0z4l+anjN3wAAIQfepIf5iskf377Heaw7E8ft3pIIbm7oUE2fPe7kjRrliz4wQ8k0s/KEABMNl1tbVL3zjtS8eSTpipcw+6C88+XlDlzTBAelZQ0Yb43J1slebjwF5K3dtTKloo1pqL8hOLPS0bSka1eAAAIpUBD8uFtjQdI+5ldc811ZtI93AN58snn+u6n1x16GNgNN/zczNdLve3wfsydd/7OHBoWSgfrN1qD9z6Zkr5UMhIZvAEAGAoNJrzDCed6oIFFQmy6dHS1iKen254TGK1+LLjwQmkpKZGGTZtMiwAAGO/0u0x7f1e/9po0bdtm2qQMhbZNqXv3Xdn2i1/InnvvNSe6nPbZz8rim2+W3DPPNH2+Y6zvz4m0YzGUATlCIyoyRmKjk8yRYh3drfZcAADGVtQNN9xwk339CG3WClNcXJyZhkPPdP3AA/+Qr371i7Jq1SWyfv0mc9bsOXNm2vfopYd9PfvsS3Lddd80Jw558snnTUW3nl37wQcfloUL58q3vvVVycxMl4cffkKWL18imzdvk5KSvfLjH3/Xesw5sm1bidTU1B713IFyuzvNFBMTbSrYdKN8x6HnrMtWmZP7AUJyAEDINTQ0mJNn6R7t4W7I19XVSU5Ojn0rPPmr6GtraxePp8eM/9F2H/Halr1yqHm7NQ6fYW1QH1mJNpjkGTOk+vXXpe6ttyTrhBNMqwDrxe2lABA8Dadd5eXmpJIdWp3kZ3LX15sTUJrvoCBpW5S6devkwN/+JvsefNAE3dWvviqHnn1WmrZuNa+h51+ISUkxbVL687jd5oSW2oqqYs0a6wfoloLzzpNZX/6yOanmRD7aJtSV5B6Px4y3Wo023CPAuq3fg9v63UzEo7e1nYv+fHFxsRIbe+TfV4/1r9FVbo3xeyQneY6kJUyxlwAAEHqaceuYpNvd/o4CG/F2K7t3l8ojjzwpV111mXkzWlX+wguv9d12aEV4RUVV39mzndsXXXThUScX8b7tcE4uctZZp/o8k3d/nZ1d9rXDdONcJx3Ik5MTZV/d27Kl8nEpSF0s8/POleT4LCoRAGASGu5GsD/0JD/MV7uVHYeel7f2/l4uWHyjtSE928wbiqYtW2T7HXdIQkGBLPjhD00bAQAIlobVDRs2SOUzz0jLnj323MFpcB2XnS2p1nd02qJFkjJ37qAntfR0dkrrvn0mDK9fu9acVDMyLk6SZswwj/dY2z8t1vd+2/794unq3baJSkyU1PnzJc16ndQFC8wJNfU+ZY89Jo2bNkm0tTzrxBOl4IILTIsVDB3tVgLjr92KHh22p+YN2VT2qCwp/IjMzvmAvQQAgNALm57kGpK//PIbfeG3VoyvWfOcud0/JFfOyUE0TF+3bpMJybVFi95fz8atYbje1mpz7zNy63znZCSBqKqqsa8dptVrvZUGIt09nbKt9mGpc5XIvMyPSV7iUmtwT6IADQAmGa1+6l8BFUr0JD/MV0i+v+49eXHnb+SMud+S6ZnHmXlDVfXyy7L397831ZJzv/lN+pMDGLLOpibTw/vQCy9I24EDEpeTIxnLlgW8403bnLTu3y+tu3dLV3u7RMbGSkJhofle0kBbz58QbY0D2k5FT6BZ+/bbUvvWWyYk1+8sbYOSfdJJkrF8ucTn59vP2kv7izdv324qxbUFi76//qKs7a60JUuk8CMfMSH7ZOBvvBkOQvLA+AvJ1b66d2Xtvr/JvPyzZVHBefZcAABCL2xC8nffXS+bNm0bNCTX4LugIPeokFwrwx988CG56qrLfYbkDqeSfMGCOUGfhdv7xJ3NPbtl48GHJSt5hiwu+LCkxOfa9wIAIHSoJD/MV0iuJ+1cs/lmOXHGl2Re3lnWnOCCjv1//7tpMZB/zjky9dOflki7nQsA+KNtTGpee83sbOuorjZHpeR/6EOmhZOe3HKotE1Lm/W937h1q2mT0mJd1wBdQ2wNwjUQb9m9W3q6uiQuN1eyTjpJslaulMSpU+1nGERPjwn0m7ZvN0fSaLW7tnmZ8tGPmgp2DB8heWAGC8kPNmyQtfv/JtMzjpNlUy+25wIAEHqBhuQjd/y4LTMzw1R7a4iteq93mOveNCDX9iqOiopD5lKDceWcrFMf61z3poG7Bural9x5rWD1iEcqGjdJe2ej5KcuJCAHAGAYnGpy5X09EAkx6dZ/I6wxuaF3RpCmfepTknnccaZFQvUrr5j+wAAwEA3ED/zjH7L5ppvkwEMPSVRCgsy88kpZdOONknvWWUEF5ErD8JT586Xoootk4fXXy7G//a3Mv/ZayfvgB03ArVXkeWeeKYtuuEGW3XabTLXuF3BAriIiJCYtzYT4My6/XJbccotpNTWZA/KhjjsYHdGRsRJlTXr+LwAAwsGIh+T5+bkmtK6s7A3AtTpcq7011NYWK3fe+TuzfMGCueaEnk6grmH3ihVLTEiuJ+/ctm2nebxWoutj9Xn18U6bFqXPrff3rlAPRl3bbqlt3Sf5qQskI3EIK6UAAOAo3oe5D/WQ98TY3p697e7hheRq1le+IkkzZ0rpH/5g2hJoWwMA8KYn2jzw97+bcLx8zRrTR3zOVVfJouuvl5zTTjNheShpD/H0Y46RaZ/5jCy2XnPZHXfI9M99TpJnD/0cDPAtlK1WEDpREbHWFC0dXS32HAAAxtaIh+R6aJWeZPPuu++Va665zsxz2qF4V45r6xRtoXL99T+Ta6+90QTpzgk4V626yITm+viHHnq8r1XL8uVLzHPofJ00YNf7Dk+PVLZsliZXpRSkLZK0+Il36BsAAKNFK/h8VZIHWtkXGRElsdFJ0tbZaI3Qw6M9gOd9+9sSl5cnu1avlvayMn0j9lIA44Xu4NKTVe79wx9k43XXyY4775RDzz0n7ZWV9j0Cp21NtId32SOPyKYbbpD13/mOVDz9tGl9oucwWPjDH0rm8cebE2ZifKKSPDxFRcZY43uidHvc0tV99JHmAACMthHvST6eaE/y8rodsrtxjcTHJckxRZ+QrKRieykAAKFHT/LDfPUkV49s/KHZmL5wyc0SEWRPcm/tBw/Klp/9TKITE2Xhj34ksRkZpkUBgPDmcbuluaREDj3/vDS8/77p5e0tIipK4nNzzQkq05cuNdXY2o+7P3MSzX37pG7tWmnYuLF3h5lFvwsyjz3W9AFPmTvXzAP6oyd5YAbrSd7YXiHvl/3bVJKfPPPKviPHAAAItbA5ced4oiH5RmugPtj8hiyb+gmZm3uGREZyYi8AwMiZbCG5VvQNdOj7QCH5M9t+YW1Ml8slK34TkpBcNW7aJDt+/WtJnjnT9AOmShQIX12trSYUr3z2WWkpKekNs084QXJPP10Si4rEXVdn/p/W+zTv3Cnuht72TBqQ6//jaUuXStKMGdLd1ib169dL4+bNpue4is3MNOcr0GrxFOu+EX42nDA++Rt3gkFIHpjBQvKWjhrZUrFGGtoOyvEzviAZCUX2EgAAQouQPAgakr+97z7p8DTIyhmfkdyUOfYSAABGBpXkhw0Ukr+6639kT80b8oUTfy8RIewUd+iFF2TfAw9I1oknyowvfcm0YwEQPjT8rn3rLal65RVT7R2flye5Z5xhKr3jsrLsex2p2+UyrVi0Qrxh0ybTSkVbqjgirO/ZuNxcyVi+3ITjGqJHRFMUg8ARkgdmsJDc1dko2yqfk/LGTXLc9M9KXso8ewkAAKEVaEgedcMNN9xkXz9CW1ubxMXFmWmycLs7pbOzS/JTFkhBxhxzaDcAACOpoaHBnGdDB+vhVrrV1dVJTk6OfSs8OL1gnZ/NqejzVdnX1tYuHk+PJCTES7RXaFXdXCLVLbtkXt4HJSZqeCfn9pY8Y4Z0Wes7VS+/LFHW+o6e1FMDNABjy1VVJeWPPy57//hHqV+3TmKzsmTqJZfI9FWrJG3xYtMqaSCR1neHBuhpixZJ3plnmlA9cdo0U32ebj1WT5Cpz6Uny9T78f/8xOVvvBkOj8djxlvd0B7uzu3u7m5rG9Q9IQvT2ttd5ueLi4uV2Nijt6t7rH8N7WVS21oquSmzJS2Bc4EBAEaGZtw6Jul2t78d3KwV9pOTsFBykuZbG+GhPXM9AACTkQYT3uGEc30ogUVibLq5bOvsbaEQStM/+1nJWLFCDvzznyaM67FWngCMLk9np7SWlsqBhx6STddfLxt/8AOp1JNnFhTInG98Qxb9+MemtUp0crL9iMDFpqdLzqmnyowvflGmfvKTkjxrluldjokvmPEGo0cL0uKik8yJO91drfZcAADGDiE5AAAYUU41ufK+HqiEmN6QvN2tIfnQHz+YWV/+smm5sOeee2Tfgw/29jMO4n0C4U7/trUnt/bt1pNgjiVti9K0bZtpebTpxz+WTTfcIOWPPWbeV8G558rC6683J9bVliicMwDDEcy4g5EXGRFtjg7z9HSLu6vNngsAwNih3YoXbbeiU0xM9BG9UAEAGCkTvd2K8v65/P2MA7Vb6ehqkT3Vr0lB2kLJTJpuzQltVaC2Z9D+xJ2Njab1SvVLL5lQxfQqpuIUE0B7eblUrFkj+/78Zzn0/PNS/corUv3qq6Z3t+4Qik5JMS2HRlpXS4s5aaa2Utn3l79I5TPPmJ7h2iM8/9xzpfjSS6XoooskbckS0x4FCIVQV5LTbiUwg7VbUS0d1XKoaZskx1vfAakL7LkAAIRWoO1WOHGnFz1xZ0tLq9k4T09PtecCADByJvqJO50KPiek0Nt63bn0NtCJOxvby+WRjf8hy6deIosLPyIRIQ7JvbXu2SP7/vpXad6xQ2IzM2XqxRebE3tyYj+MRy27d0vls8+ak1jqyStTFy2SrOOOM8djNG3ZIo1bt5qTY0YnJUny7NmSuWKFCajj/Oxs67Y2MlzV1eKqrBTXoUPm0l1ff8TJMQeir6X9xrVtSsqcOabVkfYYj8vOtu8BhJ6v8WY4OHFnYAY7caeqaNoqa/f9VXJT5sjxxZ+35wIAEFqBnriTkNwLITkAYLRN9JB8KAYKyd3dbfLXd78m8/PPlpXWRvRIhuSOuvfek/3/+Ie4KipMRbme7E9DPSrLEe66rQ0ArdbWinHd2RMVH2/C6LxzzpGkadPse/XyWPfVXuB1a9eaNiwaeOsOocSpU83RFRpedzY0mPntGopbU2dTk/3oI0XGxkqU9T2mrxepVTo6xcUdvm5NGsYnFRdLyty5QfUXB8IBIXlgAgnJq5pLZO3+v0pyfI6cNutr9lwAAEKLkDwIhOQAgNE22UJyfxV9A4Xk6oG3L5OijBVy+txrRiUkV3oywUPPPSdljz5q2kRob+Spl1wi8QUFEjHM3xUwEP27c9fW9lZqV1ebINsE0PHxpje3E0QfEUBb87rb26V+7VqpfP5500ZFW5jknHKKZJ96qsRb1wejJ63Vtiz1GzZI/XvvmTYo+l6UvkZsVpYJzZ3LOK/LGOs7jKMtEK6oJB8bgYTkda2lsu7APyQqMlY+MOcqiYoYOLgAACBYhORBICQHAIw2KskP8xeS/2v9tRIfmybnLbw+pGFHILRyVoPyqhdeMKFh5vHHS2JRkQkutZ+5hoM6+bqulbPxeXkmZLTeuP2MmOycIFyrszuqqnoDca/WJU44HYyk6dMl74MflIxjj5WY1ODXZ/V9dLW2mt7g+ncMoBcheWACCcm1ndrGg/8yR4ydMuvLfSfqBgAglAjJg0BIDgAYbfQkP8xfSP7Ulp9Im7tBPrHsNutxY1PF3V5WJgf+8Q+pt/s7D0V0aqok5OWZwDw+P18SpkwxfZ/1ujlhIgH6hKetexo2bTL9wbVXuAbQ3jSINpXadnV2dGLigH8XWvWtbVW6XS7xWJNe18dnrlwpaYsW9e6UASY5f+PNcBCSByaQkLylo0Y2lz8hje1lcuKML0paQqG9BACA0CEkDwIhOQBgtFFJfpi/kPylnf8tB+rXyueOv0/GKiR3tO7bJ53NzdLT2WnCco816aWv69qmRSuGO3TFzJq62to0ubGfqZe2qtDQPM363aUfc4zpB61V6BgZnY2N0qAtRTZulC7r9zioiAhTka2/o4TCQkm0Jm1lokcS+KMnuGy2/p/U9iWNmzZJR3W1Cbf1hLD6u9Ze9/o8pn2JNWnLFADhj5A8MIGE5O2djbK98hmpaNwqK6evkpyUOfYSAABCh5A8CITkAIDRNhlCcu8qPn8Vff5C8rdL/2RtSD8rnz3udxIbPX5bP3S1t0tnba1pZeGqqhJ3XZ3pO926d+/hEDUjQ9IWL5b0pUvNpWl1EcIqyMlId1o07dgh1a+9Ziq5AwrH/dCAXI8E0LY7Gp6by8JC8/trLikxAXyLdak7SZTeR3eAZK5YYU5cqb3EAYwOKsnHRiAhubZZKal6SfZUvy7Lp35SijKW2UsAAAgdQvIgEJIDAEYbleSH+QvJN5U9Zk7u9bGlP5f0xIl5OLaeKNE5aWLr/v0m2FUpc+aYgDXNmpKKiqgyHwI9EWXdu+9KzRtvmH7fGk6nL1kiOR/4gKTMnRtwWxI9GqCtrMw8X7v1ezLXKypMtbgv+jvS3uAZy5eb3uAJBQUSMcwwDUB4ICQPTCAhebenS/bUvC5bKp6QpYUfk5nZp9hLAAAIHULyIBCSAwBGGz3JD/MXkpdUvSxv7LlXPrTwP6QgdYE1Z2JXVmtrFtMSZO1aUwHtnMhR23JkHHec5J5xxrgNXjVobtyyxfTnbrX+/rUPtwbWqfPmmcvhniRSg+uG99+X6ldfleadO03f7uRZsyT75JNNz26t1A+VI8Lzgwf1D1ySdafG0qWmrQqAsUcl+dgIJCRX++rekbX7/iYLCs6TBfnn2HMBAAgdQvIgEJIDAEYbleSH+QvJyxo2yvPb75BTZ39NZmSfJBETPCT3pq1BNFDWimi99FgreEpP0Jh75pmSvmxZ78k/w5TpzW23IGl8/32zA0DbkgxEe7KnzJtnQnMNnDXUjvDx/4a2Mumw+727ralbW9lYn1X9+vWmdY0+Tqu4c047zTxnpJ8VYgAIFCF5YAINyQ82bJD39v1FirNOkGVFF9lzAQAIHULyIBCSAwBG22QLyf1V9PkLyeta98njm26QY6d/RhYWnD+pQnJvGpjXvvWWVL30kqlg1rBZq8uzTzlFck4/3VRl+wqUR5u+t8bNm00orgG5BtgqPj/fhN/aaz1l/nxzQkwN/bWivHnHDmnavl1a9uzpu7+Kz8uT5NmzTcjtbmgwAbhOHrfbvsdhWr2tJ8TMOuGE3n7uycn2EgCTFZXkYyPQkLyquUTe3fdnSYrNkNNmf12iIv2fFBkAgKEiJA8CITkAYLRRSX6Yv5C8vbNR/rH2G7Kw4Dw5dvpnJ21I7k1biVS//LLUvvtuX6icsWKF5J15pqRafwd6cklvGipre5COujrpqKrqvayuNsG73lcD5b4pKemo6xpo6+toUN3Z2Nh7aU3OpT6PhvYaept+3S6XCa1NKxXr/aRZkwnxBwmV9H22HTzYG5pbk146J8BUsVlZkpCXJ/EFBRKfmytxej0/X+Jzco76mQEg1AjJAxNoSN7SUSNbyp+Q2ta9ctz0VZKbMtdeAgBAaBCSB4GQHAAw2uhJfpi/kNx6pPzxrS/JjOwT5dRZX7UeO/bV0uGis6mpt7r8xRdNOK1BtfYr1z7cGlQ7LUm6W1ulx+OxHxVaegLM2OxsicvMNMF4QmGhpC5YIAlTpoSkzYlLfy7r70WfnyAcQCD8jTfDQUgemEBDck9Pt+yteVPWH/in2RGuEwAAoURIHgRCcgDAaKOS/DD/IbnIP9Z+U9ISp8g5839ASD6Axq1bTXV5/bp1JiBXsdbKoLYsMRXX1qQBulZgx/sIsE1f78bGw5XiXpc6ae/zvjA8J8e0etHq8OjERN0TYj8LAExchOSBCTQkV5VN2+Sd0gckI3GqvSOc8QQAEDqE5EEgJAcAjLbJEJJ7V/H5q+gbLCR/YtN/SpfHLR9d+jNC8kFosK2BtwbYnLASwGRGJXmv++57UBoaGuWqqy6zxth4e+6RnnzyOXniiWfN9Zkzi/3edzBDCcmbXJXyftmj0uKqkuNnfEEyE6fZSwAAGL5AQ3K2MAEAwIjyDieGE1QkxKRLW2eDfQv+aPW4VowTkAOY7EIZkI9XGpCvW7fRvuVbael+2bt3v9x++81y1123Snp6mmzfXmIvHVmJsRmSnTzLGuPrpbZljz0XAIDRRUgOAABGjFbw6eRwrnvPC1R8bJq4u9rE09NlzwEAwL9gxpuJ5vLLV8m1117t8ygth4biWmleWVllzxGpqDhkXxtZ0ZFxkhqfKxESKdUtu+25AACMLtqteKHdCgBgtIVzuxV/h2br/DvuWC319UdWdl944Tly/vln27eGZrB2K+sPPCSbyh6RTyy7XVKsjWkAAEbbeG23opXia9Y8ZwLzgVqo6H3uvvteaW93yYoVx5j7Dqa7u1saG5vtW4d1dnaJx+Mx6za+1m/6t2BpdJXJ1kOPiru7TY4t+oIkx+bYSwAAk0FiYnDtvQJBT/IgEJIDAEZbuIbkzqHZgfYk1Q3rBx98yLrv5aYabSBa0RdsT/Idh56Xt/f+Qc5bdL3kpsyx5nAIPQDAP3/jTjAmaki+YcMmeeihx+V737tK3nzzXXnhhVfl6quvsH5O//3BNSR3uzvtW4e1traZoFzH89jYowOJuLhY+1ovd1erlFS/LHtrX5clUz4m0zOPt5cAACaD6Oho+1roEZIHgZAcADDawrmSPJCqM+VyuWT16vvlrLNOlWXLlthzh26wkHx/3Xvy0s7fyulzrpHpWSutOYTkAIDRNVFDct05vmLFkr5xXEPzdes2BVRN7stQTtzpOFi/Qd4u/aMZ44+b9ll7LgAAw0NIHgRCcgDAaJsIIbluSL/wwms+K86dXrBOFZ/e1soyDcP7F/Y1NbWYQ7N1HPZVSdDceUCe3fFTOXbaKpmT80GJICQHAPgQHd0bXuvYQyV5L19jugbjSuc9+eRzUlFR1ReK6+1t20oCOprMl2BC8rrWUll74O8SGRElp83+msRGJdlLAAAIHiF5EAjJAQCjbSKE5P2rzwajh2XreHtYb3jhdrtNmBEVFSkREUd/FhGx7bJm249kfu55srjg44TkAACf9GikUAbj3sZbSK5judNn3KHnDznzzFPNUWDaIs0Jxp1WayrQdmsDCSYkb+9slB2Vz8mB+nWyfNonpSh9mb0EAIDgEZIHgZAcADDaxntIrq1WdKP6ggvOHrBvqXcVn7+KvsHarXh6uuWBdy6XWTmnyskzrvAZpAMA4I1K8rERTEjeY/3bX/euvFv6Z5mde7osK7rIXgIAQPACDcnZugQAAAHTQNw5PFu5XB1m8neyTu9wYjhBhR5+HRudJC53oz0HAAD/QhmQY2TpEWJJsVmSFJct9W37pdvjtpcAADDyCMkBAMARtIL8+9+/UW6//W7ZunWHXHvtjaY3qVaNNzQcGVDrbZ0/EK3g08nhXPeeNxQJMWnmcGwAAAIR7HiDsZEQmy5ZSTOkzV0vtS177bkAAIw82q14od0KAGC0hXO7ldE2WLsV9ezWX0h9e5l8csVvaLcCABh1tFsJTDDtVpS2ViutfVvWHfi7LMg/VxYVnG8vAQAgOLRbAQAAYWe4FX1aYebqbLKueXpnAADgB5Xk44u2VkuKy5L46BSpay3l9wcAGDWE5AAAYNQMtzdsQky69d8eae9s7p0BAIAf9CQffxJjMiQzqVhaOmqkvn2/PRcAgJE1KiH5hg2b5JprrjOT98m++tN+p8799LpD+53ecMPPzXy99O6H6v0Yf88NAABGn1aAeVeBOdeDrQyLj+09QWi7u8H6L9VlAADfhjveYOwkxmZITspsM9bXNO+x5wIAMLJGPCRvbW2TNWuek2uvvVruuutWM887AHfoScLWr98kt9zyI7n99ptl27YSE66rhx9+Qk4+eaV5/MUXf9iE4XqSMH2eiooqM18fo+G58xgAADD2tILPu4rPuR5sZZ+pJLce297ZQEQOABjQcMcbjJ2oyBhJjsuRyMhoqW7Zbc8FAGBkjXhIXllZJfHx8ZKfn2tur1ixxATgGnJ727Ztp3WfPElP15N1xcuCBXNk3bpNJviurDxk3Z5r7ldcPM08Vp/3/PPPlssvX2XmO4+pqDhkbgMAgPDgq5I8WIl2JXmbqSQHAMA/KsnHp8SYdMlMnCYtHVXS7Kqy5wIAMHIiOjo6fK416Jk/U1JSzDQcu3eXyssvv9EXZmvFuFaW620Nth1OdbkG30orwjUkv+iiC03luN5fA3QNyPX2BRecbQJzh4bpq1ffJ6tWXXzE/IFUVdXa1w7TFSiPx2OqDXxVHOhZuSlEAIDJRc9+HRs78Bmwh6u0tFTS0tIkISFBIiOHt+96165dsnDhQvvW+FNdXStdXd2SkaE7zOPsuUdqbC+XR97/oRxT9AlZOuWj1rjM6VUAAKOnq6tLSkpKrG3OYomKirLnBsfaFpeWlhYpKCiw50wcdXUN1s/nltTUZLMdPVTurjYpqX5ZSqpeMmP+jKwT7SUAAAyNZtw65qanp5vt+4GMeEj+7rvrZdOmbYOG5Bp8FxTkHhWSn3XWqfLggw/JVVddPmBIrvNWr77fVJI7jx9MZ2enfe2w1laXtLe3mzAkKSnJnntYdHQUh+sBwCQUFTVyQexED8mdCj5n/NTbet259BZISK4bzX9d+3WZm3umnFD8BUJyAIBfvsab4SAkD8xwQ3J1sGGjvL339zIt8zhZOf1Sey4AAEMTaEg+4luWmZkZpsrbaa/Se73DXPemAbn2F3c4bVM0GFf6OKWPda4rJyDX+wUakCv9UPpPTgiiKzvx8bFHTRqS632YmJiYmCbXhOBpMOEdTjjXgw0sYqMTJTIiWlydtFsBAAwulAE5RldSbIakJxRJY3uFuLtb7bkAAIyMEd/y117kGmRrD3Gl1eFa8a1V5Npi5c47f2eWa89x7T3uBOrat1z7l2v4rb3KtWe50kp0fazzvE5A7lSqAwCA8OVUlg9HorXR3NZ5eIc5AAADCcW4g7GRYI332SmzpM1dJ1VNJfZcAABGxoiH5HpolfYJv/vue+Waa64z85yKb+/KcW2doi1Urr/+Z3LttTeaIH3ZsiVm2apVF5nQXB//0EOP97VqefHF12TPnlJZt26jWaaTE7oDAIDwE4qKvoTYNGl3N0qP9Q8AAH+oJB+/4qOTzck73d3tUtO6x54LAMDIGPGe5ONJc3OrtLS0SkJCvKSnp9pzAQAYOfQkPyyQnuTq5ZL/lv116+TS4++RyIjh9YMFAExM/sab4aAneWBC0ZNc1bbulff2PSgxUQly+pxrJCoy1l4CAEBgwqYnOQAAmLw0mPAOJ5zrwwksEmLSpKen25zEEwAAX0Ix3mDsJcSkS1aStlxpkJqWvfZcAABCj5AcAACMKKeaXHlfD5ZuMKt2c/JOWq4AAAYWinEHY0d3jGcnzxRXV7NUt+y25wIAEHqE5AAAYET5qiQfDhOSW8/Tzsk7AQCDoJJ8fIuIiDQn7E6ISZXalt3s9AAAjBhCcgAAMGJ0Y9ZXJflwNnLjY+1KcncDdeQAAL8IVce/RGvcz0qaIa2ddVLfvt+eCwBAaBGSAwCAEaMVfL4qyYdT2ZcYk2Yu69sOavphrgMA4AuV5OOfHkGmLVfa3Y1S3UzLFQDAyCAkBwAAoyYUFX0ZiVMlPbFIth96Wpo7quy5AAAcjUry8S8qMkZS4nKty1gpb9ws3T1d9hIAAEKHkBwAAIyaUFT0aX/SU2Z+WTw9Im/uude67LaXAABwJCrJJ4akuGzJT1sgTa4KKW94354LAEDoEJIDAIARoxV83lV8zvXhVvZlJRXLvLyz5FDTDimtfUusV7GXAAAQuvEG4SEpLkuK0pdKR2eT7K97z/q9euwlAACEBiE5AAAYMVrB513F51wPRWXfsVM/KYmxGfLevr9IZ1ebPRcAgNCONxh71tqEpMVPkcL0ZVLXtl8ONW23lwAAEBqE5AAAYET5qiQPheioeFk5fZW4ulpk7f6/03YFAHAUKsknjqS4HCnKWCZt7joprXvbmsPvFgAQOoTkAABgRPmqJA+V6VknSEHqAimpeklqW/fQdgUAcAQqySeOyIhISU8olPzUhdaYXyo1LXvsJQAADB8hOQAAGDFaweerkjyUlX0nzbxcoqNi5A09iaen054LAACV5BNNSnyeTM9cKS0dNbK39i17LgAAw0dIDgAARoxW8PmqJA9lZV9yXI4sLfyENLZXyLbKZ4WTeQEAHFSSTyyREVGSljBFspNnSk3LbmloL7OXAAAwPITkAABg1IxURd+igvPMIdgbyx6RVne9NYfKQQAAleQTUWp8vkzPPF6aO6plX632JgcAYPgIyQEAwKgZqYq+iIgoOXnGFabdyrulf+IkngAAg0ryiScqMkYyE6dKWnyBVDRtk9aOGnsJAADBIyQHAAAjRiv4vKv4nOsjUdmXnTJL5uSeLgca1kt5wybrNWi7AgCT1UiON+GqtHS/fP/7N8qGDZvsOUdyll9zzXVHTHr/hoZGueGGnx81P1ylJhTIjOwTpdlVJaV179hzAQAIHiE5AAAYMVrB513F51wfqcq+FVM/JQnRqfLm3t9LZ3e7PRcAMNmM9HgTbjQAv/vue6W93WXPOVpx8TS57bab5a67bjXTlVd+TmbOLJb58+eY5RkZ6XLLLT/qW75s2RIzPxxFR8ZJZmKxJMVmmB3jHV0t9hIAAIJDSA4AAEaUr0rykRIbnSjHFa8SV2eTvF/2KG1XAGCSmyyV5E4AvmLFMfYc/7RyfM2a5+Siiy6U+Ph4My89Pc26HmeujwepCflSnH2iNLkqpbSWanIAwPBEdHR0+FxrqKmpkZSUFDNNFs3NrdLS0ioJCfHWCkKqPRcAgJFTWloqaWlp1tiTIJGRw9t3vWvXLlm4cKF9a/yprq6Vrq5uycgY/kb6s9t+KZVN2+TCxTdLRtJUibD+AQAwXF1dXVJSUiLFxcUSFRVlzw2OtS1ubX+2SEFBgT1n+O6770FZsWLJoFXgTz75nFRUVMnll68yt/tXomuF+VVXXdYXoA+ku7vbGr/r7FuH+ds5oes7iYkJ9q3hqWvbI+srHpSEmAw5vuhKU2EOABhfoqJCNy74ohm3jrnp6ekSExNjzz0aIbkXQnIAwGib6CG5s5HsHO6ut/W6c+ktlCF5S0eNPLbpR5KaMEXOW/Bjc5IvAMDk42u8GY6JEJK7XC5zvwsuONtUoDsqKw9Jfn6eWb569f2yYMEcOf/8s+2lvmlI7ktDQ5O43Z2SlJQkiYlHB+0aiISCq7NZdlY9L3tqXpelhZ+Qmdkn20sAAOPJSLZHCzQkp90KAAAYMbqy473C41wfyZUglRyXLYsLPix1LaWyq/oV2q4AwCQ10uPNeORydZhJ26t404BcafX4WWedairNB6M7CnxNzuceFRUh0dFRR026PBRTQmyq5KcuEN0lf6BhnXXZ7fN+TExMTEzhPYUDQnIAADBq/B1+HWpLCj8q6YmFsqnsMUJyAJikRnPcCUfaRuWGG35uLh3aj1yP2PI+ausvf3mo7z5aSf7CC69JQUGuuR3uUuLzpThzpTS2lcnB+o32XAAAhoaQHAAAjJrRrhKYn/chae9slIrGLdLT47HnAgAmi3CpThtp2j7lmmuuk3XrNso99zxggnENw3XS0Ntb77wO+1ZvKH7SSSvl3nv/bJ7j2mtvDKjVSrhIjE2XgvTF0ulxyb66dxjvAQBBoSe5F3qSAwBGGz3JDwtlT3KHu6tNHlr/bSlMP0ZOmfUVepMDwCThb7wZjnDvSR4u6uoarJ/PLampyZKUlGjPHTmt7lrZXP6EHGraLsdNv1SmpC2ylwAAJjt6kgMAgDGnwYR3OOFcD2Vg4U9sdKJMzTxODjSsl05Puz0XADDRjfZ4g7GVGJspRenHSEdXs5TWvmXNmdxtdgAAQ0dIDgAARpRTTa68r4+WmdknW6/rkb01b9GbHAAmmbEYdzD6Iqx/qfEFMiXtGKlr3SfVLbvtJQAABIaQHAAA+KT9Te+883dH9TL1tmHDJtO/VKeB7uurknw0FaQtkoSYVNlT+4b0EJIDwKRCJfnkkRyXLdMyV5hzkZTWvm3PBQAgMITkAADgKBqQ68m//NGA/KGHHpdbbvmR3HXXreYkX9u3l9hLe2kFn69K8tGs7NPqspnZp0ldyz5p7qgS6x3ZSwAAEx2V5JNHRESkpCUUSn7qfNlX955sP/ScvQQAgMERkgMAgKNcfvkqufbaq/2eQHPduk1y8cUflvT0NHP7/PPPlmXLlpjrDq3g81VJPtqVfbOyT5ZIa+N5V9Ur4vFQTQ4AkwWV5JNLanyuLMg/VxJi0mRbxVOyp+YNewkAAP5FdHR0+Ny1rmf+TElJMdNk0dzcKi0trZKQEG9t8KfacwEAGDmlpaWSlpZmjT0JEhk5vH3Xu3btkoULF9q3hq+0dL+sWfOcCczj4+Ptub20rYpWmxcU5Mnzz79i5q1YcYy5rz9a0dfZ2WWNuS3WLe/gokfc7k5zLSoqylx605AjKSnRvhWcl/bcLi0dVXLevP+S6Mgjfx4AwMSRkBDXF47ruBPKoLyrq0tKSkqkuLjY53g1FNa2uLX92WKNpQX2nImjrq7B+vnckpqaPOzxe6j0iLHq5hJ5a+/vrd+/R46d9hkpylhmLwUATDaaceuYm56eLjExMfbcoxGSeyEkBwCMtvEckq9efb+pItflzu2zzjr1qGry/jQM93g89q3DmpqapbvbY8bhmJhoe+5hcXGx9rXg7Kp5Rd7b9yc5debXpTB9mehh2QCAiUfD65GqICckD8xYhuRKw/HK5u3y5u57JSY6QU4o/oLkpsy1lwIAJhNC8iAQkgMARtt4D8m9Q/Enn+zt/altVxxOL9j+FX2+Kvuqq2ulq6tbMjLS/LZ5CZa7q00eWv8dyU9bJB+Y/XWJihx4BQkAML75G2+Gg5A8MGMdkitPT7eUN26SN/fcL4mxGXLijC9KVtIMeykAYLIINCSnhAoAAARMW6zopKG5nqjzhRdeM4F5Q0OjrF+/yZp3ZJWWBhPe4YRzPZSBRaBioxNlauYKKW/YKB2dzdYcTuYGABPVWI43CA+REVFSkLpIji/+vLR21Mi7pX+WxvYKeykAAEciJAcAAEfQCvLvf/9Guf32u2Xr1h1y7bU3mipxJwx3aMW4tlvR5ddf/zNZvnyJFBdPs5ce5lSTK+/rY2Fm9skmGi+te9dUmAEAJraxHncwtvSoscL0pXJc8SppaD8o7+z7o7R01NhLAQA4bFTarWzYsEnuuecBc93fSb10A/yJJ5411y+88Jy+w7V1g/yOO1ZLfX2DZGSky/e+d5XZKHfo4954492j5g8V7VYAAKMtnNutjLaRbrei9GReD2/4nsRFp8h5C38k0ZEj8zoAgImJdiuBCYd2K946u12yt/YtWbv/L5KbMk9OmXWlxEezzQ8Ak0HYtFtpbW0z/UyvvfZqueuuW808p2epN61a08O0b7nlR3L77TfLtm0lJlxXDz/8hJx88krz+Isv/rA5zFur2ZR3sA4AAMKLVvD5qiQfq8q+COvfrOyTpb51vzS2lVvv4+gTiAIAJg4qyaFiouKlOPN4WVZ0sVQ17ZB39v7JnKsEAADHiIfklZVVpm9pfn6uub1ixRITgDsht2Pbtp3WffJMJbjT53Tduk2miryy8lBfj1M9jFsfq8+rtNpcg3WtMAcAAOFFe8F694MNhx6xM7NOMX1K99S+TssVAJjg6EkOh56bRNuuLSn8iBxs2CjvlP5Juro77KUAgMluxNut7N5dKi+//EZfixWtGNfKcr2tYbjDqS53WqxoFbmG5BdddKGpHNf7a4CuAbnevuCCs/v6nmqQ7n2fQDQ1tdjXDnO7O6Wzs9McNhcTE23PPUzbsLCSBQCTi37vx8YOfEjWcE22dita0TfQWDoa7VYcT2/9mTS2l8nHl90msVFjfxg4AGBk+Bt3gkG7lcCEW7sVb+2dDbKt4mnZcegFc0LvBXkfkpT4PBOiAwAmnrBpt1JXV29f86+iorcyvD8NwPtXnYeCrif5mgAAwMgJl53NM7NPEnd3u5Q3bqaaHAAmMIqc0F9CTLrMzz9HZuWcKrurX5PHN/+n/H3dNfLo+z+WN/feL7uqX5XG9nL73gCAyWJUKskfeeRJueqqy0zluFaIv/DCa323HVpJrkG5U3Hu3NZK8tWr75NVqy42leMamnvfVsFUkvvCiTsBAKNtoleSO71gnZDCqejzVdk3mpXk7q52eXjDdyQvdb6cNvsqiY6MtZcAACYCf+PNcFBJHphwriR3eHq6pLWjVqpaSqS62ZpadktDW5mZr2KiEiQ3Za7kJM+W3NR5kmtdRkWO3NGFAICRETaV5NqL3LuHuLZQ0X7jGpBrEH7nnb8zy7XnuPYedyrHtW+59i/X0Ft7lWvPcqXtWvSxTo9zAAAQvjSY8A4nnOuhDCyCERudIEUZy6W8YZN0dDZbczixGwBMJOEy3iB8RUZEmzYrs7JPlRNnXCYfWXKLfOa438l5i66X46Z9RqakLZEmV4VsOPiQPLv1F/LvjdfJ+gMPSUP7QfsZAAATSdQNN9xwk339CG1tbRIXF2em4dA+rlOnFsrdd98rjz76lBQU5MunPvUxs+zVV98Sl6tDVq5cLtnZWZKSkiy33363PPPMS3LyySvltNNOMvfTUP3JJ5+XP//5n7J37365+urLJTk52QTqP/3pr2TNmmelvr5BXnjhVamsrJbly5eYxw2V9iTXSfuRj3QFGwAAqqGhwez81T3aw92Qr6urk5ycHPtW+PCu4vNX0dfW1i4eT485ois6+uhzg4RadFS8lNa+LQmxqZKVPNN6XyNeOwAAGGWhriT3eDxmvNVqtOEeAdbd3W1tf7qHffR2OGpvd5mfLy4udkTP7RJqUZHRkhyXbSrIi7NOkPl558ic3DMkJSFHml2HZG/tm7K7+lWpaNxi/q5S4nKoLgeAMKcZt45Jut3t7yiwEW+3Mp7QbgUAMNom24k7/RnNdiuqx/r3rw3XSkxUopy38MfW5eE2cAAA+EK7lcCMh3YrQ6VtWOrbDkpJ1Yuyr26tuDqbJCEmVaZnrTTV6NnJM617ceQCAISbsGm3AgAAJi+t4NPJ4Vz3njdWIqx/M7JOkkZrg7exvcx6Tx57CQBgogiH8QYTg7ZnyUoqNq1ZPnHMrXLyrCslJT5ftlc+J09uvUUe33yj7Dj0vLi72uxHAADGE0JyAAAwYvRQZO/D3J3roTz0fThm5ZwqkZHRsrv69b4TdQEAJo5wGW8wscRGJ8mcnA/IuQt/KB9b+nOZn3e2tHc0yNulf5Snt/5Uyho22vcEAIwXhOQAAGDUhFtFX2p8vmQmzZB9dW9LNyE5AEw4VJJjJEVGREl6YpGsnH6pfHzZL+W0WV8z7dxeKVktb+/9o7jMycEBAOMBITkAABg14VjRNzP7ZHF3u6S84X3x9HTbcwEAEwGV5Bgtem6TGdknydkLfiCzc0+XXdWvyDNbfyYH6tfa9wAAhDNCcgAAMGK0gs+7is+5Hk6VfcWZJ0h0ZKzsqXlTPB6qyQFgIgjH8QaTQ2JMuqyY+kk5c+63pCdC5NVd/yOv7/5/0t7ZaN8DABCOCMkBAMCI0Qo+7yo+53o4VfbFRifI1Ixjpazhfalu2SWcwBMAxr9wHG8weURFxsiU9CXyoQX/IfPyzpLS2rfkqa0/ldK6t62l7LgBgHBESA4AAEaUr0rycLO48EJJjs+WZ7fdKrurX+EkngAwQVBJjrGUEJMmy6d+Uj44/1qJjoiR13ffYyrL29y19j0AAOGCkBwAAIwoX5Xk4SYtvkDOX3iD5KTMljf2/l42HHxYuj1ueykAYLyikhxjLTIiWvJTF8g5C66T+XkflNK6d2TN5p9Iaa1WlQMAwgUhOQAAGDFaweerkjwcK/viY1KtDdj/kOlZx8uW8jXy6q7fiburxV4KABiPqCRHuND1jGVTL5Gz518rMdEJ8vbeP8jmssfspQCAsUZIDgAARoxW8PmqJA/Xyj49gefps78uS6Z8RA42bJRntt0qLR1V0kP/UAAYl6gkRziJMlXlC+WMOd+QtMRCeb/8MXlz7/3S7em07wEAGCuE5AAAYNSMj4q+CFk29WI5aebl0uQ6JE9u/anUtZZa750TegLAeEMlea/77ntQ7rzzd+Jyuew5R9Ll11xz3RGTv/sjeBHWv7SEKXL67KtlRtaJsrv6VXm55C5xdTbZ9wAAjAVCcgAAMGrGU0XfrOxT5ez535OIngh5Zusv5GDDek7oCQDjDJXkvQH4unUb7Vu+XX75KrnrrlvNdPvtN8vMmcVy1lmnSnx8vH0PhFpCbLocO+0zsrzoEilv3Cwv7vy1NLkq7aUAgNEW0dHR4XPXek1NjaSkpJhpsmhubpWWllZJSIiX9PRUey4AACOntLRU0tLSrLEnQSIjh7fveteuXbJw4UL7VnhwKvickEJv63Xn0lt1da10dXVLRkaatVEeZ88de80dVfLCjl9JU3uFrJj2aXPSrajIWHspACAc+RtvhqOrq0tKSkqkuLhYoqKi7LnBsbbFre3PFikoKLDnjJzS0v2yZs1zJgwfLPh+8snnpKKiytx3MN3d3eLxHB0pNDU1i9vdKUlJCT7H9OjoaPsaujxuOVi/Xt7e9wdJiEmTk4qvMCcSB4DJZLjbwv5oxq1jbnp6usTExNhzj0ZI7oWQHAAw2iZ6SD4U4RqSKz2B58sld0tl0zaZnXu6qfyKjUqwlwIAJouJHpI3NDTK6tX3yapVF1s/4zR77sA0JK+trbdvHabB+UA7KHReUlKifQvK02N9jm27ZW3ZH6zPrVuWFnxKClNX2EsBYGKLjIyQxMSR27YiJA8CITkAYLRNhpDceyPZX0VfOIfkDj25lvYOzU6eKXNyz5DizBMkKnLgFS0AwNiikrxXoCH5hg2bZN26TQFVkftTV9dg/XxuSU1NJhAPkP6tNraXyRt77jHnRFk05UJZbE3awxwAELxAQ3J6kgMAgBHlHU6EMqgYCyfNuExOmfUV6exyyeu7/588vOF7sv7gQ9Le2SA91j8AQHgZ7+POaKuoOCQFBbn2LYwm/VtNTyyS0+d+UwrTl8qmskfkzb33Sben074HAGAkUUnuhUpyAMBooyf5YeOhktxbReNm2VrxtDnZVmREpEzPOkEW5p8rGdYGbkTE8KoLAQChQSV5L1+V5HpCT+VdNa7zVqxYIsuWLbHnBIdK8uHp6GqVbZVPy8aD/7Ln+KfV5gmxGTIz+xSZnXOqpCVMsZcAAAKtJI+64YYbbrKvH6GtrU3i4uLMNFnoiUV0iomJHhcb5wCA8a+hocFsrOpgPdyN+Lq6OsnJybFvhQf9mbx/Lue6r5+1ra3d9DDVndXj4YReKfG51sboyTI98zjp8nRIad3bsr3yOTnUvENiI+Ml2VoeSVgOAGNquGNrfx6Px4y3uqE93J3b2s/b7XaPaGGahuM//emd8sorb5qd0c8885L5TKZOnSKvvvqWWQdZvrw3EHe5XGbejBnTJD8/z8wLVnu7y/x8cXGxEhtLW7Khio6MNa3dcpNnW+sT2ZKTPMu6PUOykoolM2mqpCcUSlpCvrUuolOOxMekSau7ViqbtkhJ9UtS3rjFrIMkx+XQFg7ApKcZt45JOub528FNJbkXKskBAKNtsp24019F33irJO9PW65sq3xWdh56UTq6WqwN0yxZWvRxKUxbKgmx6fQUBYAxQCX52KCSfPR1dXfI/vq1srf2LTlYv97Mi4mKl1k5p5oK85zk2WZeKGiLuXZ3vTS0lUlzR5UUpC2W1Pjh7VgBgJESaCU5IbkXQnIAwGibbCG5P+M9JHd0drfL7urXZVvlU9aGY7X09HgkN2WuTM86XoqtKSGGwBwAxitC8sAQko+d3gC7UfbUvCalte9IbeteU1WuLVjm5p0pM7JOkrjoZPve/ulztZkw/KA0tJdJY1uZuWxwlUtnV5t9L5GoyFhZXHCBLJ7yYYmO4qh8AOGFkDwIhOQAgNFGT/LDJkpI7tBwvKp5p7WB+rap7Gp3N1g/c6TkpsyT4qyVMi3zOHN4NIE5AISev/FmOAjJA0NIHh48Pd3S2F4uu6tfk9K6d6TNXScJMammTctguj1uaXRVSGdXuz2nl67LZCRONaF7SlyuObHonto3xWWt52h7l2Onf9a0ohtp+v60GEFbzwCAP4TkQSAkBwCMNirJD5toIbm3HmsjtbJ5h+yrfUcO1K2V9s5Gs5GZnzrf2pA8QaZlHStx0SkE5gAQ5gjJA0NIHn40zNad95XN200VeKfHZVq06BFwem6Vzm6Xmbr00lqm90+NzzcnJE9PmCppiVNMIO0rlHZ3tcqm8sdlszVp1fqUtCWysvhzI9CCpUfKGjbJ3prXZV/de9b7dktSXJYUpS+TwvSlUpC2SKIjqWQHcCRC8iAQkgMARttkCMm9q/j8VfRN5JC8v4rGzVJa+67sr3vX9C/XnuW60ZlvbdwVZRwjafFTOOknAIQAleRjg5B88tHWLE2uStlw4J+mzYueMHRRwQWypPCj5kSkweuRmtZS2VvzpjW9YQoNRCJkZvZJkhKfJ3Wt+8x6lQbmSoPyovRjZEr6UqrMARiE5EEgJAeA8NXQ0Ch33LFa6usbzO0LLzxHzj//bHG5XHLffQ/KBRecbW2wTjPLxhMqyQ+bTCG5N62IOli/Tg7Ur5e2znrRNi16uLJWRPVWRS0e5sYlAIyN0tL9cvfd90p7u8vcvvLKz8myZUvM/DVrnpPLL19lfd/Hm2XjBSF5YAjJJy9t8VLZtE3e2/eg6WWeFJctK6dfKtMyj7XvEYgeaXHVyJ6a12Vv7ZvS0F5uzYuQzMSpMi/vLCnOOklio4/8uypv3GTWpQ7Wb5CWjmozL9l67cL0JVKUscIE5/ocAPzTbet16zaa6zNnFstVV11mxmqdv2LFEjOOjzeE5EEgJAeA8KRB+OrV98tZZ51qBmXvYDw/P5eQ3EZP8vGuR+qtjcmyhvetaaNUt+w2/TajouIkL2Wu2bjTSQP0CKrMAYQ53bm9evV9smrVxWZ81ts6XmswrtdHKySnknxsEJKj29MlOw49L++X/Vvc3W1SkLpYFhWcZ63vRtv38E3vu6V8jWkNo2KiEmRWzskyO+cMyUoqNvMGoycX1bD8YP16OdS8w8xLjM2QhQXny5zc0yU2anz+TbZ21Epd234pSFtIWxmMiCeffE4qKqrM+OzcVlqcRkhOSA4ACAPeG9bp6Wn23F5Ukh9GJfnE4u5ulYrGrWYjT4NzV2ej9TcSY06WpVNuylzJS50nSbFZtGYBEHb8VYtTSd6LkBwTX4+0dzaZoHx7ZW/YFgg9R0te6nwTaE/PXClRwziiTkP3PdWvy7bKp6XJdciEy7NzPiALCj5k90wf+k602ta95si/6Kg4iYmKl5jIeImNTrKWhG6HnLealt2y/dDz5tw22j++KH25rCy+VFLic81nhaFpddeaHSW6AwZH8heEE5ITkgMAwoQOytu27ZCrr76iLwx3Ksz37Ck1t53DwSorq/oO79bvdOcxzka52rq1t6rEadsyViZbSO6voo+Q3D/dIKto2CIVTVulqnlHX+9NrYzKSZkjeSnzzIlA0xK0n7n/Ki0AGGnOGK1t0r73vav6dnL3b8HijMMbNmySe+55wMzLyEjve4yO/zouvPHGO+Yx3ssCQSX52CAkhzftV64tUFo7au05/kSYAoCU+Bz7duho4YGG5RWNW8x7mpp5rCzM+5DkpS3wGzZrVbs56WnTNlOZric8HYiG5bFR8RJth+e6XjYlfYkUpi0ZcpB+oG6dbDv0jFnv08r8XGt9TyTSWifcI3FRSXLCjC9KYfoxpv87BtfiqpatlU+Z/vZdPW5zZMKUtKXmSE39PfE5St9Y3H8bWcdipwVL/zHamb9ixTFm57dT4FZQkCuvv/7OEcvGCiF5EAjJASC8eW9AO31N/R3OrQO3d7WaE55feukl5rG67N57/yxXXHFpX/A+2qgkP4yQfGhqW/ZaG2rbrQ227WbDzd3Vajb44qJTJCd5tszMPlmS4jLNSr9ulFFpBGAs6KHaTzzx7BE7rXU8f+GF1/r6nPavLNfl69ZtMrd1TNex3bsnqhqrjW1C8sAQkiOcNbZXmPB556EXTEV4RtI0WZh/rszKPlU8PV2m5d0ha/2q0lrP0ku9j9ITgeamzJOEWM2Ljl6v0jZ5nd0d1uSSLo/LWjdrM+to+pxKjwAsTFtmzjmTkVjos32eBvB7at6w3t/T5n3qa0/LPM60islJnmkKIfR9rzvwD3Py9/l5Z8uyqRdb63/J9jOEv5qWXbLd+hlaOmpk8ZQLpSB1wbCOFhiMq6vZ+sxeNO1/OjqbJDWhwByFqUcWdHa3m/toO8N8633o7yY/daHEx0yeLLQ/HXOdc4E54Xb/9qfKuxWL0vFZK811nNfHn3zySrPMeb6LL/7wmFWhE5IHgZAcAMYH3Xj+85//aTa2NQj3Dsm9g3SHs7dbB+gHH3zI2tC+3DxOOYP5WA3Y9CQ/jJB8eOrbDlgbcjtMtdEha4OsvbOhb6NOV/wzrQ3AzKRiyUycbipnEmLSrN/B8P7mACBQujH9xhvvmvFYQ3HvkNwJ0r05R4c9+ODDphrN2QjvH6gPxN94MxyE5IEhJMd4oCH2rppXZFvlM+ZEobFRCaY9i0PXl/JS5pvWL3p+mLgYDaKH9n3S5emUysatcqBhreyvWyuuzmZrbo85qaipYs44xrpcIh3dLSb81jDX1dlkqppnZp8iCwvOk9T4/KPW2RrayuSt0t9LdfMuUxBx4swvSXaShujD+14aSXrOna0VT5sdB9FRsdbn3252IMzJPUOOKfyYOclrKDk7HDZXPCHNrkPmc15S+BFTTKKfrwbkukOkvHGzlFvvrclVaSr2dZmpMk9fKtMzj7M+/95QfbJxwm0Nu88889QjQvL+R3Q7tAL9pJNWHrF9rvoH6qONkDwIhOQAMH5ouK0bzf0HYe/qs/50w9pXSO698T3awjkk18/Gu3qvv/47JIZ6CHx/hOSh1WpO7nTAmkqlrrVUaltKpa2zvi84T4xNl/TEqTI1fZmpqImJSrQ2AnLtqnPCcwCh5V2FpvqH5MrXWNx/nPY1lo8mQvLAEJJjvNlfv9YEqho45yXPNa1NtGVKqGkhQ1nDBtlf956pZHbWyxxaxDAv74MyN/dMiY9N83skoAa6m8sfk60VT0m39W9Z4Sesx54VVr22NYgurX1bth96zgT72iZQQ/G5uaeLx/rZNxx8yFr+rqncXl50sRRlLDd93ofrQP062VT2mNRa68B6BICG49qaxt9za2W7HqWp7Xi0tU6bu960zJmd+wFZkP8hU3Qy2ej2no7XzpFd3iG53vZ1XjDdfvQVknufEHS0BRqSR91www032deP0NbWJnFxcWaaLNzuTjPFxESzcQ4AYUQHZ60kW758iURHR5uB98UXX7MG6dPMBvK2bSUyZ85Mc103trXCLDMzXfLz88wArjtAdb4+7p131svChXPNffV533jjXfnUpz5ulo+FhoYG89o6WA+30q2urk5yckKz8qYrPdpfToPvlSuXm8+9P21fo9U0P/7xd60VpHPM78PX5+hdxeevoq+trV08nh6zs9rX62FoYqMTrQ29fNOnfEbWiaYSSTe6tGIpI2GqqZLRw3j3Whsuu6tflZKql6wNrSfMibX2WRsrunFQ337A2kCoM1VQMZFx5sShtG0BEAjdIH711bfM2K0OHiyX9es3yTnnnGFu7927v29c1+2vRx99SmbOnG7GZ++xWx+j1/W+Ov+Pf/y7LFmywJoC2ykc6kpyj8djxlvd0B7uzu3u7m5r+9M9IQvTtH+8/nxxcbESG0ufX4Q/DceLs06QgtSFkhKfZ/3/PTLroslxWVKQtkjm559jTkqqFeV6Mk5dbzum6CI5ZdaXZUraYhPmDrbOFRkRaVqEaBuXmuZd1jrdm6YoIjt5psRp0UMIv/uGSgNmrdB/Y889srfmDUmISZWlRR+T44s/L4Xp1ne/9myPSpCpGSvMCUj1nDu6Lqq969MTC037mGDev4bcb+39vWytWCOenm7zmsdN/6z1mcyy1n39/071d5CZOM1ub3Oe9fdwvHmOvbVvWT/DW9bjo8x7jR7B1jBjSbeV77zzdzJ1aqEZi9WaNc/LjBnTzJir29wFBXlmG1vH7pqa2r5x3tlGV1r09Morb5oxXe+rO7d1jNd2K87zjjbNuHVM0vUKfzu4qST34lSS60Cu4QrGnu7piYqKtv6Hm3yHtoQb3SDo7NSdSDHD3iDA8OnA093dNWl2ZFZWHjKBrHfVstOTXDmHaXu3VfE+KZjTS00HaO1BrrTHmvJ+nrEQzpXkgx3SrjsZKioODbkKX1dQeuy1D+9135qaOhOSp6amWH/bR29QD7diD77phllTe4U0tB2URleFadvS0F5mwnHdMHDohkxKfL51GWdtuCRKcmyOJMZmmqqaJGuDTy/pfT42XK7eE4hR5BF+JvPvRsduDbh1HFE6jvT2JJ9qPpff/e4+2bNnnxx77DHypS991hpTNltj9OFxXqvTdHz5/e//IuXllWa8UbrR/fWvXz7oZzpS4RCV5IHRMb2zs4tK8jCjf3NqMhVDjgeh+L1oxfba/X+TPTWvS1REjBxf/AWZmrli1APdVnetbK14UnZXv256pmurGg2cp6Qu8luZr6H6+oP/NIUaWshxTNHHZUbWySbsH0x7Z6OpAt9x6Fk5UL/emtMjs3O0+vs8sxMiGN6/E+2h/n7Zo1LeuEVykmeZqnRtw6PvM1DaVkbXsbWVTkbiNFNRP1wdXc1S2aQnknVJSkKepMUXDKs3vW5D6/is29HOtrL3CTedo4i1oOnLX/+0FBbly9/+vEbWrd1kljvnHtEgXCvJdVvceZ7+JwIdbbRbCQIhefjRwzFycrIIycOAhuSHDtVIXl42IXkY0JBcW1Po4ccI3Fgfou3LeA7JnZ0TDl8rP1rBp5ywQm/rRrMehu3oXdZjAnJH/3BDgwgCwNGlJ5xq7jgkTR1l0uQqt1bsy8TtsVaeuxql09Nu/S6PPDxYRUfGSXx0uiTGZEh8TJp1vXeKsyY9fDg+OtW6zDQbbwid1tY2U8Gj67AIL1r53N3tISQchr/85SFr/TNHzjrrA/acwSUnJx4x7oQyMCckDwwheXjS34v+/5CVNfyADqGjuUdmprW+FIKdF/vq3pO1+/8iLa5qc0L3/vQEmdpCpLeSO970YdcTvafEF0hqfJ49FUhMdILfwgePp9MckVjTulfqWvdJXZs1WZdafKGmZiy3TzaqFdyBr59oaxY9KWlvD/GlsnzqReacOk5PcA2bG6110uqWPdZUIlXWpP3knZOj6tGTGmKnJxRZf+vBb1tpNtjS0ib5+b1H6XZbz68B/qayR6z142rzOnrSUT0CYSAaXmvPc23lc6BundmBoLRafdGUC0wVfTCtcfRnPVi/wQT3tdbn700LVlLickxhi1a9pyXo7zXfTMEE6BrqN7SXmwKa+rb9pmVOo3VbA3pd7y/KWCaLCy6UrOQZ9iN8t1sZa4TkQSAkDz+E5OGDkDy8EJIHh5B8aAYLyTX80WoD/Sz1vlqlf8UVlwa9MqTfMfpdQ0/y8NQ7JmeaMFY3jNqtlWat3GlzN5iThJrJut5mLutNRY+e/MpnmG5tlGlorieYSo63xpWI3sNftdpJV+51Jb536r0eH5Padx8cTf/f0f9n0tImz3r7eFFf32iOxMvNDe3JyCaT/j3JxxoheWAIycMTIXl4CmVIrrQqe2/Nm+aowM5ulyl86L10S6e53m4CXDOvu8NnmK7FDhqYa9jqhOcajNa37pe6tv2mKlqfT2kIri1S9GSXGgDnpy4yAW2wJ7ts7aiVDQcfln1175q/1xlZJ5lAVs+zU9Oy17x/R0biVPvkqr195BNiMoYVjjv6h+QOXd/V1oQl1S/rXliZn/8hmZPzAUmI7c0QNVTW1jEailc0bTG3lel1nzLP/C4qm7ab35G21Vk8RavS51rbgYGt51a37JLN5Y9LecMms26cn7bQ+uyLzHtxdTWZz07XwfXS2WGhNIzXqnpdz/amz6FHieoOk2h750mntf7e1F5pgnHn/Tu0el6PINX1eP370dfSnSkzsk+U+XkfMqF8MCG5/i2N5FEPkyYkd8r9lfdhAMEgJA8/hOThg5A8vBCSB4eQfGgGC8n70yBjxYolftvX+KvoIyQPb94heaB0I0Y3AszKurvGXmnX69Y8V7UJ2Z3Kn8HoBpgTmh81xeilLks1FVFOdZRTKaUr3aHYYApXhOThi5B8+IYakpc1bLS+V3qkKH2p+f+eSvKxQUgengjJw1OoQ/KhanXXmfWzlo5a+1LX1TRsrbamKnOCUIf27dYTv2sg3huKTzdVykNpPRIorSpff+Af5gSnStfpsqzXy02ZawLnnJQ55v2MhIFCckdtyx7ZVP6YNeZsEu1hrxXzLda6bk3LbnF3tZkwOjd5jhRaY9GUtCWSHJ/Tt9NAWxxurXzKnLy129NtAuZFBef7rUpvdlXJ9spnZU/tGyac1gpufYwWnAy0juvqarZ/h73r3+3uRrOjQ9vgdHS12pct5v32Xx/X0D4pNksyEous91VoLvX3rlXqusPC4YT2ZQ3vm+BcTzibE7dc7vu/fwYUkut2wksl/y3VzSWm+v/YaZ82P1uoTYqQvP/eieFWGRCShx9C8vBBSB5eCMknjvEWkutYqy666EJ5+OEnrDH4IrOMSvKJL5iQPBDOCrqZOr2um6nVWnHvvdTA3UwerXrqrYLy+KhSH4iu0JsqGa8Ave+212HH0VpN473MmjSg10ob3bjRkz7pdefSXDe3xy6IJyQPX4Tko8fj6ZLHN99oAh2tmNPg5uRZV5qN9lAiJA8MIXl4IiQPT2Mdkg9Gq4k1zNRAWs9HE2yFeDC0IrqqZZckxWZIZtL0IwLakTRYSK703D0adL9f9oiprNcwWavDNRjX0Lx/1XZ/vQHzGlMVHhudIHPzPmiq0r37lbutdWDtM7+t8llpclWaE7UunvJhcxnKHRMavGuoruvd2hZRq8UDbQXT7XHLgYYN1s/yhNl5oIG69oPXE9MOthPj6a0/k0NN283RDPpzp1ufoZ68Vv/OQmlShORaRf7CC6/JVVddZjbQ+98eKkLy8ENIHj4IycMLIfnEEY4huQbe3ic+Vdpv/MwzT5XVq+83Vfgakm/fXiIPPPAPs9w5UUv/gNxXT3K97quyj5A8vI1USD4c2h+y73BhT4e57Oxq6wvYjwzcvafe0L3H68SkoaIbjlp9o8G5Xjohuq/r5rZz3XmMj/kmnLc2WA4/h/MavfOaGtrMhnUgQZQeEqth/hGvYabD7zvK2gDVZRi+iRqS68Zst/X/nFYXavWZTn3XzWV33xRqvc/rvM7h1z1Qv85U9Ol1PXpEK95mZZ8i8/LOPmq8GQ5C8sAQkocnQvLwFO4h+WQUSEju0HVLpUczRgSxA6G8cZNsKn9cqpp3SnrCFFlUcIEUph9jbut8rU7Xqn2tHC9MX2YKOMKR7kzZXf2abD/0nKlgz0mebQJ93WngBPrailHDfu1t3tB2wFTUO9uLGspr+K/92vVIgVCaNCH5unWb+lqsDOWwcF1Z7a+11SXt7b29jUK5IoXghfrwSAwPv4/wwu9jdMTGxozojtNwriQfbU5IrjtG2RkXftzuTmulMnpCfe/0hW3WpIG5RzR4sy/7llmXHrcJ4bt6XKZapqvHum4Cwt5w3ly35mlo76zoD8Z5Pb3Ux+nr9NjvRa9393SaZeOFBu8mtLc2DnUDMVLs4D1C/2ac67rhODb/b+tfrbNzwHqnve8p0nmfve9P5+kOiGA2cAeiJ+3USHm4YWp/+nfWI/q3af29WJe9fzvO36xz3Zqv9wn4iAvrOe3n6P1bdp7PvrT+XvXvfzyIsH6z2ckzpSB9kSwvusSeGxqE5IFxQnL9jKKiGNPDhf5OlI7nCB+6jsX6b3jR8bu7u9tsC44GHV8rW9+X3fXPm5PmO5Jj86Q47QMyJWW5xEYN/cSbY6HFXSl7G16W8uZ1Zv0hJa7AvPcWd5W4uurNeoVDx+uYqESJj0qXDk+j6Su/YuqnTI/7UJoUIfmTTz5n9rgFE5JrBWZ/Hk+P2TgHAMChK0YjWW0zWULyQHbqaMWlnggUAIDheKP8F6b/67z8D5rDvXX8CVVxASF5YJqbW0wVJgAAg6lzlciupsdkRvbJsrTwo/bc0Jk0leShbLeiNHTXdivswQsPeqi/HnIUGUm1bDjQ34e2VMDY0x16HR1ufh+jJD091b4WelSSH6Yb1K2t7ebQbISfxsZmSU5OoiIwDDU1NUt0dIwkJjImhJu2tnZTjZaS4r8vKULjYMMGqWzaJg0du6U4+3hrQ/tj9pLQISQPjO701p3fnCshvDg7LpKTaYETTnQdKykpIaxa2k12+v3c0dHJdsko6Oxql6aOKmt7ONYcBTYSJkVIHuoTdyoNybOzMzn8KEz09j+lJ3k4oCd5eKEn+cQx2SrJvSv59Lpy5uu5QdratPcff9fhSMdk7atMSB5+OHFn+GpoaDKH0efmZtlzMBq0T7n21e8/zlBJPnqckJx11fBCT/LwpOtY9CQPL0PpSY7wF2hIPq63cvTEYRqQ68nFrrnmOjNvOAE5AAAYGU4w4R1Q6HXv+b1Xhx9gIPScdnR23gRgSPgfZ7Q5J57tP84AAAAMZNyXAmkF+W233Sx33XVrX29yAAAQnpyqvv6XvY4OMI5czu2xuu0c5dDT7wSAoXp+B7eDva2XetLFYB/fi9uhv+09L5jHe+P28G4DAAD4w/GyAABg1PSv6POu7PNV5Ne/8o/bY33bvmIL/fNz21vgt/XycMWsg9vhcFvbfHjfPozbo3sbAADAH0LyfliZCi/8PsILv4/wwu8D44lT0eersu/wMv27NlcRhvjOAYIRmj7YGDoqyccef/tAYPh/BQgP4/rEnQAAjHeT5cSdAABMBJy4EwCA8WVSnLgTAACMD/0ryb0vncm5zSWXXHLJJZehvgQAAPCHkBwAAIw45zBSX5fO5NzmkksuueSSy1BfAgAA+ENIDgAARlwglX1U+wEAQoUxBQAADAUhOQAAGHGBVPZR7QcACBXGFAAAMBSE5AAAYMQNVEnOJZdccskllyN16VxX3tcBAAD6IyQHAAAjbqBKci655JJLLrkcqUvnuvK+DgAA0B8hOQAAGHG+Kvy8LwEAGAmMNwAAIBCE5AAAYMT5qvDzvgQAYCQw3gAAgEAQkgMAgBE3UAU5l1xyySWXXI7WpXMdAACgv4iOjg6fawo1NTWSkpJipsmgoaFR7rhjtdTXN0hGRrp873tXSXp6mr0Uo+XJJ5+TN95494jP3+VyyerV98uePaWSkBAvV199hRQXTzPLMHL0d/HEE8+a6ytWHCOXX77KXOf3MTa8fx8zZxbLVVddJvHx8fw+JoDS0lJJS0uzfn8JEhk5vH3Xu3btkoULF9q3xpcNGzbJPfc8YK57f+dg7DAmh6fS0v1y9933Snu766h1Vu+x4sIL/3979xNiV3XHAfwkw5CZkD8TAtHZlChYTECqgW7EjdIupF3psm5as2nqpkEpjUgRhVIUV0o3xpVk1+ySTVvdiJvCiHQhdIJklUzMJCQ4iTPJJOn73nl38hKdVsy8uTfvfj7w4L47s7q/c8/vnt8597yfl2ef/Vl1zMYYHE/EwYMvlMcff6w61seNjuXl5TI7O9vr+/aWsbGx/tkfpjcWLwsLC2V6erp/ZjRo7+1R90tPPvnTO3KCGDXHOLudPvjgWJmZ+bw6HoyLWuFoSI07OXdqaqqMj4/3z36bleR9x4+fqBLHu+/+pTz//C+rGySdFBtnMFkM+vjjT6pOKLFJojh27G9VR8XwJBZnz35VXfO33369ut55kArx2Hi59nU88sn1TxxCPBgFabMnT/6jvPzy76q2HOmHaI6c3E4pkOeav/rq4SoGeXbNM2z9t88++3d5880jVe7+4ovZ1dzN8GXckNi8+OKvqtikP0u/lvtDH9ceVpIPn/beHonF4MRdTYyak+tsnN0+icv09J7vjItaYbcokvfkBpibO1f27ftx9T2zdWn0c3NfVd/ZGJnZzsAus3O1xCGDvAMHVlbhPPjgnmr1bAaCDE9iUc+c5nrv2/dIL5mfE4+GZBXa4AqD9FnT0w+IByMjbTZtN2040qbTttPGaYac3E55Rj1y5PfVIDry7Jq4rMTmP72YPFD9rc7dMzOK5Bsl1/zQod+srvpLrs65iYkt+rgWsS/58Gnv7ZF88MYbf6zeLBokRs0xzm6nxCWfWFxcquKR+0etsHsUyfvSAdUDjjzM1sc0bzAeg3FiYyQxZGVanRjEoxmJw2uv/bn6PPfcL1Zf3xYPRkXabtrw7eMt1THtos9pl48++qQ89NCPVu+drIKqZTKVjZfVaC+99IdqguLw4d/e1a/p4+gG7b39xKh5xtntkgmJV175U/X2xeCk92AsBmPEaFIk70nnZNa0nTKLl/jQjNwXeZ3oiSce68+aikdTkoyzEiSfvPKVQbh4MCqygob20+e0S/JA4vH0009V3/P6Ns3LSrS8kp3VgJnYToz0cXSJ9t5+YtQ84+z2SRzeeuv1as/xFMqz3UpiolbYLYrkPfVMUN0p6aDaIzN1mbm7HZuVrSYYvlzr/HBI7o/61SPxaF6u/zPPPFW9jld/Fw/ud1nxmrZbP4SuHC9Vx7SHHNAeKZB/+um/qle2E5PIKvLBQrkiSLMeffSRaruirEzTx7WHPcmHT3tvPzFqVq67cXZ7JS7ZgzxvhKkVdo8ieU8afvZwzF6OcfceXTQncRjcUzN7PyVh1K++MByDibveMy3EoxkphuRTqxN2PuLBKFhZQXN7f7+06bTtuvhHO8gB7VAXyLPSqR68RV7Xzr6ZK8WOO/c2Zfhy3d9556+rg+fcH/mxvMRIH9ce9iQfPu29/cSoObnuxtntk1X99Q915rrnGSqLDxIntcJu2bS0tPSd0+nz8/Nl+/bt1acL6s7qyy9PV6s+7h54MFwZUNz9y9sHDvxkNXGk05qZ+bxMTk5Uv/QsWQxXBuAnTvy9/23Fww/vLYcO/bpKCuKxsVL0OHnyn9U1j8FYhHjc306fPl127tzZi99k2bz53uauT506Vfbv39//dn/JQ+d77x0t33yzeEf/z8aTk9tr8D6pDcYhA7z33/+wOp8faqtXqDF8uW9S1Dh69MPV+Bw8+MLqb4jo49ohK8nvtVC+vLxcZmdne/fc3jI2NtY/+8P0xuJlYWGhTE9P98+MBu29He4e0w3mCzFqhnF2+6QWmBx+7Njxqh4Yg/eEWuFoSI07OXdqaqqMj4/3z36bIjkANEiRHADuH4rkAHB/+b5FctutAAAAMPLsSQ4ArEWRHAAAgJFnT3IAYC2K5AAAAAAAdJYiOQAAAAAAnaVIDgAAAABAZymSAwAAAADQWYrkAAAAAAB0liI5AAAAAACdpUgOAAAAAEBnKZIDAAAAANBZiuQAAAAAAHSWIjkAAAAAAJ21ZpF8bGysXLt2rf8NABiG5Nrk3PVw8+bNsry83P8GAKy3Om9v2rSpf+beXL9+vX8EAAxDcu33yd1rFsknJyfLuXPnysLCQv8MALBebty4Uebm5sr4+HiZmJgomzff+8tdU1NT5cyZMwbcADAEi4uL5ezZs1W+XY8i+ZYtW8rVq1fLhQsXyq1bt/pnAYD1cunSpXLx4sWyY8eO/7s4bdPS0tKa2fjrr7+uEnbvf/pnAID1kKL4tm3byp49e9ZtJXmcP3++XL58uSrCAwDrJxPbu3btqj7rJWPt+fn5cuXKFYVyAFhHmdDOIvDdu3eXrVu39s+u7X8WyQEAAAAAYJT54U4AAAAAADpLkRwAAAAAgM5SJAcAAAAAoLMUyQEAAAAA6CxFcgAAAAAAOqqU/wLn7W96vF+VvgAAAABJRU5ErkJggg==)"
      ],
      "metadata": {
        "id": "b3BLiImaD7hY"
      }
    },
    {
      "cell_type": "markdown",
      "source": [
        "![image.png](data:image/png;base64,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)"
      ],
      "metadata": {
        "id": "TqQ7pAGhEEEz"
      }
    },
    {
      "cell_type": "code",
      "source": [],
      "metadata": {
        "id": "TPwU_aOnD7SC"
      },
      "execution_count": null,
      "outputs": []
    },
    {
      "cell_type": "markdown",
      "source": [
        "# Висновок\n"
      ],
      "metadata": {
        "id": "YhUXrilVxu2o"
      }
    },
    {
      "cell_type": "markdown",
      "source": [
        "MixMatch — це напівконтрольований алгоритм навчання, розроблений для покращення продуктивності нейронних мереж у сценаріях, де позначених даних мало. Алгоритм використовує комбінацію методів, включаючи змішання, регулярізацію узгодженості та псевдо-мітки, щоб ефективно використовувати як мічені, так і немічені дані. MixMatch вирішує проблему навчання глибоких нейронних мереж у напівконтрольованому середовищі, заохочуючи модель виробляти узгоджені прогнози на розширених представленнях як мічених, так і немічених зразків.\n",
        "\n",
        "Ключові компоненти MixMatch включають використання змішування, техніки доповнення даних, яка поєднує пари мічених і немічених зразків, створюючи синтетичний тренувальний сигнал. Цей процес спонукає модель вивчати більш надійні та узагальнювані представлення. Крім того, регулярізація узгодженості застосована для забезпечення узгодженості прогнозів у різних доповненнях того самого входу, підвищуючи здатність моделі до узагальнення.\n",
        "\n",
        "Псевдомітки є ще одним важливим аспектом MixMatch, де модель генерує псевдомітки для немічених зразків на основі своїх поточних прогнозів. Потім ці псевдомітки використовуються для створення розширеного навчального набору, додатково використовуючи дані без міток для покращення навчання. Алгоритм вводить температурне масштабування для контролю достовірності призначень псевдоміток.\n",
        "\n",
        "MixMatch демонструє свою ефективність за допомогою експериментів на різних контрольних наборах даних, демонструючи значні покращення в точності класифікації порівняно з традиційними підходами до навчання під наглядом, особливо коли дані з мітками обмежені. Успіх алгоритму полягає в його здатності ефективно використовувати як мічені, так і немічені зразки, демонструючи його корисність у сценаріях, коли отримати великі обсяги мічених даних є складним завданням.\n",
        "\n",
        "Підсумовуючи, MixMatch виділяється як багатообіцяючий підхід у сфері напівконтрольованого навчання, забезпечуючи практичне рішення для покращення продуктивності глибоких нейронних мереж, коли мічених даних мало. Його поєднання стратегій змішування, регулярізації узгодженості та псевдоміток пропонує надійну структуру для навчання моделей на обмежених наборах даних із мітками, одночасно використовуючи потенціал великої кількості немаркованих даних для підвищення точності узагальнення та класифікації.\n",
        "\n",
        "Аналіз результатів показав, що при навчанні на повному наборі даних модель показала точність в 98.46%, а при напівконтролюованому навчанні точність в 97.82%.\n",
        "Порівняння методів простого навчання та спільного навчання підкреслює фундаментальну різницю у використанні даних для модельного навчання.\n"
      ],
      "metadata": {
        "id": "fhBPooxI8V7B"
      }
    },
    {
      "cell_type": "code",
      "source": [],
      "metadata": {
        "id": "Ou5RQHd1tDAn"
      },
      "execution_count": null,
      "outputs": []
    }
  ]
}